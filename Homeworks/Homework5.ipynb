{
  "nbformat": 4,
  "nbformat_minor": 0,
  "metadata": {
    "kernelspec": {
      "display_name": "R",
      "language": "R",
      "name": "ir"
    },
    "language_info": {
      "codemirror_mode": "r",
      "file_extension": ".r",
      "mimetype": "text/x-r-source",
      "name": "R",
      "pygments_lexer": "r",
      "version": "3.6.2"
    },
    "colab": {
      "name": "Homework5.ipynb",
      "provenance": [],
      "collapsed_sections": []
    }
  },
  "cells": [
    {
      "cell_type": "markdown",
      "metadata": {
        "id": "szkkhiCZDF52"
      },
      "source": [
        "# Homework 5:  Linear models, continued\n",
        "This homework assignment is designed to give you a deeper understanding of linear models. First, we'll dive into the math behind the closed-form solution of maximum likelihood estimation. **In the first section below, write your answers using Latex equation formatting.**\n",
        "\n",
        "*Note: Check out [this page](https://gtribello.github.io/mathNET/assets/notebook-writing.html) and [this page](https://towardsdatascience.com/write-markdown-latex-in-the-jupyter-notebook-10985edb91fd) for resources on how to do Latex formatting. You can also double click on the question cells in this notebook to see how math is formatted in the questions.*\n"
      ]
    },
    {
      "cell_type": "markdown",
      "metadata": {
        "id": "QJscNReoylRt"
      },
      "source": [
        "## Deriving the Maximum Likelihood Estimate for Simple Linear Regression (6 points)"
      ]
    },
    {
      "cell_type": "markdown",
      "metadata": {
        "id": "nH82gwuymPi0"
      },
      "source": [
        "Using the mean squared error (MSE) as your objective function (the thing you're trying to minimize when you fit your model) allows for a closed form solution to finding the maximum likelihood estimate (MLE) of your model parameters in linear regression. Let’s consider the simple, single predictor variable model, i.e. simple linear regression :  $Y= \\beta_0 + \\beta_1 X $. \n",
        "\n",
        "a) Use algebra to show how you can expand out $MSE(\\beta_0, \\beta_1)$ to get from i to ii below.\n",
        "\n",
        "> _i)_ $E[ (Y-(\\beta_0 + \\beta_1 X))^2]$\n",
        "\n",
        "> _ii)_ $E[Y^2] -2 \\beta_0E[Y]-2 \\beta_1 Cov[X,Y]-2 \\beta_1 E[X]E[Y]+ \\beta_0^2 +2 \\beta_0 \\beta_1 E[X]+\\beta_1^2 Var[X]+ \\beta_1^2 (E[X])^2$\n",
        "\n",
        "\n",
        "\n",
        "\n"
      ]
    },
    {
      "cell_type": "markdown",
      "metadata": {
        "id": "dn2hveNho-Of"
      },
      "source": [
        "**Answer:**\n",
        "\n",
        "$E[(Y-(\\beta_0 + \\beta_1 X))^2]$ \n",
        "\n",
        "$= E[Y^2 - 2Y(\\beta_0 + \\beta_1X) + (\\beta_0 + \\beta_1X)^2]$\n",
        "\n",
        "$= E[Y^2 - 2Y\\beta_0 - 2Y\\beta_1X + \\beta_0^2 + 2\\beta_0\\beta_1X + \\beta_1^2X^2]$\n",
        "\n",
        "$= E[Y^2] - 2\\beta_0E[Y] - 2\\beta_1E[XY] + \\beta_0^2 + 2\\beta_0\\beta_1E[X] + \\beta_1^2E[X^2]$\n",
        "\n",
        "$= E[Y^2] - 2\\beta_0E[Y] - 2\\beta_1Cov[X,Y] - 2\\beta_1E[X]E[Y] + \\beta_0^2 + 2\\beta_0\\beta_1E[X] + \\beta_1^2Var[X] + \\beta_1^2(E[X])^2 $\n",
        "\n",
        "\n"
      ]
    },
    {
      "cell_type": "markdown",
      "metadata": {
        "id": "GCr46r9xwRXP"
      },
      "source": [
        "b) Prove that the MLE of $\\beta_0$ is $E[Y]- \\beta_1 E[X]$ by taking the derivative of _ii_ above, with respect to $\\beta_0$, setting the derivative to zero, and solving for $\\beta_0$."
      ]
    },
    {
      "cell_type": "markdown",
      "metadata": {
        "id": "Ul-PZyLbwTCQ"
      },
      "source": [
        "**Answer:**\n",
        "\n",
        "$ 0 = \\frac{\\partial E[(Y-(\\beta_0 + \\beta_1 X))^2]}{\\partial\\beta_0}$\n",
        "\n",
        "$ 0 = 0 - 2*1*\\beta_0^{1-1}*E[Y] - 0 - 0 + 2*\\beta_0^{2-1} + 2 * 1 * \\beta_0^{1-1} * \\beta_1E[X] + 0 + 0$\n",
        "\n",
        "$ 0 = -2E[Y] + 2\\beta_0 + 2\\beta_1E[X]$\n",
        "\n",
        "$ 0 = -2(E[Y] - \\beta_0 - \\beta_1E[X)$\n",
        "\n",
        "$ 0 = -2(E[Y] - \\beta_0 - \\beta_1E[X)$\n",
        "\n",
        "$ 0 = E[Y] - \\beta_0 - \\beta_1E[X]$\n",
        "\n",
        "$ \\beta_0 = E[Y] - \\beta_1E[X] $\n"
      ]
    },
    {
      "cell_type": "markdown",
      "metadata": {
        "id": "-uv4Z7afw4gB"
      },
      "source": [
        "c) Prove that the MLE for $\\beta_1$ is $Cov[X,Y]/Var[X]$ by taking the derivative of equation _ii_ above, with respect to $\\beta_1$, setting the derivative to zero, and solving for $\\beta_1$. *Hint: after you've simplified / expanded a bit, plug in the solution for $\\beta_0$ from part b.*"
      ]
    },
    {
      "cell_type": "markdown",
      "metadata": {
        "id": "sWTFZ6ZSw6sh"
      },
      "source": [
        "**Answer:**\n",
        "\n",
        "$0 = \\frac{\\partial E[(Y-(\\beta_0 + \\beta_1 X))^2]}{\\partial\\beta_1}$\n",
        "\n",
        "$0 = 0 - 0 -2*1*\\beta_1^{1-1}*Cov[X,Y] - 2 * 1 * \\beta_1^{1-1}E[X]E[Y] + 0 + 2 * \\beta_0 * 1 * \\beta_1^{1-1} + 2*\\beta_1^{2-1}*Var[X] + 2*\\beta_1^{2-1}(E[X])^2$\n",
        "\n",
        "$0 = -2Cov[X,Y] - 2E[X]E[Y] + 2\\beta_1Var[X] + 2\\beta_1(E[X])^2 +2\\beta_0$\n",
        "\n",
        "$0 = -2Cov[X,Y] - 2E[X]E[Y] + 2\\beta_1(Var[X] + (E[X])^2) + 2\\beta_0$\n",
        "\n",
        "$0 = -2Cov[X,Y] - 2E[X]E[Y] + 2\\beta_1(E[X^2]) +2\\beta_0$\n",
        "\n",
        "$0 = -2Cov[X,Y] - 2E[X]E[Y] + 2\\beta_1(E[X^2])+2(E[Y] - \\beta_1E[X])$\n",
        "\n",
        "$0 = -2Cov[X,Y] - 2E[X]E[Y] + 2\\beta_1(E[X^2])+2(E[Y]) - 2\\beta_1E[X]$"
      ]
    },
    {
      "cell_type": "markdown",
      "metadata": {
        "id": "66X264ZpDF58"
      },
      "source": [
        "---\n",
        "## Connecting to data (4 points)\n",
        "\n",
        "Now let's connect this to some real data. Once again we'll be using the  **unrestricted_trimmed_1_7_2020_10_50_44.csv** file from the *Homework/hcp_data* folder in the class GitHub repository. \n",
        "\n",
        "​\n",
        "This data is a portion of the [Human Connectome Project database](http://www.humanconnectomeproject.org/). It provides measures of cognitive tasks and brain morphology measurements from 1206 participants. The full description of each variable is provided in the **HCP_S1200_DataDictionary_April_20_2018.csv** file in the *Homework/hcp_data* folder in the class GitHub repository. \n",
        "\n",
        "a) Use the `setwd` and `read.csv` functions to load data from the **unrestricted_trimmed_1_7_2020_10_50_44.csv** file. Then use the `tidyverse` tools make a new dataframe `d1` that only inclues the subject ID (`Subject`), Flanker Task performance (`Flanker_Unadj`), and total grey matter volume (`FS_Total_GM_Vol`) variables and remove all _NA_ values.\n",
        "\n",
        "Use the `head` function to look at the first few rows of each data frame. "
      ]
    },
    {
      "cell_type": "code",
      "metadata": {
        "id": "D487RxV-n-BD"
      },
      "source": [
        "library(tidyverse)\n",
        "library(broom)"
      ],
      "execution_count": 13,
      "outputs": []
    },
    {
      "cell_type": "code",
      "metadata": {
        "id": "PZ0lngBjDF58",
        "outputId": "57e82e65-cc78-4355-9768-d4df64e8a13c",
        "colab": {
          "base_uri": "https://localhost:8080/",
          "height": 569
        }
      },
      "source": [
        "system(\"gdown --id 1ebJ2y4NuAcCD70-_v9DrIveuRN9qNr9G\")\n",
        "HCP_data = read.csv(\"unrestricted_trimmed_1_7_2020_10_50_44.csv\")\n",
        "\n",
        "head(HCP_data)\n",
        "\n",
        "d1 <- HCP_data %>% select(Subject, \n",
        "                          Flanker_Unadj, \n",
        "                          FS_Total_GM_Vol) %>%\n",
        "                                            filter(!is.na(Subject),\n",
        "                                                   !is.na(Flanker_Unadj),\n",
        "                                                   !is.na(FS_Total_GM_Vol))\n",
        "head(d1)"
      ],
      "execution_count": 15,
      "outputs": [
        {
          "output_type": "display_data",
          "data": {
            "text/plain": [
              "  Subject Release Acquisition Gender Age   MMSE_Score PSQI_Score PSQI_Comp1\n",
              "1 100004  S900    Q06         M      22-25 29         8          1         \n",
              "2 100206  S900    Q11         M      26-30 30         6          1         \n",
              "3 100307  Q1      Q01         F      26-30 29         4          1         \n",
              "4 100408  Q3      Q03         M      31-35 30         4          1         \n",
              "5 100610  S900    Q08         M      26-30 30         4          1         \n",
              "6 101006  S500    Q06         F      31-35 28         2          1         \n",
              "  PSQI_Comp2 PSQI_Comp3 ⋯ Noise_Comp Odor_Unadj Odor_AgeAdj PainIntens_RawScore\n",
              "1 2          2          ⋯ 5.2        101.12      86.45      2                  \n",
              "2 1          1          ⋯ 6.0        108.79      97.19      1                  \n",
              "3 0          1          ⋯ 3.6        101.12      86.45      0                  \n",
              "4 1          0          ⋯ 2.0        108.79      98.04      2                  \n",
              "5 1          0          ⋯ 2.0        122.25     110.45      0                  \n",
              "6 1          0          ⋯ 6.0        122.25     111.41      0                  \n",
              "  PainInterf_Tscore Taste_Unadj Taste_AgeAdj Mars_Log_Score Mars_Errs\n",
              "1 45.9              107.17      105.31       1.80           0        \n",
              "2 49.7               72.63       72.03       1.84           0        \n",
              "3 38.6               71.69       71.76       1.76           0        \n",
              "4 52.6              114.01      113.59       1.76           2        \n",
              "5 38.6               84.84       85.31       1.92           1        \n",
              "6 38.6              123.80      123.31       1.80           0        \n",
              "  Mars_Final\n",
              "1 1.80      \n",
              "2 1.84      \n",
              "3 1.76      \n",
              "4 1.68      \n",
              "5 1.88      \n",
              "6 1.80      "
            ],
            "text/latex": "A data.frame: 6 × 500\n\\begin{tabular}{r|lllllllllllllllllllll}\n  & Subject & Release & Acquisition & Gender & Age & MMSE\\_Score & PSQI\\_Score & PSQI\\_Comp1 & PSQI\\_Comp2 & PSQI\\_Comp3 & ⋯ & Noise\\_Comp & Odor\\_Unadj & Odor\\_AgeAdj & PainIntens\\_RawScore & PainInterf\\_Tscore & Taste\\_Unadj & Taste\\_AgeAdj & Mars\\_Log\\_Score & Mars\\_Errs & Mars\\_Final\\\\\n  & <int> & <chr> & <chr> & <chr> & <chr> & <int> & <int> & <int> & <int> & <int> & ⋯ & <dbl> & <dbl> & <dbl> & <int> & <dbl> & <dbl> & <dbl> & <dbl> & <int> & <dbl>\\\\\n\\hline\n\t1 & 100004 & S900 & Q06 & M & 22-25 & 29 & 8 & 1 & 2 & 2 & ⋯ & 5.2 & 101.12 &  86.45 & 2 & 45.9 & 107.17 & 105.31 & 1.80 & 0 & 1.80\\\\\n\t2 & 100206 & S900 & Q11 & M & 26-30 & 30 & 6 & 1 & 1 & 1 & ⋯ & 6.0 & 108.79 &  97.19 & 1 & 49.7 &  72.63 &  72.03 & 1.84 & 0 & 1.84\\\\\n\t3 & 100307 & Q1   & Q01 & F & 26-30 & 29 & 4 & 1 & 0 & 1 & ⋯ & 3.6 & 101.12 &  86.45 & 0 & 38.6 &  71.69 &  71.76 & 1.76 & 0 & 1.76\\\\\n\t4 & 100408 & Q3   & Q03 & M & 31-35 & 30 & 4 & 1 & 1 & 0 & ⋯ & 2.0 & 108.79 &  98.04 & 2 & 52.6 & 114.01 & 113.59 & 1.76 & 2 & 1.68\\\\\n\t5 & 100610 & S900 & Q08 & M & 26-30 & 30 & 4 & 1 & 1 & 0 & ⋯ & 2.0 & 122.25 & 110.45 & 0 & 38.6 &  84.84 &  85.31 & 1.92 & 1 & 1.88\\\\\n\t6 & 101006 & S500 & Q06 & F & 31-35 & 28 & 2 & 1 & 1 & 0 & ⋯ & 6.0 & 122.25 & 111.41 & 0 & 38.6 & 123.80 & 123.31 & 1.80 & 0 & 1.80\\\\\n\\end{tabular}\n",
            "text/markdown": "\nA data.frame: 6 × 500\n\n| <!--/--> | Subject &lt;int&gt; | Release &lt;chr&gt; | Acquisition &lt;chr&gt; | Gender &lt;chr&gt; | Age &lt;chr&gt; | MMSE_Score &lt;int&gt; | PSQI_Score &lt;int&gt; | PSQI_Comp1 &lt;int&gt; | PSQI_Comp2 &lt;int&gt; | PSQI_Comp3 &lt;int&gt; | ⋯ ⋯ | Noise_Comp &lt;dbl&gt; | Odor_Unadj &lt;dbl&gt; | Odor_AgeAdj &lt;dbl&gt; | PainIntens_RawScore &lt;int&gt; | PainInterf_Tscore &lt;dbl&gt; | Taste_Unadj &lt;dbl&gt; | Taste_AgeAdj &lt;dbl&gt; | Mars_Log_Score &lt;dbl&gt; | Mars_Errs &lt;int&gt; | Mars_Final &lt;dbl&gt; |\n|---|---|---|---|---|---|---|---|---|---|---|---|---|---|---|---|---|---|---|---|---|---|\n| 1 | 100004 | S900 | Q06 | M | 22-25 | 29 | 8 | 1 | 2 | 2 | ⋯ | 5.2 | 101.12 |  86.45 | 2 | 45.9 | 107.17 | 105.31 | 1.80 | 0 | 1.80 |\n| 2 | 100206 | S900 | Q11 | M | 26-30 | 30 | 6 | 1 | 1 | 1 | ⋯ | 6.0 | 108.79 |  97.19 | 1 | 49.7 |  72.63 |  72.03 | 1.84 | 0 | 1.84 |\n| 3 | 100307 | Q1   | Q01 | F | 26-30 | 29 | 4 | 1 | 0 | 1 | ⋯ | 3.6 | 101.12 |  86.45 | 0 | 38.6 |  71.69 |  71.76 | 1.76 | 0 | 1.76 |\n| 4 | 100408 | Q3   | Q03 | M | 31-35 | 30 | 4 | 1 | 1 | 0 | ⋯ | 2.0 | 108.79 |  98.04 | 2 | 52.6 | 114.01 | 113.59 | 1.76 | 2 | 1.68 |\n| 5 | 100610 | S900 | Q08 | M | 26-30 | 30 | 4 | 1 | 1 | 0 | ⋯ | 2.0 | 122.25 | 110.45 | 0 | 38.6 |  84.84 |  85.31 | 1.92 | 1 | 1.88 |\n| 6 | 101006 | S500 | Q06 | F | 31-35 | 28 | 2 | 1 | 1 | 0 | ⋯ | 6.0 | 122.25 | 111.41 | 0 | 38.6 | 123.80 | 123.31 | 1.80 | 0 | 1.80 |\n\n",
            "text/html": [
              "<table class=\"dataframe\">\n",
              "<caption>A data.frame: 6 × 500</caption>\n",
              "<thead>\n",
              "\t<tr><th></th><th scope=col>Subject</th><th scope=col>Release</th><th scope=col>Acquisition</th><th scope=col>Gender</th><th scope=col>Age</th><th scope=col>MMSE_Score</th><th scope=col>PSQI_Score</th><th scope=col>PSQI_Comp1</th><th scope=col>PSQI_Comp2</th><th scope=col>PSQI_Comp3</th><th scope=col>⋯</th><th scope=col>Noise_Comp</th><th scope=col>Odor_Unadj</th><th scope=col>Odor_AgeAdj</th><th scope=col>PainIntens_RawScore</th><th scope=col>PainInterf_Tscore</th><th scope=col>Taste_Unadj</th><th scope=col>Taste_AgeAdj</th><th scope=col>Mars_Log_Score</th><th scope=col>Mars_Errs</th><th scope=col>Mars_Final</th></tr>\n",
              "\t<tr><th></th><th scope=col>&lt;int&gt;</th><th scope=col>&lt;chr&gt;</th><th scope=col>&lt;chr&gt;</th><th scope=col>&lt;chr&gt;</th><th scope=col>&lt;chr&gt;</th><th scope=col>&lt;int&gt;</th><th scope=col>&lt;int&gt;</th><th scope=col>&lt;int&gt;</th><th scope=col>&lt;int&gt;</th><th scope=col>&lt;int&gt;</th><th scope=col>⋯</th><th scope=col>&lt;dbl&gt;</th><th scope=col>&lt;dbl&gt;</th><th scope=col>&lt;dbl&gt;</th><th scope=col>&lt;int&gt;</th><th scope=col>&lt;dbl&gt;</th><th scope=col>&lt;dbl&gt;</th><th scope=col>&lt;dbl&gt;</th><th scope=col>&lt;dbl&gt;</th><th scope=col>&lt;int&gt;</th><th scope=col>&lt;dbl&gt;</th></tr>\n",
              "</thead>\n",
              "<tbody>\n",
              "\t<tr><th scope=row>1</th><td>100004</td><td>S900</td><td>Q06</td><td>M</td><td>22-25</td><td>29</td><td>8</td><td>1</td><td>2</td><td>2</td><td>⋯</td><td>5.2</td><td>101.12</td><td> 86.45</td><td>2</td><td>45.9</td><td>107.17</td><td>105.31</td><td>1.80</td><td>0</td><td>1.80</td></tr>\n",
              "\t<tr><th scope=row>2</th><td>100206</td><td>S900</td><td>Q11</td><td>M</td><td>26-30</td><td>30</td><td>6</td><td>1</td><td>1</td><td>1</td><td>⋯</td><td>6.0</td><td>108.79</td><td> 97.19</td><td>1</td><td>49.7</td><td> 72.63</td><td> 72.03</td><td>1.84</td><td>0</td><td>1.84</td></tr>\n",
              "\t<tr><th scope=row>3</th><td>100307</td><td>Q1  </td><td>Q01</td><td>F</td><td>26-30</td><td>29</td><td>4</td><td>1</td><td>0</td><td>1</td><td>⋯</td><td>3.6</td><td>101.12</td><td> 86.45</td><td>0</td><td>38.6</td><td> 71.69</td><td> 71.76</td><td>1.76</td><td>0</td><td>1.76</td></tr>\n",
              "\t<tr><th scope=row>4</th><td>100408</td><td>Q3  </td><td>Q03</td><td>M</td><td>31-35</td><td>30</td><td>4</td><td>1</td><td>1</td><td>0</td><td>⋯</td><td>2.0</td><td>108.79</td><td> 98.04</td><td>2</td><td>52.6</td><td>114.01</td><td>113.59</td><td>1.76</td><td>2</td><td>1.68</td></tr>\n",
              "\t<tr><th scope=row>5</th><td>100610</td><td>S900</td><td>Q08</td><td>M</td><td>26-30</td><td>30</td><td>4</td><td>1</td><td>1</td><td>0</td><td>⋯</td><td>2.0</td><td>122.25</td><td>110.45</td><td>0</td><td>38.6</td><td> 84.84</td><td> 85.31</td><td>1.92</td><td>1</td><td>1.88</td></tr>\n",
              "\t<tr><th scope=row>6</th><td>101006</td><td>S500</td><td>Q06</td><td>F</td><td>31-35</td><td>28</td><td>2</td><td>1</td><td>1</td><td>0</td><td>⋯</td><td>6.0</td><td>122.25</td><td>111.41</td><td>0</td><td>38.6</td><td>123.80</td><td>123.31</td><td>1.80</td><td>0</td><td>1.80</td></tr>\n",
              "</tbody>\n",
              "</table>\n"
            ]
          },
          "metadata": {
            "tags": []
          }
        },
        {
          "output_type": "display_data",
          "data": {
            "text/plain": [
              "  Subject Flanker_Unadj FS_Total_GM_Vol\n",
              "1 100206  130.42        807245         \n",
              "2 100307  112.56        664124         \n",
              "3 100408  121.18        726206         \n",
              "4 100610  126.53        762308         \n",
              "5 101006  101.85        579632         \n",
              "6 101107  107.04        665024         "
            ],
            "text/latex": "A data.frame: 6 × 3\n\\begin{tabular}{r|lll}\n  & Subject & Flanker\\_Unadj & FS\\_Total\\_GM\\_Vol\\\\\n  & <int> & <dbl> & <int>\\\\\n\\hline\n\t1 & 100206 & 130.42 & 807245\\\\\n\t2 & 100307 & 112.56 & 664124\\\\\n\t3 & 100408 & 121.18 & 726206\\\\\n\t4 & 100610 & 126.53 & 762308\\\\\n\t5 & 101006 & 101.85 & 579632\\\\\n\t6 & 101107 & 107.04 & 665024\\\\\n\\end{tabular}\n",
            "text/markdown": "\nA data.frame: 6 × 3\n\n| <!--/--> | Subject &lt;int&gt; | Flanker_Unadj &lt;dbl&gt; | FS_Total_GM_Vol &lt;int&gt; |\n|---|---|---|---|\n| 1 | 100206 | 130.42 | 807245 |\n| 2 | 100307 | 112.56 | 664124 |\n| 3 | 100408 | 121.18 | 726206 |\n| 4 | 100610 | 126.53 | 762308 |\n| 5 | 101006 | 101.85 | 579632 |\n| 6 | 101107 | 107.04 | 665024 |\n\n",
            "text/html": [
              "<table class=\"dataframe\">\n",
              "<caption>A data.frame: 6 × 3</caption>\n",
              "<thead>\n",
              "\t<tr><th></th><th scope=col>Subject</th><th scope=col>Flanker_Unadj</th><th scope=col>FS_Total_GM_Vol</th></tr>\n",
              "\t<tr><th></th><th scope=col>&lt;int&gt;</th><th scope=col>&lt;dbl&gt;</th><th scope=col>&lt;int&gt;</th></tr>\n",
              "</thead>\n",
              "<tbody>\n",
              "\t<tr><th scope=row>1</th><td>100206</td><td>130.42</td><td>807245</td></tr>\n",
              "\t<tr><th scope=row>2</th><td>100307</td><td>112.56</td><td>664124</td></tr>\n",
              "\t<tr><th scope=row>3</th><td>100408</td><td>121.18</td><td>726206</td></tr>\n",
              "\t<tr><th scope=row>4</th><td>100610</td><td>126.53</td><td>762308</td></tr>\n",
              "\t<tr><th scope=row>5</th><td>101006</td><td>101.85</td><td>579632</td></tr>\n",
              "\t<tr><th scope=row>6</th><td>101107</td><td>107.04</td><td>665024</td></tr>\n",
              "</tbody>\n",
              "</table>\n"
            ]
          },
          "metadata": {
            "tags": []
          }
        }
      ]
    },
    {
      "cell_type": "markdown",
      "metadata": {
        "id": "J3owDQ0U2Ewn"
      },
      "source": [
        "b) Now we're going to see if the solutions we proved above actually line up with the model fit that R gives us (it should...). Calculate what the $\\beta_0$ and $\\beta_1$ coefficients should be for a simple linear regression model using `Flanker_Unadj` as $Y$ and `FS_Total_GM_Vol` as $X$. Use the formulas we derived above ($\\beta_1 = Cov[XY]/Var[X]$ , $\\beta_0 = E[Y] - \\beta_1E[X]$). Then use `lm()` to compare the coefficients you calculated with the ones R gives you. "
      ]
    },
    {
      "cell_type": "markdown",
      "metadata": {
        "id": "d6QZbB7orDGC"
      },
      "source": [
        "$\\hat\\beta_0 = E[Y] - \\hat\\beta_1E[X] = \\bar{y} - \\hat\\beta_1\\bar{x}$\n",
        "\n",
        "$\\hat\\beta_1 = \\frac{Cov[XY]}{Var[X]}$"
      ]
    },
    {
      "cell_type": "code",
      "metadata": {
        "id": "Q1EcPI-brCwl",
        "outputId": "50613286-9926-46ef-ed0f-d35912f19bda",
        "colab": {
          "base_uri": "https://localhost:8080/"
        }
      },
      "source": [
        "cov_XY = cov(d1)[2,3]\n",
        "var_X = sd(d1$FS_Total_GM_Vol)^2\n",
        "\n",
        "beta_1 = cov_XY/var_X \n",
        "beta_0 = mean(d1$Flanker_Unadj) - beta_1 * mean(d1$FS_Total_GM_Vol) \n",
        "\n",
        "calc_beta_1 = beta_1 %>% round(digits = 6)\n",
        "calc_beta_0 = beta_0 %>% round(digits = 2)\n",
        "\n",
        "d1.lm = lm(data = d1, Flanker_Unadj ~ FS_Total_GM_Vol)\n",
        "d1.summary = d1.lm %>% summary()\n",
        "d1.details = d1.summary %>% tidy()\n",
        "\n",
        "check_beta_1 = d1.details$estimate[2] %>% round(digits = 6)\n",
        "check_beta_0 = d1.details$estimate[1] %>% round(digits = 2)\n",
        "\n",
        "print(paste('Calculated beta 0:', calc_beta_0))\n",
        "print(paste('Calculated beta 1:', calc_beta_1))\n",
        "print(paste('R beta 0: ', check_beta_0))\n",
        "print(paste('R beta 1: ', check_beta_1))"
      ],
      "execution_count": 41,
      "outputs": [
        {
          "output_type": "stream",
          "text": [
            "[1] \"Calculated beta 0: 90.26\"\n",
            "[1] \"Calculated beta 1: 3.1e-05\"\n",
            "[1] \"R beta 0:  90.26\"\n",
            "[1] \"R beta 1:  3.1e-05\"\n"
          ],
          "name": "stdout"
        }
      ]
    },
    {
      "cell_type": "code",
      "metadata": {
        "id": "NA2HJXrcySw7"
      },
      "source": [
        ""
      ],
      "execution_count": null,
      "outputs": []
    },
    {
      "cell_type": "markdown",
      "metadata": {
        "id": "rl-1JWgmx2Yc"
      },
      "source": [
        "$\\hat\\beta_0 = E[Y] - \\hat\\beta_1E[X] = \\bar{y} - \\hat\\beta_1\\bar{x} = 90.26$\n",
        "\n",
        "$\\hat\\beta_1 = \\frac{Cov[XY]}{Var[X]} = 0.000031$"
      ]
    },
    {
      "cell_type": "markdown",
      "metadata": {
        "id": "xcnXbsZvDF6B"
      },
      "source": [
        "**DUE:** 5pm EST, March 18, 2021"
      ]
    },
    {
      "cell_type": "markdown",
      "metadata": {
        "id": "aG5swCweDF6B"
      },
      "source": [
        "**IMPORTANT** Did you collaborate with anyone on this assignment? If so, list their names here. \n",
        "> Urszula Ozszcapinska\n",
        "\n",
        "> Austin Luor"
      ]
    }
  ]
}