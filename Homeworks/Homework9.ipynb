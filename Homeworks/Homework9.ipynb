{
 "cells": [
  {
   "cell_type": "markdown",
   "metadata": {
    "id": "-2W919d2ZXp7"
   },
   "source": [
    "# Homework 9: Mediation & Power Analyses"
   ]
  },
  {
   "cell_type": "markdown",
   "metadata": {
    "id": "L4nOzVhyZXqK"
   },
   "source": [
    "This homework assignment is designed to give you practice with mediation, and with using Monte Carlo methods to conduct power analyses via simulation. You won't need to load in any data for this homework."
   ]
  },
  {
   "cell_type": "markdown",
   "metadata": {
    "id": "9DsyBTB6ZXqN"
   },
   "source": [
    "---\n",
    "## 1. Simulating data (2 points)\n"
   ]
  },
  {
   "cell_type": "markdown",
   "metadata": {
    "id": "J1f6MywYhyzN"
   },
   "source": [
    "In this homework, we're going to simulate the relationship between age, word reading experience, and reading comprehension skill. Older children tend to be better at reading comprehension tasks, but this isn't just an inherent part of getting older. It's a combination of gaining more experience with reading, oral language skills, and executive functions development. In this homework, though, we're going to simplify this relationship down to a direct effect of age on reading comprehension (since improvements in oral language skills and executive functions are more guaranteed as children age than reading practice is), and a mediation of word reading experience.\n",
    "\n",
    "In graphical form: \n",
    "![picture](https://drive.google.com/uc?id=1wdm9xuiJhBJor99-9GnicO2_rzkGWtfN)"
   ]
  },
  {
   "cell_type": "markdown",
   "metadata": {
    "id": "qMpQX_ogjkyQ"
   },
   "source": [
    "Writing the relationship out formally: \n",
    "\n",
    "$$x = \\beta_{xa} a + \\beta_{x0} + \\epsilon_{x}$$\n",
    "\n",
    "$$c = \\beta_{ca} a + \\beta_{cx} x + \\beta_{c0} + \\epsilon_c$$\n",
    "\n"
   ]
  },
  {
   "cell_type": "markdown",
   "metadata": {
    "id": "5FidlpJlmKi8"
   },
   "source": [
    "$c$ is reading comprehension, $x$ is word reading experience, and $a$ is age. $\\beta_{c0}$ and $\\beta_{x0}$ are intercept terms for their respective formulas, and $\\epsilon_{c}$ and $\\epsilon_{x}$ are gaussian noise terms. We'll start by writing a function, `simulate_data`, that can simulate this relationship. The input values are set and the function structure is provided below. Complete the function such that it takes in those input variables and generates $age$, $x$, and $c$ values. Use `runif()` to generate ages. Use `rnorm()` to generate the noise terms. "
   ]
  },
  {
   "cell_type": "code",
   "execution_count": null,
   "metadata": {
    "colab": {
     "base_uri": "https://localhost:8080/",
     "height": 274
    },
    "executionInfo": {
     "elapsed": 373,
     "status": "ok",
     "timestamp": 1619476621271,
     "user": {
      "displayName": "Patience Stevens",
      "photoUrl": "https://lh3.googleusercontent.com/a-/AOh14Gi-_9ZqhIFhAv1oMehJNvNuIKSTyrFQHzjxQKhx=s64",
      "userId": "01994571539255174942"
     },
     "user_tz": 240
    },
    "id": "UnBVazYfZXqP",
    "outputId": "cf7c3a72-58e3-4697-d5bb-9d7b8cd4aa76"
   },
   "outputs": [],
   "source": [
    "sample_size = 100 # How many children in data set? \n",
    "age_lo = 80     # minimum age, in months\n",
    "age_hi = 200    # maximum age, in months\n",
    "beta_xa = 0.5   # amount by which experience changes for increase of one month in age\n",
    "beta_x0 = -5    # amount of experience when age = 0 (not interpretable, since minimum age for this data is 80 months)\n",
    "sd_x = 50       # standard dev of gaussian noise term, epsilon_x\n",
    "beta_ca = 0.8   # amount that comprehension score improves for every increase of one unit in age\n",
    "beta_cx = 3     # amount that comprehension score improves for every increase of one unit in reading experience\n",
    "beta_c0 = 10    # comprehension score when reading experience is 0. \n",
    "sd_c = 85      # standard dev of gaussian noise term, epsilon_c\n",
    "\n",
    "simulate_data <- function(sample_size, age_lo, age_hi, beta_xa, beta_x0, sd_x, beta_ca, beta_cx, beta_c0, sd_c) {\n",
    "      # WRITE YOUR CODE HERE\n",
    "      \n",
    "      return(data.frame(age=age,x=x,c=c)) # it's actually bad form to have a variable named \"c\" in R, my bad...\n",
    "}\n",
    "\n",
    "dat <- simulate_data(sample_size, age_lo, age_hi, beta_xa, beta_x0, sd_x, beta_ca, beta_cx, beta_c0, sd_c)\n",
    "head(dat)"
   ]
  },
  {
   "cell_type": "markdown",
   "metadata": {
    "id": "I-Rt8PFe_G5O"
   },
   "source": [
    "---\n",
    "## 2. Visualizing Data (1 point)"
   ]
  },
  {
   "cell_type": "markdown",
   "metadata": {
    "id": "MQdcoYCLvuDf"
   },
   "source": [
    "Load the `tidyverse` library."
   ]
  },
  {
   "cell_type": "code",
   "execution_count": null,
   "metadata": {
    "colab": {
     "base_uri": "https://localhost:8080/"
    },
    "executionInfo": {
     "elapsed": 2577,
     "status": "ok",
     "timestamp": 1619476628267,
     "user": {
      "displayName": "Patience Stevens",
      "photoUrl": "https://lh3.googleusercontent.com/a-/AOh14Gi-_9ZqhIFhAv1oMehJNvNuIKSTyrFQHzjxQKhx=s64",
      "userId": "01994571539255174942"
     },
     "user_tz": 240
    },
    "id": "H07EMQCwvzsL",
    "outputId": "40233b4a-b954-4865-8a3f-b402221b2c1e"
   },
   "outputs": [],
   "source": [
    "# WRITE YOUR CODE HERE\n",
    "\n"
   ]
  },
  {
   "cell_type": "markdown",
   "metadata": {
    "id": "Vgc2ehTKv1jt"
   },
   "source": [
    "a) Plot the relationship between age and reading comprehension. "
   ]
  },
  {
   "cell_type": "code",
   "execution_count": null,
   "metadata": {
    "colab": {
     "base_uri": "https://localhost:8080/",
     "height": 472
    },
    "executionInfo": {
     "elapsed": 2024,
     "status": "ok",
     "timestamp": 1619476632213,
     "user": {
      "displayName": "Patience Stevens",
      "photoUrl": "https://lh3.googleusercontent.com/a-/AOh14Gi-_9ZqhIFhAv1oMehJNvNuIKSTyrFQHzjxQKhx=s64",
      "userId": "01994571539255174942"
     },
     "user_tz": 240
    },
    "id": "Pb-KYXwuwS28",
    "outputId": "2bd7e93e-f464-4703-f2ca-b3a0ed04057b"
   },
   "outputs": [],
   "source": [
    "# WRITE YOUR CODE HERE\n",
    "\n"
   ]
  },
  {
   "cell_type": "markdown",
   "metadata": {
    "id": "CB_8CsBZwQqW"
   },
   "source": [
    "b) Plot the relationship between reading experience, age, and reading comprehension."
   ]
  },
  {
   "cell_type": "code",
   "execution_count": null,
   "metadata": {
    "colab": {
     "base_uri": "https://localhost:8080/",
     "height": 436
    },
    "executionInfo": {
     "elapsed": 760,
     "status": "ok",
     "timestamp": 1619476634598,
     "user": {
      "displayName": "Patience Stevens",
      "photoUrl": "https://lh3.googleusercontent.com/a-/AOh14Gi-_9ZqhIFhAv1oMehJNvNuIKSTyrFQHzjxQKhx=s64",
      "userId": "01994571539255174942"
     },
     "user_tz": 240
    },
    "id": "VeSOCXlMweSz",
    "outputId": "0169bcb7-8ba9-4754-f7af-914a9adfea15"
   },
   "outputs": [],
   "source": [
    "# WRITE YOUR CODE HERE\n",
    "\n"
   ]
  },
  {
   "cell_type": "markdown",
   "metadata": {
    "id": "BeK0H64WlOBM"
   },
   "source": [
    "---\n",
    "## 3. Mediation Analysis (3 points)"
   ]
  },
  {
   "cell_type": "markdown",
   "metadata": {
    "id": "dP_6o9rpmThw"
   },
   "source": [
    "Load the `mediation` library."
   ]
  },
  {
   "cell_type": "code",
   "execution_count": null,
   "metadata": {
    "colab": {
     "base_uri": "https://localhost:8080/"
    },
    "executionInfo": {
     "elapsed": 294387,
     "status": "ok",
     "timestamp": 1619476939657,
     "user": {
      "displayName": "Patience Stevens",
      "photoUrl": "https://lh3.googleusercontent.com/a-/AOh14Gi-_9ZqhIFhAv1oMehJNvNuIKSTyrFQHzjxQKhx=s64",
      "userId": "01994571539255174942"
     },
     "user_tz": 240
    },
    "id": "PIPheP5ipgKg",
    "outputId": "b95e6303-a957-434a-aab7-50116d2752ca"
   },
   "outputs": [],
   "source": [
    "# WRITE YOUR CODE HERE\n",
    "\n"
   ]
  },
  {
   "cell_type": "markdown",
   "metadata": {
    "id": "Q1UM2Qhx6Kk-"
   },
   "source": [
    "Use the `mediate` function to determine whether `x` mediates the relationship between `age` and `c`. Use `summary()` to print the model results. *Hint: see the mediation and moderation tutorial.*"
   ]
  },
  {
   "cell_type": "code",
   "execution_count": null,
   "metadata": {
    "colab": {
     "base_uri": "https://localhost:8080/",
     "height": 318
    },
    "executionInfo": {
     "elapsed": 3862,
     "status": "ok",
     "timestamp": 1619477561914,
     "user": {
      "displayName": "Patience Stevens",
      "photoUrl": "https://lh3.googleusercontent.com/a-/AOh14Gi-_9ZqhIFhAv1oMehJNvNuIKSTyrFQHzjxQKhx=s64",
      "userId": "01994571539255174942"
     },
     "user_tz": 240
    },
    "id": "9h1ySgXm4HWm",
    "outputId": "0a67fd2d-ff1f-432a-b4b4-b4f937e9e4c9"
   },
   "outputs": [],
   "source": [
    "# WRITE YOUR CODE HERE\n",
    "\n"
   ]
  },
  {
   "cell_type": "markdown",
   "metadata": {
    "id": "L5rCNjcs6UVD"
   },
   "source": [
    "How do you interpret these results? Why do you think the analysis yielded this result? \n",
    "> *Write your response here* \n",
    "> "
   ]
  },
  {
   "cell_type": "markdown",
   "metadata": {
    "id": "T3b3_KsHk-xD"
   },
   "source": [
    "---\n",
    "## 4. Power Analysis via Simulation (4 points)"
   ]
  },
  {
   "cell_type": "markdown",
   "metadata": {
    "id": "TJyPIaTO8zCS"
   },
   "source": [
    "Now we're going to use our `simulate_data()` function to conduct a power analysis. The goal is to determine how many participants we would need in order to detect both the mediated and the direct effects in this data. \n",
    "\n",
    "*Note: We're going to pretend for the sake of simplicity that we don't have any control over the ages of the children we get (so ages are generated using `runif(sample_size, age_lo, age_hi)`, although of course this would be an unusual situation in reality.*\n",
    "\n",
    "First, write a function, `run_analysis()`, that takes in simulated data and returns a vector containing the ACME and ADE estimates and p-values (these are the `d0`, `d0.p`, `z0`, and `z0.p` features of the mediated model object, e.g., `fitMed$d0.p`). Print this function's output for the data we simulated previously. "
   ]
  },
  {
   "cell_type": "code",
   "execution_count": null,
   "metadata": {
    "colab": {
     "base_uri": "https://localhost:8080/",
     "height": 33
    },
    "executionInfo": {
     "elapsed": 3178,
     "status": "ok",
     "timestamp": 1619478255711,
     "user": {
      "displayName": "Patience Stevens",
      "photoUrl": "https://lh3.googleusercontent.com/a-/AOh14Gi-_9ZqhIFhAv1oMehJNvNuIKSTyrFQHzjxQKhx=s64",
      "userId": "01994571539255174942"
     },
     "user_tz": 240
    },
    "id": "AidH_KidrX9L",
    "outputId": "1d3b1ccb-c90e-42cc-eba2-929dc04e3d83"
   },
   "outputs": [],
   "source": [
    "# WRITE YOUR CODE HERE\n",
    "\n"
   ]
  },
  {
   "cell_type": "markdown",
   "metadata": {
    "id": "G_jvc1XQBCpH"
   },
   "source": [
    "Next fill in the function `repeat_analysis()` below so that it simulates and analyzes data `num_simulations` times. Store the outputs from each simulation in the `simouts` matrix. Calculate and return the coverage across all the simulations run for both ACME and ADE."
   ]
  },
  {
   "cell_type": "code",
   "execution_count": null,
   "metadata": {
    "id": "NheOpBDsBBo9"
   },
   "outputs": [],
   "source": [
    "repeat_analysis <- function(num_simulations, alpha, sample_size, age_lo, age_hi, \n",
    "        beta_xa, beta_x0, sd_x, beta_ca, beta_cx, beta_c0, sd_c) {\n",
    "    # Initialize simouts matrix for storing each output from run_analysis()\n",
    "    simouts <- matrix(rep(NA,num_simulations*4), nrow=num_simulations,ncol=4)\n",
    "    \n",
    "    # Start simulating\n",
    "    for (i in 1:num_simulations) {\n",
    "      # WRITE YOUR CODE HERE\n",
    "      \n",
    "    }\n",
    "    \n",
    "    # Calculate coverage for both ACME and ADE estimates using p-values in simouts\n",
    "    ACME_cov =  # FILL THIS IN \n",
    "    ADE_cov =  # FILL THIS IN\n",
    "\n",
    "    return(list(ACME_cov = ACME_cov, ADE_cov = ADE_cov))\n",
    "}"
   ]
  },
  {
   "cell_type": "markdown",
   "metadata": {
    "id": "bM5J5pYyQoRL"
   },
   "source": [
    "Now run the `repeat_analysis()` function using the same parameter settings as above, for 10 simulations, with an alpha criterion of 0.01. "
   ]
  },
  {
   "cell_type": "code",
   "execution_count": null,
   "metadata": {
    "colab": {
     "base_uri": "https://localhost:8080/",
     "height": 111
    },
    "executionInfo": {
     "elapsed": 28603,
     "status": "ok",
     "timestamp": 1619478300572,
     "user": {
      "displayName": "Patience Stevens",
      "photoUrl": "https://lh3.googleusercontent.com/a-/AOh14Gi-_9ZqhIFhAv1oMehJNvNuIKSTyrFQHzjxQKhx=s64",
      "userId": "01994571539255174942"
     },
     "user_tz": 240
    },
    "id": "RpURGbZQQlEK",
    "outputId": "273ddde3-5196-4abc-b886-2651e8928896"
   },
   "outputs": [],
   "source": [
    "# WRITE YOUR CODE HERE\n",
    "\n"
   ]
  },
  {
   "cell_type": "markdown",
   "metadata": {
    "id": "CzeTaoY7SaXv"
   },
   "source": [
    "Finally, do the same thing (10 simulations, alpha criterion of 0.01) but for 5 different sample sizes: 50, 75, 100, 125, 150. You can do this using `map` (as in the tutorial), or a simple `for` loop, or by calculating each individually. Up to you! This should take around 3 minutes to run. "
   ]
  },
  {
   "cell_type": "code",
   "execution_count": null,
   "metadata": {
    "colab": {
     "base_uri": "https://localhost:8080/"
    },
    "executionInfo": {
     "elapsed": 139144,
     "status": "ok",
     "timestamp": 1617817443716,
     "user": {
      "displayName": "Patience Stevens",
      "photoUrl": "https://lh3.googleusercontent.com/a-/AOh14Gi-_9ZqhIFhAv1oMehJNvNuIKSTyrFQHzjxQKhx=s64",
      "userId": "01994571539255174942"
     },
     "user_tz": 240
    },
    "id": "mp-a19XsS8Md",
    "outputId": "40cd5e8c-db99-4cb9-f99f-88a4ff276751"
   },
   "outputs": [],
   "source": [
    "# WRITE YOUR CODE HERE\n",
    "\n"
   ]
  },
  {
   "cell_type": "markdown",
   "metadata": {
    "id": "akJwKCB7dkDw"
   },
   "source": [
    "Print your results. "
   ]
  },
  {
   "cell_type": "code",
   "execution_count": null,
   "metadata": {
    "colab": {
     "base_uri": "https://localhost:8080/",
     "height": 252
    },
    "executionInfo": {
     "elapsed": 699,
     "status": "ok",
     "timestamp": 1617817897166,
     "user": {
      "displayName": "Patience Stevens",
      "photoUrl": "https://lh3.googleusercontent.com/a-/AOh14Gi-_9ZqhIFhAv1oMehJNvNuIKSTyrFQHzjxQKhx=s64",
      "userId": "01994571539255174942"
     },
     "user_tz": 240
    },
    "id": "gIkkWTG2aR4d",
    "outputId": "3e1c4b1c-9a8c-49bf-e411-39f4af902076"
   },
   "outputs": [],
   "source": [
    "# WRITE YOUR CODE HERE\n",
    "\n"
   ]
  },
  {
   "cell_type": "markdown",
   "metadata": {
    "id": "tpbGkul2dr-5"
   },
   "source": [
    "If this were a real power analysis, we'd want to run more simulations per sample size (to get a more precise estimate of power) and we may also want to test out some other values of the parameters we used to simulate our data. However, what would you conclude just based on the results above? \n",
    "\n",
    "> *Write your response here.* \n",
    "> "
   ]
  },
  {
   "cell_type": "markdown",
   "metadata": {
    "id": "RcCo3QOifUi5"
   },
   "source": [
    "**Given** how we generated the data, why was the direct effect harder to detect than the mediated effect?\n",
    "> *Write your response here.* \n",
    "> "
   ]
  },
  {
   "cell_type": "markdown",
   "metadata": {
    "id": "C4MPECMmZXqe"
   },
   "source": [
    "**DUE:** 5pm EST, April 11, 2022"
   ]
  },
  {
   "cell_type": "markdown",
   "metadata": {
    "id": "r9GUofXN4BVy"
   },
   "source": [
    "**IMPORTANT** Did you collaborate with anyone on this assignment? If so, list their names here. \n",
    "> *Someone's Name*"
   ]
  }
 ],
 "metadata": {
  "colab": {
   "collapsed_sections": [],
   "name": "Homework9_solutions.ipynb",
   "provenance": []
  },
  "kernelspec": {
   "display_name": "R",
   "language": "R",
   "name": "ir"
  },
  "language_info": {
   "codemirror_mode": "r",
   "file_extension": ".r",
   "mimetype": "text/x-r-source",
   "name": "R",
   "pygments_lexer": "r",
   "version": "4.0.2"
  }
 },
 "nbformat": 4,
 "nbformat_minor": 1
}
