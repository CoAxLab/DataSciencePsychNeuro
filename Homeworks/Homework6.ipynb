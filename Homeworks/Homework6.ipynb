{
  "nbformat": 4,
  "nbformat_minor": 0,
  "metadata": {
    "colab": {
      "name": "Homework6.ipynb",
      "provenance": [],
      "collapsed_sections": []
    },
    "kernelspec": {
      "display_name": "R",
      "language": "R",
      "name": "ir"
    },
    "language_info": {
      "codemirror_mode": "r",
      "file_extension": ".r",
      "mimetype": "text/x-r-source",
      "name": "R",
      "pygments_lexer": "r",
      "version": "3.6.2"
    }
  },
  "cells": [
    {
      "cell_type": "markdown",
      "metadata": {
        "id": "-2W919d2ZXp7"
      },
      "source": [
        "# Homework 6: Mixed effects models"
      ]
    },
    {
      "cell_type": "markdown",
      "metadata": {
        "id": "L4nOzVhyZXqK"
      },
      "source": [
        "This homework assignment is designed to give you practice fitting and interpreting mixed effects models. \n",
        "\n",
        "We will be using the **LexicalData.csv** and **Items.csv** files from the *Homework/lexDat* folder in the class GitHub repository again. \n",
        "\n",
        "This data is a subset of the [English Lexicon Project database](https://elexicon.wustl.edu/). It provides the reaction times (in milliseconds) of many subjects as they are presented with letter strings and asked to decide, as quickly and as accurately as possible, whether the letter string is a word or not. The **Items.csv** provides characteristics of the words used, namely frequency (how common is this word?) and length (how many letters?). Unlike in the previous homework, there isn't any missing data in the **LexicalData.csv** file. \n",
        "\n",
        "*Data courtesy of Balota, D.A., Yap, M.J., Cortese, M.J., Hutchison, K.A., Kessler, B., Loftis, B., Neely, J.H., Nelson, D.L., Simpson, G.B., & Treiman, R. (2007). The English Lexicon Project. Behavior Research Methods, 39, 445-459.*"
      ]
    },
    {
      "cell_type": "markdown",
      "metadata": {
        "id": "9DsyBTB6ZXqN"
      },
      "source": [
        "---\n",
        "## Loading and formatting the data (1 point)\n",
        "\n",
        "Load in data from the **LexicalData.csv** and **Items.csv** files. As in the previous homeworks, remove the commas from the reaction times and convert them from strings to numbers. Use `left_join` to add word frequencies from **Items** to **LexicalData**. \n",
        "\n",
        "*Note: the `Freq_HAL` variable in **Items.csv** has a similar formatting issue, using string values with commas. We're not going to worry about fixing this since we're only using `Log_Freq_HAL`, which is the natural log transformation of `Freq_HAL`, in this homework.*"
      ]
    },
    {
      "cell_type": "code",
      "metadata": {
        "colab": {
          "base_uri": "https://localhost:8080/"
        },
        "id": "8IEQDxdQ0OE0",
        "outputId": "57f35f44-ee23-421e-88de-0da77a1e8488"
      },
      "source": [
        "library(tidyverse)"
      ],
      "execution_count": 1,
      "outputs": [
        {
          "output_type": "stream",
          "text": [
            "Warning message in system(\"timedatectl\", intern = TRUE):\n",
            "“running command 'timedatectl' had status 1”\n",
            "── \u001b[1mAttaching packages\u001b[22m ─────────────────────────────────────── tidyverse 1.3.0 ──\n",
            "\n",
            "\u001b[32m✔\u001b[39m \u001b[34mggplot2\u001b[39m 3.3.3     \u001b[32m✔\u001b[39m \u001b[34mpurrr  \u001b[39m 0.3.4\n",
            "\u001b[32m✔\u001b[39m \u001b[34mtibble \u001b[39m 3.1.0     \u001b[32m✔\u001b[39m \u001b[34mdplyr  \u001b[39m 1.0.5\n",
            "\u001b[32m✔\u001b[39m \u001b[34mtidyr  \u001b[39m 1.1.3     \u001b[32m✔\u001b[39m \u001b[34mstringr\u001b[39m 1.4.0\n",
            "\u001b[32m✔\u001b[39m \u001b[34mreadr  \u001b[39m 1.4.0     \u001b[32m✔\u001b[39m \u001b[34mforcats\u001b[39m 0.5.1\n",
            "\n",
            "── \u001b[1mConflicts\u001b[22m ────────────────────────────────────────── tidyverse_conflicts() ──\n",
            "\u001b[31m✖\u001b[39m \u001b[34mdplyr\u001b[39m::\u001b[32mfilter()\u001b[39m masks \u001b[34mstats\u001b[39m::filter()\n",
            "\u001b[31m✖\u001b[39m \u001b[34mdplyr\u001b[39m::\u001b[32mlag()\u001b[39m    masks \u001b[34mstats\u001b[39m::lag()\n",
            "\n"
          ],
          "name": "stderr"
        }
      ]
    },
    {
      "cell_type": "code",
      "metadata": {
        "id": "UnBVazYfZXqP",
        "colab": {
          "base_uri": "https://localhost:8080/",
          "height": 815
        },
        "outputId": "d60f764b-94ce-4a19-a210-8043518c4fea"
      },
      "source": [
        "system(\"gdown --id 1q0toKETEbZf71Vb1e_iUKB1qplNFghCo\") \n",
        "lexical_data = read.csv(\"LexicalData.csv\") \n",
        "\n",
        "system(\"gdown --id 12Cx9lvoPb8AeGUWnJngofu4AXevxk45U\")\n",
        "items_data = read.csv(\"Items.csv\")\n",
        "\n",
        "head(lexical_data)\n",
        "head(items_data)\n",
        "\n",
        "comb_data <- left_join(lexical_data %>% \n",
        "                                  mutate(D_RT_new = gsub(',', '', D_RT) %>% \n",
        "                                  as.numeric()) %>% \n",
        "                                  filter(!is.na(D_RT_new),\n",
        "                                         D_RT_new >= 0) %>%\n",
        "                                  select(!D_RT), \n",
        "                       items_data %>% \n",
        "                                  filter(!is.na(Length),\n",
        "                                         !is.na(Log_Freq_HAL)) %>%\n",
        "                                  select(Length, Log_Freq_HAL, Word),\n",
        "                       by = c(\"D_Word\" = \"Word\"))\n",
        "head(comb_data)\n"
      ],
      "execution_count": 2,
      "outputs": [
        {
          "output_type": "display_data",
          "data": {
            "text/plain": [
              "  Sub_ID Trial Type D_RT  D_Word      Outlier D_Zscore\n",
              "1 157    1     1    710   browse      false   -0.437  \n",
              "2  67    1     1    1,094 refrigerant false    0.825  \n",
              "3 120    1     1    587   gaining     false   -0.645  \n",
              "4  21    1     1    984   cheerless   false    0.025  \n",
              "5 236    1     1    577   pattered    false   -0.763  \n",
              "6 236    2     1    715   conjures    false   -0.364  "
            ],
            "text/latex": "A data.frame: 6 × 7\n\\begin{tabular}{r|lllllll}\n  & Sub\\_ID & Trial & Type & D\\_RT & D\\_Word & Outlier & D\\_Zscore\\\\\n  & <int> & <int> & <int> & <chr> & <chr> & <chr> & <dbl>\\\\\n\\hline\n\t1 & 157 & 1 & 1 & 710   & browse      & false & -0.437\\\\\n\t2 &  67 & 1 & 1 & 1,094 & refrigerant & false &  0.825\\\\\n\t3 & 120 & 1 & 1 & 587   & gaining     & false & -0.645\\\\\n\t4 &  21 & 1 & 1 & 984   & cheerless   & false &  0.025\\\\\n\t5 & 236 & 1 & 1 & 577   & pattered    & false & -0.763\\\\\n\t6 & 236 & 2 & 1 & 715   & conjures    & false & -0.364\\\\\n\\end{tabular}\n",
            "text/markdown": "\nA data.frame: 6 × 7\n\n| <!--/--> | Sub_ID &lt;int&gt; | Trial &lt;int&gt; | Type &lt;int&gt; | D_RT &lt;chr&gt; | D_Word &lt;chr&gt; | Outlier &lt;chr&gt; | D_Zscore &lt;dbl&gt; |\n|---|---|---|---|---|---|---|---|\n| 1 | 157 | 1 | 1 | 710   | browse      | false | -0.437 |\n| 2 |  67 | 1 | 1 | 1,094 | refrigerant | false |  0.825 |\n| 3 | 120 | 1 | 1 | 587   | gaining     | false | -0.645 |\n| 4 |  21 | 1 | 1 | 984   | cheerless   | false |  0.025 |\n| 5 | 236 | 1 | 1 | 577   | pattered    | false | -0.763 |\n| 6 | 236 | 2 | 1 | 715   | conjures    | false | -0.364 |\n\n",
            "text/html": [
              "<table class=\"dataframe\">\n",
              "<caption>A data.frame: 6 × 7</caption>\n",
              "<thead>\n",
              "\t<tr><th></th><th scope=col>Sub_ID</th><th scope=col>Trial</th><th scope=col>Type</th><th scope=col>D_RT</th><th scope=col>D_Word</th><th scope=col>Outlier</th><th scope=col>D_Zscore</th></tr>\n",
              "\t<tr><th></th><th scope=col>&lt;int&gt;</th><th scope=col>&lt;int&gt;</th><th scope=col>&lt;int&gt;</th><th scope=col>&lt;chr&gt;</th><th scope=col>&lt;chr&gt;</th><th scope=col>&lt;chr&gt;</th><th scope=col>&lt;dbl&gt;</th></tr>\n",
              "</thead>\n",
              "<tbody>\n",
              "\t<tr><th scope=row>1</th><td>157</td><td>1</td><td>1</td><td>710  </td><td>browse     </td><td>false</td><td>-0.437</td></tr>\n",
              "\t<tr><th scope=row>2</th><td> 67</td><td>1</td><td>1</td><td>1,094</td><td>refrigerant</td><td>false</td><td> 0.825</td></tr>\n",
              "\t<tr><th scope=row>3</th><td>120</td><td>1</td><td>1</td><td>587  </td><td>gaining    </td><td>false</td><td>-0.645</td></tr>\n",
              "\t<tr><th scope=row>4</th><td> 21</td><td>1</td><td>1</td><td>984  </td><td>cheerless  </td><td>false</td><td> 0.025</td></tr>\n",
              "\t<tr><th scope=row>5</th><td>236</td><td>1</td><td>1</td><td>577  </td><td>pattered   </td><td>false</td><td>-0.763</td></tr>\n",
              "\t<tr><th scope=row>6</th><td>236</td><td>2</td><td>1</td><td>715  </td><td>conjures   </td><td>false</td><td>-0.364</td></tr>\n",
              "</tbody>\n",
              "</table>\n"
            ]
          },
          "metadata": {
            "tags": []
          }
        },
        {
          "output_type": "display_data",
          "data": {
            "text/plain": [
              "  Occurrences Word        Length Freq_HAL Log_Freq_HAL\n",
              "1 1           synergistic 11     284      5.649       \n",
              "2 1           synonymous  10     951      6.858       \n",
              "3 1           syntactical 11     114      4.736       \n",
              "4 1           synthesis    9     6,742    8.816       \n",
              "5 1           synthesized 11     2,709    7.904       \n",
              "6 1           synthesizer 11     1,390    7.237       "
            ],
            "text/latex": "A data.frame: 6 × 5\n\\begin{tabular}{r|lllll}\n  & Occurrences & Word & Length & Freq\\_HAL & Log\\_Freq\\_HAL\\\\\n  & <int> & <chr> & <int> & <chr> & <dbl>\\\\\n\\hline\n\t1 & 1 & synergistic & 11 & 284   & 5.649\\\\\n\t2 & 1 & synonymous  & 10 & 951   & 6.858\\\\\n\t3 & 1 & syntactical & 11 & 114   & 4.736\\\\\n\t4 & 1 & synthesis   &  9 & 6,742 & 8.816\\\\\n\t5 & 1 & synthesized & 11 & 2,709 & 7.904\\\\\n\t6 & 1 & synthesizer & 11 & 1,390 & 7.237\\\\\n\\end{tabular}\n",
            "text/markdown": "\nA data.frame: 6 × 5\n\n| <!--/--> | Occurrences &lt;int&gt; | Word &lt;chr&gt; | Length &lt;int&gt; | Freq_HAL &lt;chr&gt; | Log_Freq_HAL &lt;dbl&gt; |\n|---|---|---|---|---|---|\n| 1 | 1 | synergistic | 11 | 284   | 5.649 |\n| 2 | 1 | synonymous  | 10 | 951   | 6.858 |\n| 3 | 1 | syntactical | 11 | 114   | 4.736 |\n| 4 | 1 | synthesis   |  9 | 6,742 | 8.816 |\n| 5 | 1 | synthesized | 11 | 2,709 | 7.904 |\n| 6 | 1 | synthesizer | 11 | 1,390 | 7.237 |\n\n",
            "text/html": [
              "<table class=\"dataframe\">\n",
              "<caption>A data.frame: 6 × 5</caption>\n",
              "<thead>\n",
              "\t<tr><th></th><th scope=col>Occurrences</th><th scope=col>Word</th><th scope=col>Length</th><th scope=col>Freq_HAL</th><th scope=col>Log_Freq_HAL</th></tr>\n",
              "\t<tr><th></th><th scope=col>&lt;int&gt;</th><th scope=col>&lt;chr&gt;</th><th scope=col>&lt;int&gt;</th><th scope=col>&lt;chr&gt;</th><th scope=col>&lt;dbl&gt;</th></tr>\n",
              "</thead>\n",
              "<tbody>\n",
              "\t<tr><th scope=row>1</th><td>1</td><td>synergistic</td><td>11</td><td>284  </td><td>5.649</td></tr>\n",
              "\t<tr><th scope=row>2</th><td>1</td><td>synonymous </td><td>10</td><td>951  </td><td>6.858</td></tr>\n",
              "\t<tr><th scope=row>3</th><td>1</td><td>syntactical</td><td>11</td><td>114  </td><td>4.736</td></tr>\n",
              "\t<tr><th scope=row>4</th><td>1</td><td>synthesis  </td><td> 9</td><td>6,742</td><td>8.816</td></tr>\n",
              "\t<tr><th scope=row>5</th><td>1</td><td>synthesized</td><td>11</td><td>2,709</td><td>7.904</td></tr>\n",
              "\t<tr><th scope=row>6</th><td>1</td><td>synthesizer</td><td>11</td><td>1,390</td><td>7.237</td></tr>\n",
              "</tbody>\n",
              "</table>\n"
            ]
          },
          "metadata": {
            "tags": []
          }
        },
        {
          "output_type": "display_data",
          "data": {
            "text/plain": [
              "  Sub_ID Trial Type D_Word      Outlier D_Zscore D_RT_new Length Log_Freq_HAL\n",
              "1 157    1     1    browse      false   -0.437    710      6     8.856       \n",
              "2  67    1     1    refrigerant false    0.825   1094     11     4.644       \n",
              "3 120    1     1    gaining     false   -0.645    587      7     8.304       \n",
              "4  21    1     1    cheerless   false    0.025    984      9     2.639       \n",
              "5 236    1     1    pattered    false   -0.763    577      8     1.386       \n",
              "6 236    2     1    conjures    false   -0.364    715      8     5.268       "
            ],
            "text/latex": "A data.frame: 6 × 9\n\\begin{tabular}{r|lllllllll}\n  & Sub\\_ID & Trial & Type & D\\_Word & Outlier & D\\_Zscore & D\\_RT\\_new & Length & Log\\_Freq\\_HAL\\\\\n  & <int> & <int> & <int> & <chr> & <chr> & <dbl> & <dbl> & <int> & <dbl>\\\\\n\\hline\n\t1 & 157 & 1 & 1 & browse      & false & -0.437 &  710 &  6 & 8.856\\\\\n\t2 &  67 & 1 & 1 & refrigerant & false &  0.825 & 1094 & 11 & 4.644\\\\\n\t3 & 120 & 1 & 1 & gaining     & false & -0.645 &  587 &  7 & 8.304\\\\\n\t4 &  21 & 1 & 1 & cheerless   & false &  0.025 &  984 &  9 & 2.639\\\\\n\t5 & 236 & 1 & 1 & pattered    & false & -0.763 &  577 &  8 & 1.386\\\\\n\t6 & 236 & 2 & 1 & conjures    & false & -0.364 &  715 &  8 & 5.268\\\\\n\\end{tabular}\n",
            "text/markdown": "\nA data.frame: 6 × 9\n\n| <!--/--> | Sub_ID &lt;int&gt; | Trial &lt;int&gt; | Type &lt;int&gt; | D_Word &lt;chr&gt; | Outlier &lt;chr&gt; | D_Zscore &lt;dbl&gt; | D_RT_new &lt;dbl&gt; | Length &lt;int&gt; | Log_Freq_HAL &lt;dbl&gt; |\n|---|---|---|---|---|---|---|---|---|---|\n| 1 | 157 | 1 | 1 | browse      | false | -0.437 |  710 |  6 | 8.856 |\n| 2 |  67 | 1 | 1 | refrigerant | false |  0.825 | 1094 | 11 | 4.644 |\n| 3 | 120 | 1 | 1 | gaining     | false | -0.645 |  587 |  7 | 8.304 |\n| 4 |  21 | 1 | 1 | cheerless   | false |  0.025 |  984 |  9 | 2.639 |\n| 5 | 236 | 1 | 1 | pattered    | false | -0.763 |  577 |  8 | 1.386 |\n| 6 | 236 | 2 | 1 | conjures    | false | -0.364 |  715 |  8 | 5.268 |\n\n",
            "text/html": [
              "<table class=\"dataframe\">\n",
              "<caption>A data.frame: 6 × 9</caption>\n",
              "<thead>\n",
              "\t<tr><th></th><th scope=col>Sub_ID</th><th scope=col>Trial</th><th scope=col>Type</th><th scope=col>D_Word</th><th scope=col>Outlier</th><th scope=col>D_Zscore</th><th scope=col>D_RT_new</th><th scope=col>Length</th><th scope=col>Log_Freq_HAL</th></tr>\n",
              "\t<tr><th></th><th scope=col>&lt;int&gt;</th><th scope=col>&lt;int&gt;</th><th scope=col>&lt;int&gt;</th><th scope=col>&lt;chr&gt;</th><th scope=col>&lt;chr&gt;</th><th scope=col>&lt;dbl&gt;</th><th scope=col>&lt;dbl&gt;</th><th scope=col>&lt;int&gt;</th><th scope=col>&lt;dbl&gt;</th></tr>\n",
              "</thead>\n",
              "<tbody>\n",
              "\t<tr><th scope=row>1</th><td>157</td><td>1</td><td>1</td><td>browse     </td><td>false</td><td>-0.437</td><td> 710</td><td> 6</td><td>8.856</td></tr>\n",
              "\t<tr><th scope=row>2</th><td> 67</td><td>1</td><td>1</td><td>refrigerant</td><td>false</td><td> 0.825</td><td>1094</td><td>11</td><td>4.644</td></tr>\n",
              "\t<tr><th scope=row>3</th><td>120</td><td>1</td><td>1</td><td>gaining    </td><td>false</td><td>-0.645</td><td> 587</td><td> 7</td><td>8.304</td></tr>\n",
              "\t<tr><th scope=row>4</th><td> 21</td><td>1</td><td>1</td><td>cheerless  </td><td>false</td><td> 0.025</td><td> 984</td><td> 9</td><td>2.639</td></tr>\n",
              "\t<tr><th scope=row>5</th><td>236</td><td>1</td><td>1</td><td>pattered   </td><td>false</td><td>-0.763</td><td> 577</td><td> 8</td><td>1.386</td></tr>\n",
              "\t<tr><th scope=row>6</th><td>236</td><td>2</td><td>1</td><td>conjures   </td><td>false</td><td>-0.364</td><td> 715</td><td> 8</td><td>5.268</td></tr>\n",
              "</tbody>\n",
              "</table>\n"
            ]
          },
          "metadata": {
            "tags": []
          }
        }
      ]
    },
    {
      "cell_type": "markdown",
      "metadata": {
        "id": "bXy81Viishk1"
      },
      "source": [
        "# Model fitting (4 points)"
      ]
    },
    {
      "cell_type": "markdown",
      "metadata": {
        "id": "H7_gEgkbzFtU"
      },
      "source": [
        "First, fit a linear model with `Log_Freq_HAL` and `Length` as predictors, and `D_RT` as the output. Include an interaction term. Use `summary()` to look at the model output. "
      ]
    },
    {
      "cell_type": "code",
      "metadata": {
        "id": "OIOIg-GRz4rN",
        "colab": {
          "base_uri": "https://localhost:8080/",
          "height": 357
        },
        "outputId": "28346e02-df1f-480d-cd23-e1545cf8cc47"
      },
      "source": [
        "comb_data.lin <- lm(D_RT_new ~ Log_Freq_HAL * Length, data = comb_data)\n",
        "comb_data.lin.summ <- summary(comb_data.lin)\n",
        "comb_data.lin.summ"
      ],
      "execution_count": 5,
      "outputs": [
        {
          "output_type": "display_data",
          "data": {
            "text/plain": [
              "\n",
              "Call:\n",
              "lm(formula = D_RT_new ~ Log_Freq_HAL * Length, data = comb_data)\n",
              "\n",
              "Residuals:\n",
              "     Min       1Q   Median       3Q      Max \n",
              "-1118.01  -205.23   -86.95    90.77  3147.07 \n",
              "\n",
              "Coefficients:\n",
              "                    Estimate Std. Error t value Pr(>|t|)    \n",
              "(Intercept)         610.1903    14.6678  41.601  < 2e-16 ***\n",
              "Log_Freq_HAL         -6.0239     1.9678  -3.061  0.00221 ** \n",
              "Length               47.7531     1.6368  29.175  < 2e-16 ***\n",
              "Log_Freq_HAL:Length  -2.9421     0.2348 -12.528  < 2e-16 ***\n",
              "---\n",
              "Signif. codes:  0 ‘***’ 0.001 ‘**’ 0.01 ‘*’ 0.05 ‘.’ 0.1 ‘ ’ 1\n",
              "\n",
              "Residual standard error: 359.1 on 62606 degrees of freedom\n",
              "Multiple R-squared:  0.09473,\tAdjusted R-squared:  0.09469 \n",
              "F-statistic:  2184 on 3 and 62606 DF,  p-value: < 2.2e-16\n"
            ]
          },
          "metadata": {
            "tags": []
          }
        }
      ]
    },
    {
      "cell_type": "markdown",
      "metadata": {
        "id": "Pbeg_JrS3mwU"
      },
      "source": [
        "Now, install `lme4` using `install.packages()` and then load the library. "
      ]
    },
    {
      "cell_type": "code",
      "metadata": {
        "id": "hFSnvvb_re2O",
        "colab": {
          "base_uri": "https://localhost:8080/"
        },
        "outputId": "cd4bf42a-ffe0-4d07-bb2e-a268cb93014d"
      },
      "source": [
        "install.packages(\"lme4\")\n",
        "library(lme4)"
      ],
      "execution_count": 6,
      "outputs": [
        {
          "output_type": "stream",
          "text": [
            "Installing package into ‘/usr/local/lib/R/site-library’\n",
            "(as ‘lib’ is unspecified)\n",
            "\n",
            "also installing the dependencies ‘minqa’, ‘nloptr’, ‘statmod’, ‘RcppEigen’\n",
            "\n",
            "\n",
            "Loading required package: Matrix\n",
            "\n",
            "\n",
            "Attaching package: ‘Matrix’\n",
            "\n",
            "\n",
            "The following objects are masked from ‘package:tidyr’:\n",
            "\n",
            "    expand, pack, unpack\n",
            "\n",
            "\n"
          ],
          "name": "stderr"
        }
      ]
    },
    {
      "cell_type": "markdown",
      "metadata": {
        "id": "xZJns7xr41nW"
      },
      "source": [
        "Now fit a mixed effects model that includes the same predictors as the linear model above, as well as random intercepts for `Sub_ID` (i.e., cases where subject ID shifts the RT mean). Use `summary()` to look at the model output. "
      ]
    },
    {
      "cell_type": "code",
      "metadata": {
        "id": "8kjwT0je57N7",
        "colab": {
          "base_uri": "https://localhost:8080/",
          "height": 493
        },
        "outputId": "e95f3dea-f86e-4277-8881-96a7e5d97077"
      },
      "source": [
        "comb_data.mix <- lmer(D_RT_new ~ Log_Freq_HAL * Length + (1 | Sub_ID), data = comb_data)\n",
        "comb_data.mix.summ <- summary(comb_data.mix)\n",
        "comb_data.mix.summ"
      ],
      "execution_count": 7,
      "outputs": [
        {
          "output_type": "display_data",
          "data": {
            "text/plain": [
              "Linear mixed model fit by REML ['lmerMod']\n",
              "Formula: D_RT_new ~ Log_Freq_HAL * Length + (1 | Sub_ID)\n",
              "   Data: comb_data\n",
              "\n",
              "REML criterion at convergence: 888235.6\n",
              "\n",
              "Scaled residuals: \n",
              "    Min      1Q  Median      3Q     Max \n",
              "-4.5058 -0.5472 -0.1568  0.3103 10.7381 \n",
              "\n",
              "Random effects:\n",
              " Groups   Name        Variance Std.Dev.\n",
              " Sub_ID   (Intercept) 46333    215.3   \n",
              " Residual             82978    288.1   \n",
              "Number of obs: 62610, groups:  Sub_ID, 299\n",
              "\n",
              "Fixed effects:\n",
              "                    Estimate Std. Error t value\n",
              "(Intercept)         616.8445    17.1522  35.963\n",
              "Log_Freq_HAL         -7.4374     1.5830  -4.698\n",
              "Length               47.7477     1.3162  36.277\n",
              "Log_Freq_HAL:Length  -2.8778     0.1888 -15.239\n",
              "\n",
              "Correlation of Fixed Effects:\n",
              "            (Intr) Lg_F_HAL Length\n",
              "Log_Frq_HAL -0.645                \n",
              "Length      -0.656  0.917         \n",
              "Lg_Fr_HAL:L  0.582 -0.942   -0.923"
            ]
          },
          "metadata": {
            "tags": []
          }
        }
      ]
    },
    {
      "cell_type": "markdown",
      "metadata": {
        "id": "Vfb_ovk7JFGt"
      },
      "source": [
        "# Model assessment (4 points)"
      ]
    },
    {
      "cell_type": "markdown",
      "metadata": {
        "id": "r7B1Ux6RHGjy"
      },
      "source": [
        "Compare the three t-values for the fixed effects and the mixed effects models. How do they differ, and why? "
      ]
    },
    {
      "cell_type": "markdown",
      "metadata": {
        "id": "kCi5gYOeHo6m"
      },
      "source": [
        "> In general, the t-value for each of the terms in the linear model is calculated by dividing the beta estimate for the term by the standard error. When we added `subject ID` as a random variable to the mixed effects model, we are partioning the variance or error of each of the terms differently because we are calculating and parsing out the contribution of the individual or subject ID specific variance from each of the terms in our model. We see the most straight forward evidence of this when comparing the standard errors for each term in our two models. In each case (`length`, `log freq`, and their `interaction`) the standard error of the terms in the mixed effects model are smaller than the fixed effects model. \n",
        "- Length\n",
        "  - Mixed effects       \n",
        "    - estimate: 47.7477 ... std. error: 1.3162 ... t-statistic: 36.277\n",
        "  - Fixed effects              \n",
        "    - estimate: 47.7531 ... std. error: 1.6368 ... t-statistic: 29.175\n",
        "\n",
        "> When we parse out the individual subject variance from the `length` term, the t-statistic increases compared to the fixed effects t-value. Because the standard error is lower and the beta estimate is largely unaffected by taking the random effects on `length` into account, the t-statistic is higher in the mixed effects model. $\\frac{similar \\beta}{\\text{smaller SE}} > \\frac{similar \\beta}{\\text{bigger SE}}$\n",
        "- Log frequency:\n",
        "  - Mixed effects       \n",
        "    - estimate: -7.4374 ... std. error: 1.5830 ... t-statistic: -4.698\n",
        "  - Fixed effects              \n",
        "    - estimate: -6.0239 ... std. error: 1.9678 ... t-statistic: -3.061\n",
        "\n",
        "> When we parse out the individual subject variance from the `log freq` term, the t-statistic decreases compared to the fixed effects t-value. The standard error is lower and the beta estimate is also lower when taking the random effects on `log freq` into account. Thus the t-statistic is lower in the mixed effects model because removing the random effect of subject ID on `log freq` made the estimate even lower. $\\frac{\\text{more negative } \\beta}{\\text{smaller SE}} < \\frac{\\text{less negative }\\beta}{\\text{bigger SE}}$\n",
        "- Length and log frequency interaction:\n",
        "  - Mixed effects       \n",
        "    - estimate: -2.8778 ... std. error: 0.1888 ... t-statistic: -15.239\n",
        "  - Fixed effects\n",
        "    - estimate: -2.9421 ... std. error: 0.2348 ... t-statistic: -12.528\n",
        "\n",
        "> When we parse out the individual subject variance from the `interaction` term, the t-statistic decreases compared to the fixed effects t-value. The standard error is lower and the beta estimate is similar when taking the random effects on `log freq` into account. Thus the t-statistic is lower in the mixed effects model because the ratio of the estimate to the standard error is higher (in the negative direction). $\\frac{\\text{similar negative } \\beta}{\\text{smaller SE}} < \\frac{\\text{similar negative }\\beta}{\\text{bigger SE}}$\n",
        "\n",
        "\n",
        "\n"
      ]
    },
    {
      "cell_type": "markdown",
      "metadata": {
        "id": "hukKG1AbGqXM"
      },
      "source": [
        "Use the Aikeke Information Criterion (AIC) to compare these two models. Which one is better? "
      ]
    },
    {
      "cell_type": "code",
      "metadata": {
        "id": "KMDg8qb5FhJz",
        "colab": {
          "base_uri": "https://localhost:8080/",
          "height": 176
        },
        "outputId": "041e10db-7218-4854-c993-3ac2c0157aee"
      },
      "source": [
        "ic = AIC(comb_data.lin, comb_data.mix)\n",
        "ic\n",
        "diff(ic$AIC)"
      ],
      "execution_count": 9,
      "outputs": [
        {
          "output_type": "display_data",
          "data": {
            "text/plain": [
              "              df AIC     \n",
              "comb_data.lin 5  914436.4\n",
              "comb_data.mix 6  888247.6"
            ],
            "text/latex": "A data.frame: 2 × 2\n\\begin{tabular}{r|ll}\n  & df & AIC\\\\\n  & <dbl> & <dbl>\\\\\n\\hline\n\tcomb\\_data.lin & 5 & 914436.4\\\\\n\tcomb\\_data.mix & 6 & 888247.6\\\\\n\\end{tabular}\n",
            "text/markdown": "\nA data.frame: 2 × 2\n\n| <!--/--> | df &lt;dbl&gt; | AIC &lt;dbl&gt; |\n|---|---|---|\n| comb_data.lin | 5 | 914436.4 |\n| comb_data.mix | 6 | 888247.6 |\n\n",
            "text/html": [
              "<table class=\"dataframe\">\n",
              "<caption>A data.frame: 2 × 2</caption>\n",
              "<thead>\n",
              "\t<tr><th></th><th scope=col>df</th><th scope=col>AIC</th></tr>\n",
              "\t<tr><th></th><th scope=col>&lt;dbl&gt;</th><th scope=col>&lt;dbl&gt;</th></tr>\n",
              "</thead>\n",
              "<tbody>\n",
              "\t<tr><th scope=row>comb_data.lin</th><td>5</td><td>914436.4</td></tr>\n",
              "\t<tr><th scope=row>comb_data.mix</th><td>6</td><td>888247.6</td></tr>\n",
              "</tbody>\n",
              "</table>\n"
            ]
          },
          "metadata": {
            "tags": []
          }
        },
        {
          "output_type": "display_data",
          "data": {
            "text/plain": [
              "[1] -26188.82"
            ],
            "text/latex": "-26188.8233715765",
            "text/markdown": "-26188.8233715765",
            "text/html": [
              "-26188.8233715765"
            ]
          },
          "metadata": {
            "tags": []
          }
        }
      ]
    },
    {
      "cell_type": "markdown",
      "metadata": {
        "id": "T4oTfsYmIvYt"
      },
      "source": [
        "> The mixed effects model is better choice to model the data because it has the lowest AIC. Because the difference between the fixed effects and mixed effects models is large, the mixed effect model with subject ID as a random effect appears to account for substantially more variance in the reaction time than the fixed effects model even after accounting for complexity."
      ]
    },
    {
      "cell_type": "markdown",
      "metadata": {
        "id": "ARF2PF2yLXkZ"
      },
      "source": [
        "# Reflection (1 point)\n",
        "\n",
        "What other random effects could be controlled for in this data set? \n",
        "> We should control for the individual word items (e.g. stimulus ID for the words) to see whether there are any effect driven by particular words. "
      ]
    },
    {
      "cell_type": "markdown",
      "metadata": {
        "id": "C4MPECMmZXqe"
      },
      "source": [
        "**DUE:** 5pm EST, March 25, 2021"
      ]
    },
    {
      "cell_type": "markdown",
      "metadata": {
        "id": "r9GUofXN4BVy"
      },
      "source": [
        "**IMPORTANT** Did you collaborate with anyone on this assignment? If so, list their names here. \n",
        "> Urszula Oszczapinska\n",
        "\n",
        "> Austin Luor"
      ]
    }
  ]
}