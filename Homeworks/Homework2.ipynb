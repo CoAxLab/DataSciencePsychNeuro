{
 "nbformat": 4,
 "nbformat_minor": 0,
 "metadata": {
  "colab": {
   "name": "Homework2.ipynb",
   "provenance": [],
   "collapsed_sections": []
  },
  "kernelspec": {
   "display_name": "R",
   "language": "R",
   "name": "ir"
  },
  "language_info": {
   "codemirror_mode": "r",
   "file_extension": ".r",
   "mimetype": "text/x-r-source",
   "name": "R",
   "pygments_lexer": "r",
   "version": "3.6.2"
  }
 },
 "cells": [
  {
   "cell_type": "markdown",
   "metadata": {
    "id": "-2W919d2ZXp7"
   },
   "source": [
    "# Homework 2: Data tables"
   ]
  },
  {
   "cell_type": "markdown",
   "metadata": {
    "id": "L4nOzVhyZXqK"
   },
   "source": [
    "This homework assignment is designed to get you comfortable loading and working with data tables.\n",
    "\n",
    "You will need to download the **LexicalData_toclean.csv** file from the *Homework/lexDat* folder in the class GitHub repository. \n",
    "\n",
    "This data is a subset of the [English Lexicon Project database](https://elexicon.wustl.edu/). It provides the reaction times (in milliseconds) of many subjects as they are presented with letter strings and asked to decide, as quickly and as accurately as possible, whether the letter string is a word or not.\n",
    "\n",
    "*Data courtesy of Balota, D.A., Yap, M.J., Cortese, M.J., Hutchison, K.A., Kessler, B., Loftis, B., Neely, J.H., Nelson, D.L., Simpson, G.B., & Treiman, R. (2007). The English Lexicon Project. Behavior Research Methods, 39, 445-459.*"
   ]
  },
  {
   "cell_type": "markdown",
   "metadata": {
    "id": "9DsyBTB6ZXqN"
   },
   "source": [
    "---\n",
    "1. **Loading the Data (1 point)** \n",
    "\n",
    "Use the `setwd` and `read.csv` functions to load the data table from the **LexicalData_toclean.csv** file. Use the `head` function to look at the first few rows of the data. "
   ]
  },
  {
   "cell_type": "code",
   "metadata": {
    "id": "UnBVazYfZXqP"
   },
   "source": [
    "# WRITE YOUR CODE HERE"
   ],
   "execution_count": null,
   "outputs": []
  },
  {
   "cell_type": "markdown",
   "metadata": {
    "id": "vk5oha2W4G7h"
   },
   "source": [
    "The **LexicalData_toclean.csv** file contains the variables `Sub_ID` (Subject ID), `Trial` (the trial number), `D_RT` (reaction time) and `D_Word` (the word they were responding to)."
   ]
  },
  {
   "cell_type": "markdown",
   "metadata": {
    "id": "SJuj14ZyZXqS"
   },
   "source": [
    "---\n",
    "2. **Data Cleansing (4 points)**\n",
    "\n",
    "There are three things we want to do to make this data more useable:\n",
    "* Get rid of the commas in the reaction time values, and make this variable numeric (hint: check out the functions `gsub` and `as.numeric`).\n",
    "* Get rid of rows where the reaction times are missing (hint: you can use the `filter` function from `tidyverse`, but you'll need to load the library).\n",
    "* Make sure all of the reaction times are positive. \n",
    "\n",
    "Write code that will copy the data to a new variable and make the above changes. "
   ]
  },
  {
   "cell_type": "code",
   "metadata": {
    "id": "5pXIjADNZXqU"
   },
   "source": [
    "# WRITE YOUR CODE HERE"
   ],
   "execution_count": null,
   "outputs": []
  },
  {
   "cell_type": "markdown",
   "metadata": {
    "id": "a3tOGnZL5E9S"
   },
   "source": [
    "For each of the three actions above, is it addressing a data anomaly (as described in the Müller reading)? If so, name the *type* of anomaly it's addressing. "
   ]
  },
  {
   "cell_type": "markdown",
   "metadata": {
    "id": "6CvlJZOK5qx0"
   },
   "source": [
    "> *Write your response here.*\n",
    "> * First action: syntactic\n",
    "> * Second action: coverage\n",
    "> * Third action: semantic"
   ]
  },
  {
   "cell_type": "markdown",
   "metadata": {
    "id": "AX4B1CxyZXqX"
   },
   "source": [
    "---\n",
    "3. **Data Manipulation with Tidyverse (4 points)**\n",
    "\n",
    "Now let's use `tidyverse` functions to play around with this data a bit. Use the piping operator (`%>%`) in both of these code cells. \n",
    "\n",
    "First, let's get some useful summary **statistics** using `summarise`. Output a table that tells us how many observations there are in the data set, as well as the mean and standard deviation of the reaction times."
   ]
  },
  {
   "cell_type": "code",
   "metadata": {
    "id": "S_DJDsUzZXqY"
   },
   "source": [
    "#INSERT CODE HERE\n",
    "\n"
   ],
   "execution_count": null,
   "outputs": []
  },
  {
   "cell_type": "markdown",
   "metadata": {
    "id": "RgKbS2AqIDQ-"
   },
   "source": [
    "Now, we'll use `mutate` to re-number the trials, starting from 0 instead of 1. Make a new variable that is equal to the `Trial` variable minus one. "
   ]
  },
  {
   "cell_type": "code",
   "metadata": {
    "id": "ejQvUAZRZXqd"
   },
   "source": [
    "#INSERT CODE HERE"
   ],
   "execution_count": null,
   "outputs": []
  },
  {
   "cell_type": "markdown",
   "metadata": {
    "id": "MSV81LJGMCjs"
   },
   "source": [
    "4. **Plotting Data (1 point)**\n",
    "\n",
    "Use the `plot()` function to visualize the data, in a way that helps you see if there's a relationship between `D_RT` and your new trial variable."
   ]
  },
  {
   "cell_type": "code",
   "metadata": {
    "id": "AA8f06KzM3Bg"
   },
   "source": [
    "#INSERT CODE HERE"
   ],
   "execution_count": null,
   "outputs": []
  },
  {
   "cell_type": "markdown",
   "metadata": {
    "id": "2slWzsoYGuLt"
   },
   "source": [
    "That's all for Homework 2! When you are finished, save the notebook as Homework2.ipynb, push it to your class GitHub repository (the one you made for Homework 1) and send the instructors a link to your notebook via Canvas. You can send messages via Canvas by clicking \"Inbox\" on the left and then pressing the icon with a pencil inside a square."
   ]
  },
  {
   "cell_type": "markdown",
   "metadata": {
    "id": "C4MPECMmZXqe"
   },
   "source": [
    "**DUE:** 5pm EST, Feb 25, 2021"
   ]
  },
  {
   "cell_type": "markdown",
   "metadata": {
    "id": "r9GUofXN4BVy"
   },
   "source": [
    "**IMPORTANT** Did you collaborate with anyone on this assignment? If so, list their names here. \n",
    "> *Someone's Name*"
   ]
  }
 ]
}