{
 "nbformat": 4,
 "nbformat_minor": 0,
 "metadata": {
  "colab": {
   "name": "05 - Data as objects and architectures.ipynb",
   "provenance": [],
   "collapsed_sections": [
    "8P2Yjlvj0ZAU",
    "qHYA9eW30ZAV",
    "UHrvl9A10ZAW",
    "QOP2juim0ZAY",
    "IH9yxLQB0ZAZ",
    "za8IdRYR0ZAZ",
    "1A9LI6580ZAa"
   ]
  },
  "kernelspec": {
   "display_name": "R",
   "language": "R",
   "name": "ir"
  },
  "language_info": {
   "codemirror_mode": "r",
   "file_extension": ".r",
   "mimetype": "text/x-r-source",
   "name": "R",
   "pygments_lexer": "r",
   "version": "3.6.2"
  }
 },
 "cells": [
  {
   "cell_type": "markdown",
   "metadata": {
    "id": "J1TgD9BM0ZAG"
   },
   "source": [
    "## 1. Data processing in R\n",
    "\n",
    "### 1.1 Getting started\n",
    "\n",
    "For many people, their first instinct is to open the data with Excel and just manually clean-up the data, by replacing values, creating new columns, etc., entirely by hand. The problem with that approach is that you cannot easily replicate the steps you have taken to transform the raw data into the final format you use for your analyses. This issue has many consequences, but among the two most common are, first, that if you get new or additional data from the same source, you would have to manually perform the same operations again, and second, if you make a mistake it would be difficult to identify where exactly that happened. The best approach is to preprocess your data with a script in the same way you do your analyses. However, doing so in base R can be quite cumbersome. In this tutorial, you will learn how to use tools for the **`tidyverse`** packages. Tidyverse is a collection of useful packages, which include **`ggplot2`**, **`tidyr`**, **`dplyr`**, etc, combined in a single package.\n",
    "\n",
    "Before we begin, you'll need to install and load the `tidyverse` package:"
   ]
  },
  {
   "cell_type": "code",
   "metadata": {
    "id": "azOT-wpb0ZAI"
   },
   "source": [
    "# function to install the packages if missing, otherwise, just load them\n",
    "import_packages <- function(packages) {\n",
    "    for (package in packages) {\n",
    "        if (!(package %in% row.names(installed.packages()))) { #if the package is not installed\n",
    "            install.packages(package, repos = \"http://cran.us.r-project.org\") #install from archive\n",
    "        } \n",
    "        library(package, character.only = TRUE) #load the set of packages that you gave to the function\n",
    "    }\n",
    "}\n",
    "\n",
    "import_packages(c('tidyverse')) #call the function with tidyverse as the input"
   ],
   "execution_count": null,
   "outputs": []
  },
  {
   "cell_type": "markdown",
   "metadata": {
    "id": "iEsnhio60ZAJ"
   },
   "source": [
    "Or you can do this: \n",
    "\n",
    "```R\n",
    "install.packages('tidyverse')\n",
    "library(tidyverse)\n",
    "```"
   ]
  },
  {
   "cell_type": "markdown",
   "metadata": {
    "id": "e5yZZfJS0ZAJ"
   },
   "source": [
    "Below is a summary of the functions we will review and their general description:\n",
    "\n",
    "* **mutate()** - transforming existing variables and creating new variables\n",
    "* **summarise()** - summarizing variables\n",
    "* **filter()** - filtering dataframes\n",
    "* **select()** - selecting columns to keep/remove\n",
    "* **arrange()** - sorting by column/columns\n",
    "* **join()** - merging multiple dataframes\n",
    "* **group_by()** - performing the same operation to different subgroups of data and combining the results\n",
    "* **spread()** - transforming data to wide format\n",
    "* **gather()** - transforming data to long format\n",
    "* **separate()** - split one column into multiple columns\n",
    "* **unite()** - combine two columns into one"
   ]
  },
  {
   "cell_type": "markdown",
   "metadata": {
    "id": "DSbZZ6q0c2nL"
   },
   "source": [
    "### 1.2 Basic R Commands\n",
    "\n",
    "* **Arithmetic**\n",
    "\n",
    "In R, you can do basic arithmetic just like any other programming language e.g.,"
   ]
  },
  {
   "cell_type": "code",
   "metadata": {
    "colab": {
     "base_uri": "https://localhost:8080/",
     "height": 69
    },
    "id": "NHz9WgOMc-2Z",
    "executionInfo": {
     "elapsed": 1109,
     "status": "ok",
     "timestamp": 1611095668592,
     "user": {
      "displayName": "Patience Stevens",
      "photoUrl": "https://lh3.googleusercontent.com/a-/AOh14Gi-_9ZqhIFhAv1oMehJNvNuIKSTyrFQHzjxQKhx=s64",
      "userId": "01994571539255174942"
     },
     "user_tz": 300
    },
    "outputId": "9012b762-a648-4c69-eee8-a8c927374fa3"
   },
   "source": [
    "6+2\n",
    "10-3*4\n",
    "5^3"
   ],
   "execution_count": null,
   "outputs": [
    {
     "output_type": "display_data",
     "data": {
      "text/html": [
       "8"
      ],
      "text/latex": "8",
      "text/markdown": "8",
      "text/plain": [
       "[1] 8"
      ]
     },
     "metadata": {
      "tags": []
     }
    },
    {
     "output_type": "display_data",
     "data": {
      "text/html": [
       "-2"
      ],
      "text/latex": "-2",
      "text/markdown": "-2",
      "text/plain": [
       "[1] -2"
      ]
     },
     "metadata": {
      "tags": []
     }
    },
    {
     "output_type": "display_data",
     "data": {
      "text/html": [
       "125"
      ],
      "text/latex": "125",
      "text/markdown": "125",
      "text/plain": [
       "[1] 125"
      ]
     },
     "metadata": {
      "tags": []
     }
    }
   ]
  },
  {
   "cell_type": "markdown",
   "metadata": {
    "id": "mAlJh1JmdDY7"
   },
   "source": [
    "* **Data structures**\n",
    "\n",
    "Vectors: vectors are lists of numbers or strings. "
   ]
  },
  {
   "cell_type": "code",
   "metadata": {
    "colab": {
     "base_uri": "https://localhost:8080/"
    },
    "id": "rMaIPMt4dOc-",
    "executionInfo": {
     "elapsed": 1092,
     "status": "ok",
     "timestamp": 1611095668594,
     "user": {
      "displayName": "Patience Stevens",
      "photoUrl": "https://lh3.googleusercontent.com/a-/AOh14Gi-_9ZqhIFhAv1oMehJNvNuIKSTyrFQHzjxQKhx=s64",
      "userId": "01994571539255174942"
     },
     "user_tz": 300
    },
    "outputId": "d7756a06-0e35-46b8-f060-01d6810de274"
   },
   "source": [
    "a <- c(1,2,3)\n",
    "b <- c(4,5,6)\n",
    "print(paste(\"mean of vector a:\",mean(a)))\n",
    "print(paste(\"sum of vector b:\",sum(b)))"
   ],
   "execution_count": null,
   "outputs": [
    {
     "output_type": "stream",
     "text": [
      "[1] \"mean of vector a: 2\"\n",
      "[1] \"sum of vector b: 15\"\n"
     ],
     "name": "stdout"
    }
   ]
  },
  {
   "cell_type": "markdown",
   "metadata": {
    "id": "IKuizusTeLpT"
   },
   "source": [
    "You can do element-wise operations on two vectors easily:"
   ]
  },
  {
   "cell_type": "code",
   "metadata": {
    "colab": {
     "base_uri": "https://localhost:8080/",
     "height": 34
    },
    "id": "9McHF1LMePix",
    "executionInfo": {
     "elapsed": 1076,
     "status": "ok",
     "timestamp": 1611095668597,
     "user": {
      "displayName": "Patience Stevens",
      "photoUrl": "https://lh3.googleusercontent.com/a-/AOh14Gi-_9ZqhIFhAv1oMehJNvNuIKSTyrFQHzjxQKhx=s64",
      "userId": "01994571539255174942"
     },
     "user_tz": 300
    },
    "outputId": "154e41ef-24b3-49a8-c03c-68b6f48e8f5b"
   },
   "source": [
    "a*b"
   ],
   "execution_count": null,
   "outputs": [
    {
     "output_type": "display_data",
     "data": {
      "text/html": [
       "<style>\n",
       ".list-inline {list-style: none; margin:0; padding: 0}\n",
       ".list-inline>li {display: inline-block}\n",
       ".list-inline>li:not(:last-child)::after {content: \"\\00b7\"; padding: 0 .5ex}\n",
       "</style>\n",
       "<ol class=list-inline><li>4</li><li>10</li><li>18</li></ol>\n"
      ],
      "text/latex": "\\begin{enumerate*}\n\\item 4\n\\item 10\n\\item 18\n\\end{enumerate*}\n",
      "text/markdown": "1. 4\n2. 10\n3. 18\n\n\n",
      "text/plain": [
       "[1]  4 10 18"
      ]
     },
     "metadata": {
      "tags": []
     }
    }
   ]
  },
  {
   "cell_type": "markdown",
   "metadata": {
    "id": "7XYEg4IoeYOt"
   },
   "source": [
    "Data frames: data frames can contain data of mixed types such as numbers and strings. Usually, each column is a different variable (e.g., Age, Test Score), and items within each column are of the same type. "
   ]
  },
  {
   "cell_type": "code",
   "metadata": {
    "colab": {
     "base_uri": "https://localhost:8080/",
     "height": 143
    },
    "id": "wHLr4mp1fDbR",
    "executionInfo": {
     "elapsed": 1204,
     "status": "ok",
     "timestamp": 1611095668743,
     "user": {
      "displayName": "Patience Stevens",
      "photoUrl": "https://lh3.googleusercontent.com/a-/AOh14Gi-_9ZqhIFhAv1oMehJNvNuIKSTyrFQHzjxQKhx=s64",
      "userId": "01994571539255174942"
     },
     "user_tz": 300
    },
    "outputId": "f98a40b2-f0bf-404e-e8c8-1777b268c22c"
   },
   "source": [
    "c <- c(\"one\",\"two\",\"three\")\n",
    "data <- data.frame(avar=a,bvar=b,cvar=c)\n",
    "data"
   ],
   "execution_count": null,
   "outputs": [
    {
     "output_type": "display_data",
     "data": {
      "text/html": [
       "<table>\n",
       "<caption>A data.frame: 3 × 3</caption>\n",
       "<thead>\n",
       "\t<tr><th scope=col>avar</th><th scope=col>bvar</th><th scope=col>cvar</th></tr>\n",
       "\t<tr><th scope=col>&lt;dbl&gt;</th><th scope=col>&lt;dbl&gt;</th><th scope=col>&lt;chr&gt;</th></tr>\n",
       "</thead>\n",
       "<tbody>\n",
       "\t<tr><td>1</td><td>4</td><td>one  </td></tr>\n",
       "\t<tr><td>2</td><td>5</td><td>two  </td></tr>\n",
       "\t<tr><td>3</td><td>6</td><td>three</td></tr>\n",
       "</tbody>\n",
       "</table>\n"
      ],
      "text/latex": "A data.frame: 3 × 3\n\\begin{tabular}{lll}\n avar & bvar & cvar\\\\\n <dbl> & <dbl> & <chr>\\\\\n\\hline\n\t 1 & 4 & one  \\\\\n\t 2 & 5 & two  \\\\\n\t 3 & 6 & three\\\\\n\\end{tabular}\n",
      "text/markdown": "\nA data.frame: 3 × 3\n\n| avar &lt;dbl&gt; | bvar &lt;dbl&gt; | cvar &lt;chr&gt; |\n|---|---|---|\n| 1 | 4 | one   |\n| 2 | 5 | two   |\n| 3 | 6 | three |\n\n",
      "text/plain": [
       "  avar bvar cvar \n",
       "1 1    4    one  \n",
       "2 2    5    two  \n",
       "3 3    6    three"
      ]
     },
     "metadata": {
      "tags": []
     }
    }
   ]
  },
  {
   "cell_type": "markdown",
   "metadata": {
    "id": "DRQI9bdHgKX2"
   },
   "source": [
    "In the data frame printed above, you can see that both variables **avar** and **bvar** are type **\\<dbl\\>** (short for \"double\", another term for numeric) while variable **cvar** is type **\\<chr\\>**, or \"character\". \n",
    "\n"
   ]
  },
  {
   "cell_type": "markdown",
   "metadata": {
    "id": "Q9TPx4z9g9T3"
   },
   "source": [
    "* **Indexing**"
   ]
  },
  {
   "cell_type": "markdown",
   "metadata": {
    "id": "p9Aq5_PBhAtU"
   },
   "source": [
    "In a vector, you can index data by its position: "
   ]
  },
  {
   "cell_type": "code",
   "metadata": {
    "colab": {
     "base_uri": "https://localhost:8080/",
     "height": 34
    },
    "id": "wcpm1Jp6hPw1",
    "executionInfo": {
     "elapsed": 1188,
     "status": "ok",
     "timestamp": 1611095668745,
     "user": {
      "displayName": "Patience Stevens",
      "photoUrl": "https://lh3.googleusercontent.com/a-/AOh14Gi-_9ZqhIFhAv1oMehJNvNuIKSTyrFQHzjxQKhx=s64",
      "userId": "01994571539255174942"
     },
     "user_tz": 300
    },
    "outputId": "b224f3ce-c54d-4ee6-c972-ad8b4baef614"
   },
   "source": [
    "a[2]"
   ],
   "execution_count": null,
   "outputs": [
    {
     "output_type": "display_data",
     "data": {
      "text/html": [
       "2"
      ],
      "text/latex": "2",
      "text/markdown": "2",
      "text/plain": [
       "[1] 2"
      ]
     },
     "metadata": {
      "tags": []
     }
    }
   ]
  },
  {
   "cell_type": "markdown",
   "metadata": {
    "id": "iXIwwT6EfZUA"
   },
   "source": [
    "You can index data by its column and row number in a data frame: "
   ]
  },
  {
   "cell_type": "code",
   "metadata": {
    "colab": {
     "base_uri": "https://localhost:8080/",
     "height": 34
    },
    "id": "RmvJgTHrfy7K",
    "executionInfo": {
     "elapsed": 1173,
     "status": "ok",
     "timestamp": 1611095668747,
     "user": {
      "displayName": "Patience Stevens",
      "photoUrl": "https://lh3.googleusercontent.com/a-/AOh14Gi-_9ZqhIFhAv1oMehJNvNuIKSTyrFQHzjxQKhx=s64",
      "userId": "01994571539255174942"
     },
     "user_tz": 300
    },
    "outputId": "2443b402-1528-400e-cdf1-7b8119c3b914"
   },
   "source": [
    "data[2,1]"
   ],
   "execution_count": null,
   "outputs": [
    {
     "output_type": "display_data",
     "data": {
      "text/html": [
       "2"
      ],
      "text/latex": "2",
      "text/markdown": "2",
      "text/plain": [
       "[1] 2"
      ]
     },
     "metadata": {
      "tags": []
     }
    }
   ]
  },
  {
   "cell_type": "markdown",
   "metadata": {
    "id": "fwo5cHGrhgBR"
   },
   "source": [
    "You can also index a particular column by its variable name: "
   ]
  },
  {
   "cell_type": "code",
   "metadata": {
    "colab": {
     "base_uri": "https://localhost:8080/",
     "height": 34
    },
    "id": "IL-iohTwhrUi",
    "executionInfo": {
     "elapsed": 1156,
     "status": "ok",
     "timestamp": 1611095668749,
     "user": {
      "displayName": "Patience Stevens",
      "photoUrl": "https://lh3.googleusercontent.com/a-/AOh14Gi-_9ZqhIFhAv1oMehJNvNuIKSTyrFQHzjxQKhx=s64",
      "userId": "01994571539255174942"
     },
     "user_tz": 300
    },
    "outputId": "8b7370b5-4092-4962-94de-fe7f226ba713"
   },
   "source": [
    "data$bvar"
   ],
   "execution_count": null,
   "outputs": [
    {
     "output_type": "display_data",
     "data": {
      "text/html": [
       "<style>\n",
       ".list-inline {list-style: none; margin:0; padding: 0}\n",
       ".list-inline>li {display: inline-block}\n",
       ".list-inline>li:not(:last-child)::after {content: \"\\00b7\"; padding: 0 .5ex}\n",
       "</style>\n",
       "<ol class=list-inline><li>4</li><li>5</li><li>6</li></ol>\n"
      ],
      "text/latex": "\\begin{enumerate*}\n\\item 4\n\\item 5\n\\item 6\n\\end{enumerate*}\n",
      "text/markdown": "1. 4\n2. 5\n3. 6\n\n\n",
      "text/plain": [
       "[1] 4 5 6"
      ]
     },
     "metadata": {
      "tags": []
     }
    }
   ]
  },
  {
   "cell_type": "markdown",
   "metadata": {
    "id": "sCFOZpW3ht-H"
   },
   "source": [
    "Or, you can access a particular column or row by its position in the data frame:"
   ]
  },
  {
   "cell_type": "code",
   "metadata": {
    "colab": {
     "base_uri": "https://localhost:8080/",
     "height": 52
    },
    "id": "5DdXFO5vh1rO",
    "executionInfo": {
     "elapsed": 1142,
     "status": "ok",
     "timestamp": 1611095668752,
     "user": {
      "displayName": "Patience Stevens",
      "photoUrl": "https://lh3.googleusercontent.com/a-/AOh14Gi-_9ZqhIFhAv1oMehJNvNuIKSTyrFQHzjxQKhx=s64",
      "userId": "01994571539255174942"
     },
     "user_tz": 300
    },
    "outputId": "99089e31-6e62-4113-975b-1a5a581ce9cf"
   },
   "source": [
    "print(\"Column 3\")\n",
    "data[,3]"
   ],
   "execution_count": null,
   "outputs": [
    {
     "output_type": "stream",
     "text": [
      "[1] \"Column 3\"\n"
     ],
     "name": "stdout"
    },
    {
     "output_type": "display_data",
     "data": {
      "text/html": [
       "<style>\n",
       ".list-inline {list-style: none; margin:0; padding: 0}\n",
       ".list-inline>li {display: inline-block}\n",
       ".list-inline>li:not(:last-child)::after {content: \"\\00b7\"; padding: 0 .5ex}\n",
       "</style>\n",
       "<ol class=list-inline><li>'one'</li><li>'two'</li><li>'three'</li></ol>\n"
      ],
      "text/latex": "\\begin{enumerate*}\n\\item 'one'\n\\item 'two'\n\\item 'three'\n\\end{enumerate*}\n",
      "text/markdown": "1. 'one'\n2. 'two'\n3. 'three'\n\n\n",
      "text/plain": [
       "[1] \"one\"   \"two\"   \"three\""
      ]
     },
     "metadata": {
      "tags": []
     }
    }
   ]
  },
  {
   "cell_type": "code",
   "metadata": {
    "colab": {
     "base_uri": "https://localhost:8080/",
     "height": 118
    },
    "id": "by2Yei7RiIJN",
    "executionInfo": {
     "elapsed": 1381,
     "status": "ok",
     "timestamp": 1611095669010,
     "user": {
      "displayName": "Patience Stevens",
      "photoUrl": "https://lh3.googleusercontent.com/a-/AOh14Gi-_9ZqhIFhAv1oMehJNvNuIKSTyrFQHzjxQKhx=s64",
      "userId": "01994571539255174942"
     },
     "user_tz": 300
    },
    "outputId": "d5a7af92-d428-449b-eb9b-9c865831842f"
   },
   "source": [
    "print(\"Row 1\")\n",
    "data[1,]"
   ],
   "execution_count": null,
   "outputs": [
    {
     "output_type": "stream",
     "text": [
      "[1] \"Row 1\"\n"
     ],
     "name": "stdout"
    },
    {
     "output_type": "display_data",
     "data": {
      "text/html": [
       "<table>\n",
       "<caption>A data.frame: 1 × 3</caption>\n",
       "<thead>\n",
       "\t<tr><th></th><th scope=col>avar</th><th scope=col>bvar</th><th scope=col>cvar</th></tr>\n",
       "\t<tr><th></th><th scope=col>&lt;dbl&gt;</th><th scope=col>&lt;dbl&gt;</th><th scope=col>&lt;chr&gt;</th></tr>\n",
       "</thead>\n",
       "<tbody>\n",
       "\t<tr><th scope=row>1</th><td>1</td><td>4</td><td>one</td></tr>\n",
       "</tbody>\n",
       "</table>\n"
      ],
      "text/latex": "A data.frame: 1 × 3\n\\begin{tabular}{r|lll}\n  & avar & bvar & cvar\\\\\n  & <dbl> & <dbl> & <chr>\\\\\n\\hline\n\t1 & 1 & 4 & one\\\\\n\\end{tabular}\n",
      "text/markdown": "\nA data.frame: 1 × 3\n\n| <!--/--> | avar &lt;dbl&gt; | bvar &lt;dbl&gt; | cvar &lt;chr&gt; |\n|---|---|---|---|\n| 1 | 1 | 4 | one |\n\n",
      "text/plain": [
       "  avar bvar cvar\n",
       "1 1    4    one "
      ]
     },
     "metadata": {
      "tags": []
     }
    }
   ]
  },
  {
   "cell_type": "markdown",
   "metadata": {
    "id": "Zuvvkx6I0ZAK"
   },
   "source": [
    "## 2. Tidy data"
   ]
  },
  {
   "cell_type": "markdown",
   "metadata": {
    "id": "GygYOYht0ZAK"
   },
   "source": [
    "The key concept here is called **tidy data**. Tidy data assumes that your data is organized as follows:\n",
    "* Columns are variables\n",
    "* Rows are individual observations\n",
    "* Observation for each variable is stored in the corresponding cell\n",
    "\n",
    "There are two versions of the tidy data format - long and wide. To illustrate the difference, imagine a repeated measures dataset, where you gather four observations for each subject at four different time points. In the **long data** format, the columns will be *subject*, *timepoint*, and *observation*, where each row will be one observation at a specific timepoint for a specific subject. For example:"
   ]
  },
  {
   "cell_type": "code",
   "metadata": {
    "colab": {
     "base_uri": "https://localhost:8080/",
     "height": 336
    },
    "id": "6P41tAP50ZAK",
    "executionInfo": {
     "elapsed": 1367,
     "status": "ok",
     "timestamp": 1611095669012,
     "user": {
      "displayName": "Patience Stevens",
      "photoUrl": "https://lh3.googleusercontent.com/a-/AOh14Gi-_9ZqhIFhAv1oMehJNvNuIKSTyrFQHzjxQKhx=s64",
      "userId": "01994571539255174942"
     },
     "user_tz": 300
    },
    "outputId": "747d5ddf-235f-4662-9b54-e414354b75cf"
   },
   "source": [
    "long_data <- data.frame(subject = rep(1:3, each=4),\n",
    "                        timepoint = rep(1:4, times=3),\n",
    "                        observation = round(rnorm(12), 2))\n",
    "long_data"
   ],
   "execution_count": null,
   "outputs": [
    {
     "output_type": "display_data",
     "data": {
      "text/html": [
       "<table>\n",
       "<caption>A data.frame: 12 × 3</caption>\n",
       "<thead>\n",
       "\t<tr><th scope=col>subject</th><th scope=col>timepoint</th><th scope=col>observation</th></tr>\n",
       "\t<tr><th scope=col>&lt;int&gt;</th><th scope=col>&lt;int&gt;</th><th scope=col>&lt;dbl&gt;</th></tr>\n",
       "</thead>\n",
       "<tbody>\n",
       "\t<tr><td>1</td><td>1</td><td> 0.56</td></tr>\n",
       "\t<tr><td>1</td><td>2</td><td>-0.48</td></tr>\n",
       "\t<tr><td>1</td><td>3</td><td> 0.64</td></tr>\n",
       "\t<tr><td>1</td><td>4</td><td>-0.18</td></tr>\n",
       "\t<tr><td>2</td><td>1</td><td> 0.38</td></tr>\n",
       "\t<tr><td>2</td><td>2</td><td> 0.56</td></tr>\n",
       "\t<tr><td>2</td><td>3</td><td>-1.83</td></tr>\n",
       "\t<tr><td>2</td><td>4</td><td>-0.43</td></tr>\n",
       "\t<tr><td>3</td><td>1</td><td>-0.94</td></tr>\n",
       "\t<tr><td>3</td><td>2</td><td>-1.57</td></tr>\n",
       "\t<tr><td>3</td><td>3</td><td> 1.32</td></tr>\n",
       "\t<tr><td>3</td><td>4</td><td>-0.31</td></tr>\n",
       "</tbody>\n",
       "</table>\n"
      ],
      "text/latex": "A data.frame: 12 × 3\n\\begin{tabular}{lll}\n subject & timepoint & observation\\\\\n <int> & <int> & <dbl>\\\\\n\\hline\n\t 1 & 1 &  0.56\\\\\n\t 1 & 2 & -0.48\\\\\n\t 1 & 3 &  0.64\\\\\n\t 1 & 4 & -0.18\\\\\n\t 2 & 1 &  0.38\\\\\n\t 2 & 2 &  0.56\\\\\n\t 2 & 3 & -1.83\\\\\n\t 2 & 4 & -0.43\\\\\n\t 3 & 1 & -0.94\\\\\n\t 3 & 2 & -1.57\\\\\n\t 3 & 3 &  1.32\\\\\n\t 3 & 4 & -0.31\\\\\n\\end{tabular}\n",
      "text/markdown": "\nA data.frame: 12 × 3\n\n| subject &lt;int&gt; | timepoint &lt;int&gt; | observation &lt;dbl&gt; |\n|---|---|---|\n| 1 | 1 |  0.56 |\n| 1 | 2 | -0.48 |\n| 1 | 3 |  0.64 |\n| 1 | 4 | -0.18 |\n| 2 | 1 |  0.38 |\n| 2 | 2 |  0.56 |\n| 2 | 3 | -1.83 |\n| 2 | 4 | -0.43 |\n| 3 | 1 | -0.94 |\n| 3 | 2 | -1.57 |\n| 3 | 3 |  1.32 |\n| 3 | 4 | -0.31 |\n\n",
      "text/plain": [
       "   subject timepoint observation\n",
       "1  1       1          0.56      \n",
       "2  1       2         -0.48      \n",
       "3  1       3          0.64      \n",
       "4  1       4         -0.18      \n",
       "5  2       1          0.38      \n",
       "6  2       2          0.56      \n",
       "7  2       3         -1.83      \n",
       "8  2       4         -0.43      \n",
       "9  3       1         -0.94      \n",
       "10 3       2         -1.57      \n",
       "11 3       3          1.32      \n",
       "12 3       4         -0.31      "
      ]
     },
     "metadata": {
      "tags": []
     }
    }
   ]
  },
  {
   "cell_type": "markdown",
   "metadata": {
    "id": "gfjAUDkx0ZAL"
   },
   "source": [
    "Alternatively, the data can be organized in a **wide format**, in which the four different timepoints are represented as different columns, each row is a single subject, and the observation for each timepoint is stored at a cell within that column. Like this (don't worry about the code for now, it is explained in the subsequent section):"
   ]
  },
  {
   "cell_type": "code",
   "metadata": {
    "colab": {
     "base_uri": "https://localhost:8080/",
     "height": 143
    },
    "id": "f0gKFGvd0ZAL",
    "executionInfo": {
     "elapsed": 1350,
     "status": "ok",
     "timestamp": 1611095669013,
     "user": {
      "displayName": "Patience Stevens",
      "photoUrl": "https://lh3.googleusercontent.com/a-/AOh14Gi-_9ZqhIFhAv1oMehJNvNuIKSTyrFQHzjxQKhx=s64",
      "userId": "01994571539255174942"
     },
     "user_tz": 300
    },
    "outputId": "480e1d6f-6852-4d3e-ff17-6cbdd0a06835"
   },
   "source": [
    "long_data  %>% \n",
    "    mutate(timepoint = paste0('time',timepoint))  %>% \n",
    "    spread(timepoint, observation)"
   ],
   "execution_count": null,
   "outputs": [
    {
     "output_type": "display_data",
     "data": {
      "text/html": [
       "<table>\n",
       "<caption>A data.frame: 3 × 5</caption>\n",
       "<thead>\n",
       "\t<tr><th scope=col>subject</th><th scope=col>time1</th><th scope=col>time2</th><th scope=col>time3</th><th scope=col>time4</th></tr>\n",
       "\t<tr><th scope=col>&lt;int&gt;</th><th scope=col>&lt;dbl&gt;</th><th scope=col>&lt;dbl&gt;</th><th scope=col>&lt;dbl&gt;</th><th scope=col>&lt;dbl&gt;</th></tr>\n",
       "</thead>\n",
       "<tbody>\n",
       "\t<tr><td>1</td><td> 0.56</td><td>-0.48</td><td> 0.64</td><td>-0.18</td></tr>\n",
       "\t<tr><td>2</td><td> 0.38</td><td> 0.56</td><td>-1.83</td><td>-0.43</td></tr>\n",
       "\t<tr><td>3</td><td>-0.94</td><td>-1.57</td><td> 1.32</td><td>-0.31</td></tr>\n",
       "</tbody>\n",
       "</table>\n"
      ],
      "text/latex": "A data.frame: 3 × 5\n\\begin{tabular}{lllll}\n subject & time1 & time2 & time3 & time4\\\\\n <int> & <dbl> & <dbl> & <dbl> & <dbl>\\\\\n\\hline\n\t 1 &  0.56 & -0.48 &  0.64 & -0.18\\\\\n\t 2 &  0.38 &  0.56 & -1.83 & -0.43\\\\\n\t 3 & -0.94 & -1.57 &  1.32 & -0.31\\\\\n\\end{tabular}\n",
      "text/markdown": "\nA data.frame: 3 × 5\n\n| subject &lt;int&gt; | time1 &lt;dbl&gt; | time2 &lt;dbl&gt; | time3 &lt;dbl&gt; | time4 &lt;dbl&gt; |\n|---|---|---|---|---|\n| 1 |  0.56 | -0.48 |  0.64 | -0.18 |\n| 2 |  0.38 |  0.56 | -1.83 | -0.43 |\n| 3 | -0.94 | -1.57 |  1.32 | -0.31 |\n\n",
      "text/plain": [
       "  subject time1 time2 time3 time4\n",
       "1 1        0.56 -0.48  0.64 -0.18\n",
       "2 2        0.38  0.56 -1.83 -0.43\n",
       "3 3       -0.94 -1.57  1.32 -0.31"
      ]
     },
     "metadata": {
      "tags": []
     }
    }
   ]
  },
  {
   "cell_type": "markdown",
   "metadata": {
    "id": "_W5_oFhn0ZAL"
   },
   "source": [
    "## 3. Pipes - the %>% operator"
   ]
  },
  {
   "cell_type": "markdown",
   "metadata": {
    "id": "8lP3oIjy0ZAL"
   },
   "source": [
    "You might have noticed the weird **%>%** operator in the code in the previous section. This operator is called a **'pipe'**. Pipes are present in many programming languages, but not in the base R, so you might not be familiar with them. Pipes are an added feature from the Tidyverse package. \n",
    "\n",
    "A pipe serves as a link between two objects, whether they be variables or functions. The pipe tells R to take the object on its left side and pass it as the first argument to the object on the right. \n",
    "\n",
    "Typically in R, if you want to pass an argument to a function, you specify it as `function(argument)`. For example, if you want to find the mean of the observations in the example shown above, in base R you would do this:"
   ]
  },
  {
   "cell_type": "code",
   "metadata": {
    "colab": {
     "base_uri": "https://localhost:8080/",
     "height": 34
    },
    "id": "H1ozV5Ve0ZAM",
    "executionInfo": {
     "elapsed": 1334,
     "status": "ok",
     "timestamp": 1611095669015,
     "user": {
      "displayName": "Patience Stevens",
      "photoUrl": "https://lh3.googleusercontent.com/a-/AOh14Gi-_9ZqhIFhAv1oMehJNvNuIKSTyrFQHzjxQKhx=s64",
      "userId": "01994571539255174942"
     },
     "user_tz": 300
    },
    "outputId": "2abf5df6-9d0c-4e3b-9304-56dffde30444"
   },
   "source": [
    "mean(long_data$observation)"
   ],
   "execution_count": null,
   "outputs": [
    {
     "output_type": "display_data",
     "data": {
      "text/html": [
       "-0.19"
      ],
      "text/latex": "-0.19",
      "text/markdown": "-0.19",
      "text/plain": [
       "[1] -0.19"
      ]
     },
     "metadata": {
      "tags": []
     }
    }
   ]
  },
  {
   "cell_type": "markdown",
   "metadata": {
    "id": "esHOVJne0ZAM"
   },
   "source": [
    "If you use a pipe, you just put the argument on its left side, and the function on the right, i.e., `variable  %>% function()`:"
   ]
  },
  {
   "cell_type": "code",
   "metadata": {
    "colab": {
     "base_uri": "https://localhost:8080/",
     "height": 34
    },
    "id": "XYBMiqiK0ZAM",
    "executionInfo": {
     "elapsed": 1626,
     "status": "ok",
     "timestamp": 1611095669325,
     "user": {
      "displayName": "Patience Stevens",
      "photoUrl": "https://lh3.googleusercontent.com/a-/AOh14Gi-_9ZqhIFhAv1oMehJNvNuIKSTyrFQHzjxQKhx=s64",
      "userId": "01994571539255174942"
     },
     "user_tz": 300
    },
    "outputId": "62949326-ba78-4ec5-96ca-042738d18287"
   },
   "source": [
    "long_data$observation  %>% mean()"
   ],
   "execution_count": null,
   "outputs": [
    {
     "output_type": "display_data",
     "data": {
      "text/html": [
       "-0.19"
      ],
      "text/latex": "-0.19",
      "text/markdown": "-0.19",
      "text/plain": [
       "[1] -0.19"
      ]
     },
     "metadata": {
      "tags": []
     }
    }
   ]
  },
  {
   "cell_type": "markdown",
   "metadata": {
    "id": "PmYedpSk0ZAM"
   },
   "source": [
    "Now, you might be asking, why would you want to use **x %>% mean()** instead of **mean(x)**? Pipes come in handy, particularly when you have to run a series of functions on the same input. For example, let's say you want to find the mean of the observations, and then round the value to 2 significant digits. In base R, you can do this in two ways:\n",
    "\n",
    "1. nest the functions within one another\n",
    "2. assign a temporary variable for the mean, and then round that value"
   ]
  },
  {
   "cell_type": "code",
   "metadata": {
    "colab": {
     "base_uri": "https://localhost:8080/",
     "height": 52
    },
    "id": "8tZTqAAq0ZAN",
    "executionInfo": {
     "elapsed": 1612,
     "status": "ok",
     "timestamp": 1611095669327,
     "user": {
      "displayName": "Patience Stevens",
      "photoUrl": "https://lh3.googleusercontent.com/a-/AOh14Gi-_9ZqhIFhAv1oMehJNvNuIKSTyrFQHzjxQKhx=s64",
      "userId": "01994571539255174942"
     },
     "user_tz": 300
    },
    "outputId": "73c88721-f681-4976-acc1-dfa30edcaaa2"
   },
   "source": [
    "# nested\n",
    "round(mean(long_data$observation), 2)\n",
    "\n",
    "# tmp variable\n",
    "obs_mean = mean(long_data$observation)\n",
    "round(obs_mean, 2)"
   ],
   "execution_count": null,
   "outputs": [
    {
     "output_type": "display_data",
     "data": {
      "text/html": [
       "-0.19"
      ],
      "text/latex": "-0.19",
      "text/markdown": "-0.19",
      "text/plain": [
       "[1] -0.19"
      ]
     },
     "metadata": {
      "tags": []
     }
    },
    {
     "output_type": "display_data",
     "data": {
      "text/html": [
       "-0.19"
      ],
      "text/latex": "-0.19",
      "text/markdown": "-0.19",
      "text/plain": [
       "[1] -0.19"
      ]
     },
     "metadata": {
      "tags": []
     }
    }
   ]
  },
  {
   "cell_type": "markdown",
   "metadata": {
    "id": "Q5TTG1CU0ZAN"
   },
   "source": [
    "Since pipes take the output of the expression on the left and send it as the first input to the expression on the right, you can do the following with pipes:"
   ]
  },
  {
   "cell_type": "code",
   "metadata": {
    "colab": {
     "base_uri": "https://localhost:8080/",
     "height": 34
    },
    "id": "5xjWJPJS0ZAO",
    "executionInfo": {
     "elapsed": 1597,
     "status": "ok",
     "timestamp": 1611095669328,
     "user": {
      "displayName": "Patience Stevens",
      "photoUrl": "https://lh3.googleusercontent.com/a-/AOh14Gi-_9ZqhIFhAv1oMehJNvNuIKSTyrFQHzjxQKhx=s64",
      "userId": "01994571539255174942"
     },
     "user_tz": 300
    },
    "outputId": "2f26de20-3ba4-4ae5-fb63-41395fb84de3"
   },
   "source": [
    "# with pipes\n",
    "long_data$observation  %>% mean()  %>% round(2)"
   ],
   "execution_count": null,
   "outputs": [
    {
     "output_type": "display_data",
     "data": {
      "text/html": [
       "-0.19"
      ],
      "text/latex": "-0.19",
      "text/markdown": "-0.19",
      "text/plain": [
       "[1] -0.19"
      ]
     },
     "metadata": {
      "tags": []
     }
    }
   ]
  },
  {
   "cell_type": "markdown",
   "metadata": {
    "id": "kifOhUOz0ZAO"
   },
   "source": [
    "This reads smoothly from left to right as, \"Take the observations, find the mean and then round it to two decimals.\" To increase readability even further, you can put a new row after each pipe operator - R automatically assumes that if there is nothing after the %>% on the same row, it should pass the result to whatever comes on the next row. Thus, we can rewrite the above example as:"
   ]
  },
  {
   "cell_type": "code",
   "metadata": {
    "colab": {
     "base_uri": "https://localhost:8080/",
     "height": 34
    },
    "id": "99nqyUhR0ZAO",
    "executionInfo": {
     "elapsed": 1581,
     "status": "ok",
     "timestamp": 1611095669329,
     "user": {
      "displayName": "Patience Stevens",
      "photoUrl": "https://lh3.googleusercontent.com/a-/AOh14Gi-_9ZqhIFhAv1oMehJNvNuIKSTyrFQHzjxQKhx=s64",
      "userId": "01994571539255174942"
     },
     "user_tz": 300
    },
    "outputId": "8574d355-7278-4b87-f2f4-e3b6e08d4593"
   },
   "source": [
    "# pipes on separate rows:\n",
    "long_data$observation  %>% \n",
    "  mean() %>% \n",
    "  round(2)"
   ],
   "execution_count": null,
   "outputs": [
    {
     "output_type": "display_data",
     "data": {
      "text/html": [
       "-0.19"
      ],
      "text/latex": "-0.19",
      "text/markdown": "-0.19",
      "text/plain": [
       "[1] -0.19"
      ]
     },
     "metadata": {
      "tags": []
     }
    }
   ]
  },
  {
   "cell_type": "markdown",
   "metadata": {
    "id": "RMI5SW420ZAP"
   },
   "source": [
    "Notice that typically the `round()` function takes as first argument the value to be rounded, and as a second argument the number of digits to which to round. When you use a pipe, the first argument is implicitely filled in with the value on the left, so the first argument you actually type corresponds to the number of significant digits to which to round. \n",
    "\n",
    "Pipes become very useful when using the functions we'll discuss below, because you would usually use many of them on the same data, and while the above example might be easy to read in all three cases, it becomes very difficult to track what is going on with the base R approach. **Thus pipes have two advantages:**\n",
    "\n",
    "1. **Readability** - it is easier to see what goes on, because you can track the sequence naturally left to right. In contrast, with nested functions, you have to identify the inner-most function and then work your way outwards.\n",
    "2. **Efficiency** - do not clutter your environment with temporary variables that you needed for only one intermediary observation.\n",
    "\n",
    "To show the difference in readability, here is how the code for the long to wide functions would look if we wrote it with nested functions, rather than with pipes:"
   ]
  },
  {
   "cell_type": "code",
   "metadata": {
    "colab": {
     "base_uri": "https://localhost:8080/",
     "height": 396
    },
    "id": "0I4mRLi_0ZAR",
    "executionInfo": {
     "elapsed": 1568,
     "status": "ok",
     "timestamp": 1611095669331,
     "user": {
      "displayName": "Patience Stevens",
      "photoUrl": "https://lh3.googleusercontent.com/a-/AOh14Gi-_9ZqhIFhAv1oMehJNvNuIKSTyrFQHzjxQKhx=s64",
      "userId": "01994571539255174942"
     },
     "user_tz": 300
    },
    "outputId": "f226627c-0580-47fe-c358-be9ec0b15f54"
   },
   "source": [
    "# with pipes\n",
    "long_data  %>% \n",
    "    mutate(timepoint = paste0('time',timepoint))  %>% \n",
    "    spread(timepoint, observation)\n",
    "\n",
    "# nested functions\n",
    "spread(mutate(long_data, timepoint = paste0('time',timepoint)), timepoint, observation)\n",
    "\n",
    "# temporary variables\n",
    "mutated_data <- mutate(long_data, timepoint = paste0('time',timepoint))\n",
    "spread(mutated_data, timepoint, observation)"
   ],
   "execution_count": null,
   "outputs": [
    {
     "output_type": "display_data",
     "data": {
      "text/html": [
       "<table>\n",
       "<caption>A data.frame: 3 × 5</caption>\n",
       "<thead>\n",
       "\t<tr><th scope=col>subject</th><th scope=col>time1</th><th scope=col>time2</th><th scope=col>time3</th><th scope=col>time4</th></tr>\n",
       "\t<tr><th scope=col>&lt;int&gt;</th><th scope=col>&lt;dbl&gt;</th><th scope=col>&lt;dbl&gt;</th><th scope=col>&lt;dbl&gt;</th><th scope=col>&lt;dbl&gt;</th></tr>\n",
       "</thead>\n",
       "<tbody>\n",
       "\t<tr><td>1</td><td> 0.56</td><td>-0.48</td><td> 0.64</td><td>-0.18</td></tr>\n",
       "\t<tr><td>2</td><td> 0.38</td><td> 0.56</td><td>-1.83</td><td>-0.43</td></tr>\n",
       "\t<tr><td>3</td><td>-0.94</td><td>-1.57</td><td> 1.32</td><td>-0.31</td></tr>\n",
       "</tbody>\n",
       "</table>\n"
      ],
      "text/latex": "A data.frame: 3 × 5\n\\begin{tabular}{lllll}\n subject & time1 & time2 & time3 & time4\\\\\n <int> & <dbl> & <dbl> & <dbl> & <dbl>\\\\\n\\hline\n\t 1 &  0.56 & -0.48 &  0.64 & -0.18\\\\\n\t 2 &  0.38 &  0.56 & -1.83 & -0.43\\\\\n\t 3 & -0.94 & -1.57 &  1.32 & -0.31\\\\\n\\end{tabular}\n",
      "text/markdown": "\nA data.frame: 3 × 5\n\n| subject &lt;int&gt; | time1 &lt;dbl&gt; | time2 &lt;dbl&gt; | time3 &lt;dbl&gt; | time4 &lt;dbl&gt; |\n|---|---|---|---|---|\n| 1 |  0.56 | -0.48 |  0.64 | -0.18 |\n| 2 |  0.38 |  0.56 | -1.83 | -0.43 |\n| 3 | -0.94 | -1.57 |  1.32 | -0.31 |\n\n",
      "text/plain": [
       "  subject time1 time2 time3 time4\n",
       "1 1        0.56 -0.48  0.64 -0.18\n",
       "2 2        0.38  0.56 -1.83 -0.43\n",
       "3 3       -0.94 -1.57  1.32 -0.31"
      ]
     },
     "metadata": {
      "tags": []
     }
    },
    {
     "output_type": "display_data",
     "data": {
      "text/html": [
       "<table>\n",
       "<caption>A data.frame: 3 × 5</caption>\n",
       "<thead>\n",
       "\t<tr><th scope=col>subject</th><th scope=col>time1</th><th scope=col>time2</th><th scope=col>time3</th><th scope=col>time4</th></tr>\n",
       "\t<tr><th scope=col>&lt;int&gt;</th><th scope=col>&lt;dbl&gt;</th><th scope=col>&lt;dbl&gt;</th><th scope=col>&lt;dbl&gt;</th><th scope=col>&lt;dbl&gt;</th></tr>\n",
       "</thead>\n",
       "<tbody>\n",
       "\t<tr><td>1</td><td> 0.56</td><td>-0.48</td><td> 0.64</td><td>-0.18</td></tr>\n",
       "\t<tr><td>2</td><td> 0.38</td><td> 0.56</td><td>-1.83</td><td>-0.43</td></tr>\n",
       "\t<tr><td>3</td><td>-0.94</td><td>-1.57</td><td> 1.32</td><td>-0.31</td></tr>\n",
       "</tbody>\n",
       "</table>\n"
      ],
      "text/latex": "A data.frame: 3 × 5\n\\begin{tabular}{lllll}\n subject & time1 & time2 & time3 & time4\\\\\n <int> & <dbl> & <dbl> & <dbl> & <dbl>\\\\\n\\hline\n\t 1 &  0.56 & -0.48 &  0.64 & -0.18\\\\\n\t 2 &  0.38 &  0.56 & -1.83 & -0.43\\\\\n\t 3 & -0.94 & -1.57 &  1.32 & -0.31\\\\\n\\end{tabular}\n",
      "text/markdown": "\nA data.frame: 3 × 5\n\n| subject &lt;int&gt; | time1 &lt;dbl&gt; | time2 &lt;dbl&gt; | time3 &lt;dbl&gt; | time4 &lt;dbl&gt; |\n|---|---|---|---|---|\n| 1 |  0.56 | -0.48 |  0.64 | -0.18 |\n| 2 |  0.38 |  0.56 | -1.83 | -0.43 |\n| 3 | -0.94 | -1.57 |  1.32 | -0.31 |\n\n",
      "text/plain": [
       "  subject time1 time2 time3 time4\n",
       "1 1        0.56 -0.48  0.64 -0.18\n",
       "2 2        0.38  0.56 -1.83 -0.43\n",
       "3 3       -0.94 -1.57  1.32 -0.31"
      ]
     },
     "metadata": {
      "tags": []
     }
    },
    {
     "output_type": "display_data",
     "data": {
      "text/html": [
       "<table>\n",
       "<caption>A data.frame: 3 × 5</caption>\n",
       "<thead>\n",
       "\t<tr><th scope=col>subject</th><th scope=col>time1</th><th scope=col>time2</th><th scope=col>time3</th><th scope=col>time4</th></tr>\n",
       "\t<tr><th scope=col>&lt;int&gt;</th><th scope=col>&lt;dbl&gt;</th><th scope=col>&lt;dbl&gt;</th><th scope=col>&lt;dbl&gt;</th><th scope=col>&lt;dbl&gt;</th></tr>\n",
       "</thead>\n",
       "<tbody>\n",
       "\t<tr><td>1</td><td> 0.56</td><td>-0.48</td><td> 0.64</td><td>-0.18</td></tr>\n",
       "\t<tr><td>2</td><td> 0.38</td><td> 0.56</td><td>-1.83</td><td>-0.43</td></tr>\n",
       "\t<tr><td>3</td><td>-0.94</td><td>-1.57</td><td> 1.32</td><td>-0.31</td></tr>\n",
       "</tbody>\n",
       "</table>\n"
      ],
      "text/latex": "A data.frame: 3 × 5\n\\begin{tabular}{lllll}\n subject & time1 & time2 & time3 & time4\\\\\n <int> & <dbl> & <dbl> & <dbl> & <dbl>\\\\\n\\hline\n\t 1 &  0.56 & -0.48 &  0.64 & -0.18\\\\\n\t 2 &  0.38 &  0.56 & -1.83 & -0.43\\\\\n\t 3 & -0.94 & -1.57 &  1.32 & -0.31\\\\\n\\end{tabular}\n",
      "text/markdown": "\nA data.frame: 3 × 5\n\n| subject &lt;int&gt; | time1 &lt;dbl&gt; | time2 &lt;dbl&gt; | time3 &lt;dbl&gt; | time4 &lt;dbl&gt; |\n|---|---|---|---|---|\n| 1 |  0.56 | -0.48 |  0.64 | -0.18 |\n| 2 |  0.38 |  0.56 | -1.83 | -0.43 |\n| 3 | -0.94 | -1.57 |  1.32 | -0.31 |\n\n",
      "text/plain": [
       "  subject time1 time2 time3 time4\n",
       "1 1        0.56 -0.48  0.64 -0.18\n",
       "2 2        0.38  0.56 -1.83 -0.43\n",
       "3 3       -0.94 -1.57  1.32 -0.31"
      ]
     },
     "metadata": {
      "tags": []
     }
    }
   ]
  },
  {
   "cell_type": "markdown",
   "metadata": {
    "id": "fRnLogJl0ZAS"
   },
   "source": [
    "## 4. Transforming data"
   ]
  },
  {
   "cell_type": "markdown",
   "metadata": {
    "id": "hV4c40c_0ZAS"
   },
   "source": [
    "We will use the `iris` dataset for illustrating the tidyverse functions. You can save it to a `dat` variable like this:"
   ]
  },
  {
   "cell_type": "code",
   "metadata": {
    "colab": {
     "base_uri": "https://localhost:8080/",
     "height": 207
    },
    "id": "xyxYuGcc0ZAS",
    "executionInfo": {
     "elapsed": 1552,
     "status": "ok",
     "timestamp": 1611095669332,
     "user": {
      "displayName": "Patience Stevens",
      "photoUrl": "https://lh3.googleusercontent.com/a-/AOh14Gi-_9ZqhIFhAv1oMehJNvNuIKSTyrFQHzjxQKhx=s64",
      "userId": "01994571539255174942"
     },
     "user_tz": 300
    },
    "outputId": "759bdeb1-ede9-4d32-e2a0-437e9ab14875"
   },
   "source": [
    "dat <- iris\n",
    "head(dat)"
   ],
   "execution_count": null,
   "outputs": [
    {
     "output_type": "display_data",
     "data": {
      "text/html": [
       "<table>\n",
       "<caption>A data.frame: 6 × 5</caption>\n",
       "<thead>\n",
       "\t<tr><th></th><th scope=col>Sepal.Length</th><th scope=col>Sepal.Width</th><th scope=col>Petal.Length</th><th scope=col>Petal.Width</th><th scope=col>Species</th></tr>\n",
       "\t<tr><th></th><th scope=col>&lt;dbl&gt;</th><th scope=col>&lt;dbl&gt;</th><th scope=col>&lt;dbl&gt;</th><th scope=col>&lt;dbl&gt;</th><th scope=col>&lt;fct&gt;</th></tr>\n",
       "</thead>\n",
       "<tbody>\n",
       "\t<tr><th scope=row>1</th><td>5.1</td><td>3.5</td><td>1.4</td><td>0.2</td><td>setosa</td></tr>\n",
       "\t<tr><th scope=row>2</th><td>4.9</td><td>3.0</td><td>1.4</td><td>0.2</td><td>setosa</td></tr>\n",
       "\t<tr><th scope=row>3</th><td>4.7</td><td>3.2</td><td>1.3</td><td>0.2</td><td>setosa</td></tr>\n",
       "\t<tr><th scope=row>4</th><td>4.6</td><td>3.1</td><td>1.5</td><td>0.2</td><td>setosa</td></tr>\n",
       "\t<tr><th scope=row>5</th><td>5.0</td><td>3.6</td><td>1.4</td><td>0.2</td><td>setosa</td></tr>\n",
       "\t<tr><th scope=row>6</th><td>5.4</td><td>3.9</td><td>1.7</td><td>0.4</td><td>setosa</td></tr>\n",
       "</tbody>\n",
       "</table>\n"
      ],
      "text/latex": "A data.frame: 6 × 5\n\\begin{tabular}{r|lllll}\n  & Sepal.Length & Sepal.Width & Petal.Length & Petal.Width & Species\\\\\n  & <dbl> & <dbl> & <dbl> & <dbl> & <fct>\\\\\n\\hline\n\t1 & 5.1 & 3.5 & 1.4 & 0.2 & setosa\\\\\n\t2 & 4.9 & 3.0 & 1.4 & 0.2 & setosa\\\\\n\t3 & 4.7 & 3.2 & 1.3 & 0.2 & setosa\\\\\n\t4 & 4.6 & 3.1 & 1.5 & 0.2 & setosa\\\\\n\t5 & 5.0 & 3.6 & 1.4 & 0.2 & setosa\\\\\n\t6 & 5.4 & 3.9 & 1.7 & 0.4 & setosa\\\\\n\\end{tabular}\n",
      "text/markdown": "\nA data.frame: 6 × 5\n\n| <!--/--> | Sepal.Length &lt;dbl&gt; | Sepal.Width &lt;dbl&gt; | Petal.Length &lt;dbl&gt; | Petal.Width &lt;dbl&gt; | Species &lt;fct&gt; |\n|---|---|---|---|---|---|\n| 1 | 5.1 | 3.5 | 1.4 | 0.2 | setosa |\n| 2 | 4.9 | 3.0 | 1.4 | 0.2 | setosa |\n| 3 | 4.7 | 3.2 | 1.3 | 0.2 | setosa |\n| 4 | 4.6 | 3.1 | 1.5 | 0.2 | setosa |\n| 5 | 5.0 | 3.6 | 1.4 | 0.2 | setosa |\n| 6 | 5.4 | 3.9 | 1.7 | 0.4 | setosa |\n\n",
      "text/plain": [
       "  Sepal.Length Sepal.Width Petal.Length Petal.Width Species\n",
       "1 5.1          3.5         1.4          0.2         setosa \n",
       "2 4.9          3.0         1.4          0.2         setosa \n",
       "3 4.7          3.2         1.3          0.2         setosa \n",
       "4 4.6          3.1         1.5          0.2         setosa \n",
       "5 5.0          3.6         1.4          0.2         setosa \n",
       "6 5.4          3.9         1.7          0.4         setosa "
      ]
     },
     "metadata": {
      "tags": []
     }
    }
   ]
  },
  {
   "cell_type": "markdown",
   "metadata": {
    "id": "ZBFLNE8k0ZAS"
   },
   "source": [
    "The `iris` dataset contains [measurement data](https://eloquentarduino.github.io/2019/12/iris-classification-on-arduino/) for different species of iris flowers. You can view a detailed description of the dataset by typing:"
   ]
  },
  {
   "cell_type": "code",
   "metadata": {
    "id": "Y29TARX90ZAS"
   },
   "source": [
    "?iris"
   ],
   "execution_count": null,
   "outputs": []
  },
  {
   "cell_type": "markdown",
   "metadata": {
    "id": "QPQ2nIdn0ZAT"
   },
   "source": [
    "Here's a peak at the data:"
   ]
  },
  {
   "cell_type": "code",
   "metadata": {
    "colab": {
     "base_uri": "https://localhost:8080/",
     "height": 207
    },
    "id": "gyNtuysy0ZAT",
    "executionInfo": {
     "elapsed": 1781,
     "status": "ok",
     "timestamp": 1611095669582,
     "user": {
      "displayName": "Patience Stevens",
      "photoUrl": "https://lh3.googleusercontent.com/a-/AOh14Gi-_9ZqhIFhAv1oMehJNvNuIKSTyrFQHzjxQKhx=s64",
      "userId": "01994571539255174942"
     },
     "user_tz": 300
    },
    "outputId": "db48583e-e646-42cf-a0eb-be5f41f543b5"
   },
   "source": [
    "head(dat)"
   ],
   "execution_count": null,
   "outputs": [
    {
     "output_type": "display_data",
     "data": {
      "text/html": [
       "<table>\n",
       "<caption>A data.frame: 6 × 5</caption>\n",
       "<thead>\n",
       "\t<tr><th></th><th scope=col>Sepal.Length</th><th scope=col>Sepal.Width</th><th scope=col>Petal.Length</th><th scope=col>Petal.Width</th><th scope=col>Species</th></tr>\n",
       "\t<tr><th></th><th scope=col>&lt;dbl&gt;</th><th scope=col>&lt;dbl&gt;</th><th scope=col>&lt;dbl&gt;</th><th scope=col>&lt;dbl&gt;</th><th scope=col>&lt;fct&gt;</th></tr>\n",
       "</thead>\n",
       "<tbody>\n",
       "\t<tr><th scope=row>1</th><td>5.1</td><td>3.5</td><td>1.4</td><td>0.2</td><td>setosa</td></tr>\n",
       "\t<tr><th scope=row>2</th><td>4.9</td><td>3.0</td><td>1.4</td><td>0.2</td><td>setosa</td></tr>\n",
       "\t<tr><th scope=row>3</th><td>4.7</td><td>3.2</td><td>1.3</td><td>0.2</td><td>setosa</td></tr>\n",
       "\t<tr><th scope=row>4</th><td>4.6</td><td>3.1</td><td>1.5</td><td>0.2</td><td>setosa</td></tr>\n",
       "\t<tr><th scope=row>5</th><td>5.0</td><td>3.6</td><td>1.4</td><td>0.2</td><td>setosa</td></tr>\n",
       "\t<tr><th scope=row>6</th><td>5.4</td><td>3.9</td><td>1.7</td><td>0.4</td><td>setosa</td></tr>\n",
       "</tbody>\n",
       "</table>\n"
      ],
      "text/latex": "A data.frame: 6 × 5\n\\begin{tabular}{r|lllll}\n  & Sepal.Length & Sepal.Width & Petal.Length & Petal.Width & Species\\\\\n  & <dbl> & <dbl> & <dbl> & <dbl> & <fct>\\\\\n\\hline\n\t1 & 5.1 & 3.5 & 1.4 & 0.2 & setosa\\\\\n\t2 & 4.9 & 3.0 & 1.4 & 0.2 & setosa\\\\\n\t3 & 4.7 & 3.2 & 1.3 & 0.2 & setosa\\\\\n\t4 & 4.6 & 3.1 & 1.5 & 0.2 & setosa\\\\\n\t5 & 5.0 & 3.6 & 1.4 & 0.2 & setosa\\\\\n\t6 & 5.4 & 3.9 & 1.7 & 0.4 & setosa\\\\\n\\end{tabular}\n",
      "text/markdown": "\nA data.frame: 6 × 5\n\n| <!--/--> | Sepal.Length &lt;dbl&gt; | Sepal.Width &lt;dbl&gt; | Petal.Length &lt;dbl&gt; | Petal.Width &lt;dbl&gt; | Species &lt;fct&gt; |\n|---|---|---|---|---|---|\n| 1 | 5.1 | 3.5 | 1.4 | 0.2 | setosa |\n| 2 | 4.9 | 3.0 | 1.4 | 0.2 | setosa |\n| 3 | 4.7 | 3.2 | 1.3 | 0.2 | setosa |\n| 4 | 4.6 | 3.1 | 1.5 | 0.2 | setosa |\n| 5 | 5.0 | 3.6 | 1.4 | 0.2 | setosa |\n| 6 | 5.4 | 3.9 | 1.7 | 0.4 | setosa |\n\n",
      "text/plain": [
       "  Sepal.Length Sepal.Width Petal.Length Petal.Width Species\n",
       "1 5.1          3.5         1.4          0.2         setosa \n",
       "2 4.9          3.0         1.4          0.2         setosa \n",
       "3 4.7          3.2         1.3          0.2         setosa \n",
       "4 4.6          3.1         1.5          0.2         setosa \n",
       "5 5.0          3.6         1.4          0.2         setosa \n",
       "6 5.4          3.9         1.7          0.4         setosa "
      ]
     },
     "metadata": {
      "tags": []
     }
    }
   ]
  },
  {
   "cell_type": "markdown",
   "metadata": {
    "id": "8P2Yjlvj0ZAU"
   },
   "source": [
    "### 4.1 Transforming existing variables and creating new variables -  **mutate()**"
   ]
  },
  {
   "cell_type": "markdown",
   "metadata": {
    "id": "Yyg73p_p0ZAU"
   },
   "source": [
    "`mutate()` is part of `dplyr`, one of the packages included in `tidyverse` that is handy for data manipulation. The `mutate()` command allows you to create new columns, i.e. new variables.  Let's say you want to center the sepal lengths in the `iris` dataset by removing the mean:"
   ]
  },
  {
   "cell_type": "code",
   "metadata": {
    "colab": {
     "base_uri": "https://localhost:8080/",
     "height": 207
    },
    "id": "eOJI8TPg0ZAU",
    "executionInfo": {
     "elapsed": 1766,
     "status": "ok",
     "timestamp": 1611095669584,
     "user": {
      "displayName": "Patience Stevens",
      "photoUrl": "https://lh3.googleusercontent.com/a-/AOh14Gi-_9ZqhIFhAv1oMehJNvNuIKSTyrFQHzjxQKhx=s64",
      "userId": "01994571539255174942"
     },
     "user_tz": 300
    },
    "outputId": "d2784afe-0eb9-440e-a4f4-0e237a9a8355"
   },
   "source": [
    "dat <- mutate(dat, centered_SepLen = Sepal.Length - mean(Sepal.Length))\n",
    "head(dat)"
   ],
   "execution_count": null,
   "outputs": [
    {
     "output_type": "display_data",
     "data": {
      "text/html": [
       "<table>\n",
       "<caption>A data.frame: 6 × 6</caption>\n",
       "<thead>\n",
       "\t<tr><th></th><th scope=col>Sepal.Length</th><th scope=col>Sepal.Width</th><th scope=col>Petal.Length</th><th scope=col>Petal.Width</th><th scope=col>Species</th><th scope=col>centered_SepLen</th></tr>\n",
       "\t<tr><th></th><th scope=col>&lt;dbl&gt;</th><th scope=col>&lt;dbl&gt;</th><th scope=col>&lt;dbl&gt;</th><th scope=col>&lt;dbl&gt;</th><th scope=col>&lt;fct&gt;</th><th scope=col>&lt;dbl&gt;</th></tr>\n",
       "</thead>\n",
       "<tbody>\n",
       "\t<tr><th scope=row>1</th><td>5.1</td><td>3.5</td><td>1.4</td><td>0.2</td><td>setosa</td><td>-0.7433333</td></tr>\n",
       "\t<tr><th scope=row>2</th><td>4.9</td><td>3.0</td><td>1.4</td><td>0.2</td><td>setosa</td><td>-0.9433333</td></tr>\n",
       "\t<tr><th scope=row>3</th><td>4.7</td><td>3.2</td><td>1.3</td><td>0.2</td><td>setosa</td><td>-1.1433333</td></tr>\n",
       "\t<tr><th scope=row>4</th><td>4.6</td><td>3.1</td><td>1.5</td><td>0.2</td><td>setosa</td><td>-1.2433333</td></tr>\n",
       "\t<tr><th scope=row>5</th><td>5.0</td><td>3.6</td><td>1.4</td><td>0.2</td><td>setosa</td><td>-0.8433333</td></tr>\n",
       "\t<tr><th scope=row>6</th><td>5.4</td><td>3.9</td><td>1.7</td><td>0.4</td><td>setosa</td><td>-0.4433333</td></tr>\n",
       "</tbody>\n",
       "</table>\n"
      ],
      "text/latex": "A data.frame: 6 × 6\n\\begin{tabular}{r|llllll}\n  & Sepal.Length & Sepal.Width & Petal.Length & Petal.Width & Species & centered\\_SepLen\\\\\n  & <dbl> & <dbl> & <dbl> & <dbl> & <fct> & <dbl>\\\\\n\\hline\n\t1 & 5.1 & 3.5 & 1.4 & 0.2 & setosa & -0.7433333\\\\\n\t2 & 4.9 & 3.0 & 1.4 & 0.2 & setosa & -0.9433333\\\\\n\t3 & 4.7 & 3.2 & 1.3 & 0.2 & setosa & -1.1433333\\\\\n\t4 & 4.6 & 3.1 & 1.5 & 0.2 & setosa & -1.2433333\\\\\n\t5 & 5.0 & 3.6 & 1.4 & 0.2 & setosa & -0.8433333\\\\\n\t6 & 5.4 & 3.9 & 1.7 & 0.4 & setosa & -0.4433333\\\\\n\\end{tabular}\n",
      "text/markdown": "\nA data.frame: 6 × 6\n\n| <!--/--> | Sepal.Length &lt;dbl&gt; | Sepal.Width &lt;dbl&gt; | Petal.Length &lt;dbl&gt; | Petal.Width &lt;dbl&gt; | Species &lt;fct&gt; | centered_SepLen &lt;dbl&gt; |\n|---|---|---|---|---|---|---|\n| 1 | 5.1 | 3.5 | 1.4 | 0.2 | setosa | -0.7433333 |\n| 2 | 4.9 | 3.0 | 1.4 | 0.2 | setosa | -0.9433333 |\n| 3 | 4.7 | 3.2 | 1.3 | 0.2 | setosa | -1.1433333 |\n| 4 | 4.6 | 3.1 | 1.5 | 0.2 | setosa | -1.2433333 |\n| 5 | 5.0 | 3.6 | 1.4 | 0.2 | setosa | -0.8433333 |\n| 6 | 5.4 | 3.9 | 1.7 | 0.4 | setosa | -0.4433333 |\n\n",
      "text/plain": [
       "  Sepal.Length Sepal.Width Petal.Length Petal.Width Species centered_SepLen\n",
       "1 5.1          3.5         1.4          0.2         setosa  -0.7433333     \n",
       "2 4.9          3.0         1.4          0.2         setosa  -0.9433333     \n",
       "3 4.7          3.2         1.3          0.2         setosa  -1.1433333     \n",
       "4 4.6          3.1         1.5          0.2         setosa  -1.2433333     \n",
       "5 5.0          3.6         1.4          0.2         setosa  -0.8433333     \n",
       "6 5.4          3.9         1.7          0.4         setosa  -0.4433333     "
      ]
     },
     "metadata": {
      "tags": []
     }
    }
   ]
  },
  {
   "cell_type": "markdown",
   "metadata": {
    "id": "gaQ6AejC0ZAU"
   },
   "source": [
    "**In all `dplyr` commands, including `mutate`, the first argument is always the dataset**, and after that you can specify what new variables you want to create using `variable_name = value`. All commands in the `dplyr` package allow you to create and reference variables within a data.frame object, without needing to type in the name of the data.frame each time. For example, if you want to create several variables in base R (that is, without using `dplyr` functions), you would have to do this everytime:"
   ]
  },
  {
   "cell_type": "code",
   "metadata": {
    "id": "UGPeDg4s0ZAU"
   },
   "source": [
    "# center sepal length\n",
    "dat$centered_SepLen = dat$Sepal.Length - mean(dat$Sepal.Length) \n",
    "# transforms petal length into zscores\n",
    "dat$PetLen_zscores = (dat$Petal.Length - mean(dat$Petal.Length))/sd(dat$Petal.Length)"
   ],
   "execution_count": null,
   "outputs": []
  },
  {
   "cell_type": "markdown",
   "metadata": {
    "id": "MIZ2mqba0ZAU"
   },
   "source": [
    "Using `dplyr`, you don't have to write `dat$` every time you refer to a variable:"
   ]
  },
  {
   "cell_type": "code",
   "metadata": {
    "colab": {
     "base_uri": "https://localhost:8080/",
     "height": 207
    },
    "id": "9ZEsYPEK0ZAV",
    "executionInfo": {
     "elapsed": 2437,
     "status": "ok",
     "timestamp": 1611095670273,
     "user": {
      "displayName": "Patience Stevens",
      "photoUrl": "https://lh3.googleusercontent.com/a-/AOh14Gi-_9ZqhIFhAv1oMehJNvNuIKSTyrFQHzjxQKhx=s64",
      "userId": "01994571539255174942"
     },
     "user_tz": 300
    },
    "outputId": "4ba1ff8f-bb02-4f02-9de1-e204d1f99b70"
   },
   "source": [
    "dat <- dat  %>%  \n",
    "    mutate(centered_SepLen = Sepal.Length - mean(Sepal.Length),  # center Sepal Lengths\n",
    "           PetLen_zscores = (Petal.Length - mean(Petal.Length))/sd(Petal.Length),  # zscore the Petal Lengths\n",
    "           n_flowers = length(Species))              # calculate the total number of flowers\n",
    "head(dat)"
   ],
   "execution_count": null,
   "outputs": [
    {
     "output_type": "display_data",
     "data": {
      "text/html": [
       "<table>\n",
       "<caption>A data.frame: 6 × 8</caption>\n",
       "<thead>\n",
       "\t<tr><th></th><th scope=col>Sepal.Length</th><th scope=col>Sepal.Width</th><th scope=col>Petal.Length</th><th scope=col>Petal.Width</th><th scope=col>Species</th><th scope=col>centered_SepLen</th><th scope=col>PetLen_zscores</th><th scope=col>n_flowers</th></tr>\n",
       "\t<tr><th></th><th scope=col>&lt;dbl&gt;</th><th scope=col>&lt;dbl&gt;</th><th scope=col>&lt;dbl&gt;</th><th scope=col>&lt;dbl&gt;</th><th scope=col>&lt;fct&gt;</th><th scope=col>&lt;dbl&gt;</th><th scope=col>&lt;dbl&gt;</th><th scope=col>&lt;int&gt;</th></tr>\n",
       "</thead>\n",
       "<tbody>\n",
       "\t<tr><th scope=row>1</th><td>5.1</td><td>3.5</td><td>1.4</td><td>0.2</td><td>setosa</td><td>-0.7433333</td><td>-1.335752</td><td>150</td></tr>\n",
       "\t<tr><th scope=row>2</th><td>4.9</td><td>3.0</td><td>1.4</td><td>0.2</td><td>setosa</td><td>-0.9433333</td><td>-1.335752</td><td>150</td></tr>\n",
       "\t<tr><th scope=row>3</th><td>4.7</td><td>3.2</td><td>1.3</td><td>0.2</td><td>setosa</td><td>-1.1433333</td><td>-1.392399</td><td>150</td></tr>\n",
       "\t<tr><th scope=row>4</th><td>4.6</td><td>3.1</td><td>1.5</td><td>0.2</td><td>setosa</td><td>-1.2433333</td><td>-1.279104</td><td>150</td></tr>\n",
       "\t<tr><th scope=row>5</th><td>5.0</td><td>3.6</td><td>1.4</td><td>0.2</td><td>setosa</td><td>-0.8433333</td><td>-1.335752</td><td>150</td></tr>\n",
       "\t<tr><th scope=row>6</th><td>5.4</td><td>3.9</td><td>1.7</td><td>0.4</td><td>setosa</td><td>-0.4433333</td><td>-1.165809</td><td>150</td></tr>\n",
       "</tbody>\n",
       "</table>\n"
      ],
      "text/latex": "A data.frame: 6 × 8\n\\begin{tabular}{r|llllllll}\n  & Sepal.Length & Sepal.Width & Petal.Length & Petal.Width & Species & centered\\_SepLen & PetLen\\_zscores & n\\_flowers\\\\\n  & <dbl> & <dbl> & <dbl> & <dbl> & <fct> & <dbl> & <dbl> & <int>\\\\\n\\hline\n\t1 & 5.1 & 3.5 & 1.4 & 0.2 & setosa & -0.7433333 & -1.335752 & 150\\\\\n\t2 & 4.9 & 3.0 & 1.4 & 0.2 & setosa & -0.9433333 & -1.335752 & 150\\\\\n\t3 & 4.7 & 3.2 & 1.3 & 0.2 & setosa & -1.1433333 & -1.392399 & 150\\\\\n\t4 & 4.6 & 3.1 & 1.5 & 0.2 & setosa & -1.2433333 & -1.279104 & 150\\\\\n\t5 & 5.0 & 3.6 & 1.4 & 0.2 & setosa & -0.8433333 & -1.335752 & 150\\\\\n\t6 & 5.4 & 3.9 & 1.7 & 0.4 & setosa & -0.4433333 & -1.165809 & 150\\\\\n\\end{tabular}\n",
      "text/markdown": "\nA data.frame: 6 × 8\n\n| <!--/--> | Sepal.Length &lt;dbl&gt; | Sepal.Width &lt;dbl&gt; | Petal.Length &lt;dbl&gt; | Petal.Width &lt;dbl&gt; | Species &lt;fct&gt; | centered_SepLen &lt;dbl&gt; | PetLen_zscores &lt;dbl&gt; | n_flowers &lt;int&gt; |\n|---|---|---|---|---|---|---|---|---|\n| 1 | 5.1 | 3.5 | 1.4 | 0.2 | setosa | -0.7433333 | -1.335752 | 150 |\n| 2 | 4.9 | 3.0 | 1.4 | 0.2 | setosa | -0.9433333 | -1.335752 | 150 |\n| 3 | 4.7 | 3.2 | 1.3 | 0.2 | setosa | -1.1433333 | -1.392399 | 150 |\n| 4 | 4.6 | 3.1 | 1.5 | 0.2 | setosa | -1.2433333 | -1.279104 | 150 |\n| 5 | 5.0 | 3.6 | 1.4 | 0.2 | setosa | -0.8433333 | -1.335752 | 150 |\n| 6 | 5.4 | 3.9 | 1.7 | 0.4 | setosa | -0.4433333 | -1.165809 | 150 |\n\n",
      "text/plain": [
       "  Sepal.Length Sepal.Width Petal.Length Petal.Width Species centered_SepLen\n",
       "1 5.1          3.5         1.4          0.2         setosa  -0.7433333     \n",
       "2 4.9          3.0         1.4          0.2         setosa  -0.9433333     \n",
       "3 4.7          3.2         1.3          0.2         setosa  -1.1433333     \n",
       "4 4.6          3.1         1.5          0.2         setosa  -1.2433333     \n",
       "5 5.0          3.6         1.4          0.2         setosa  -0.8433333     \n",
       "6 5.4          3.9         1.7          0.4         setosa  -0.4433333     \n",
       "  PetLen_zscores n_flowers\n",
       "1 -1.335752      150      \n",
       "2 -1.335752      150      \n",
       "3 -1.392399      150      \n",
       "4 -1.279104      150      \n",
       "5 -1.335752      150      \n",
       "6 -1.165809      150      "
      ]
     },
     "metadata": {
      "tags": []
     }
    }
   ]
  },
  {
   "cell_type": "markdown",
   "metadata": {
    "id": "KeGAInjb0ZAV"
   },
   "source": [
    "As you see, you can create multiple variables at the same time within a single mutate command, by separating them with commas. This time, rather than specifying *dat* as the first argument of mutate explicitely, we directed it with a pipe, as explained before. The first line should be read as *'Pass the dat variable to whatever follows, then save the results in the dat variable.'*"
   ]
  },
  {
   "cell_type": "markdown",
   "metadata": {
    "id": "qHYA9eW30ZAV"
   },
   "source": [
    "### 4.2 Summarizing variables - summarise()"
   ]
  },
  {
   "cell_type": "markdown",
   "metadata": {
    "id": "_eO-11nr0ZAV"
   },
   "source": [
    "`Mutate()` creates new variables within the existing dataset and does not change the number of rows. You might also want to calculate statistics that summarize the whole data set. For example, in the example above I calculated how many flowers were measured total (`n_flowers`) - but it doesn't really make sense to output this as a variable with entries for every observation. If you want to create a new data.frame in which you store the summary values for one or more variables, you can use the `summarise()` command. Let's get summaries for a few of the existing variables:"
   ]
  },
  {
   "cell_type": "code",
   "metadata": {
    "colab": {
     "base_uri": "https://localhost:8080/",
     "height": 100
    },
    "id": "n02qoPTD0ZAV",
    "executionInfo": {
     "elapsed": 2421,
     "status": "ok",
     "timestamp": 1611095670273,
     "user": {
      "displayName": "Patience Stevens",
      "photoUrl": "https://lh3.googleusercontent.com/a-/AOh14Gi-_9ZqhIFhAv1oMehJNvNuIKSTyrFQHzjxQKhx=s64",
      "userId": "01994571539255174942"
     },
     "user_tz": 300
    },
    "outputId": "1972d1e1-bd88-46a1-8063-0cc7325ad6f2"
   },
   "source": [
    "smry <- dat  %>% \n",
    "    summarise(n_flowers = length(Species), # how many observations (flowers) are there total? \n",
    "              shortSepal_prop = mean(centered_SepLen < 0), # what proportion of these flowers have smaller-than-average sepal length?\n",
    "              setosa_prop = mean(Species == 'setosa'), # what proportion of measured flowers are species Setosa?\n",
    "              SepLen_mean = mean(Sepal.Length), # mean sepal length\n",
    "              SepLen_sd = sd(Sepal.Length), # standard deviation of sepal length\n",
    "              SepLen_se = SepLen_sd / sqrt(n_flowers)\n",
    "              )\n",
    "smry\n",
    "              "
   ],
   "execution_count": null,
   "outputs": [
    {
     "output_type": "display_data",
     "data": {
      "text/html": [
       "<table>\n",
       "<caption>A data.frame: 1 × 6</caption>\n",
       "<thead>\n",
       "\t<tr><th scope=col>n_flowers</th><th scope=col>shortSepal_prop</th><th scope=col>setosa_prop</th><th scope=col>SepLen_mean</th><th scope=col>SepLen_sd</th><th scope=col>SepLen_se</th></tr>\n",
       "\t<tr><th scope=col>&lt;int&gt;</th><th scope=col>&lt;dbl&gt;</th><th scope=col>&lt;dbl&gt;</th><th scope=col>&lt;dbl&gt;</th><th scope=col>&lt;dbl&gt;</th><th scope=col>&lt;dbl&gt;</th></tr>\n",
       "</thead>\n",
       "<tbody>\n",
       "\t<tr><td>150</td><td>0.5333333</td><td>0.3333333</td><td>5.843333</td><td>0.8280661</td><td>0.06761132</td></tr>\n",
       "</tbody>\n",
       "</table>\n"
      ],
      "text/latex": "A data.frame: 1 × 6\n\\begin{tabular}{llllll}\n n\\_flowers & shortSepal\\_prop & setosa\\_prop & SepLen\\_mean & SepLen\\_sd & SepLen\\_se\\\\\n <int> & <dbl> & <dbl> & <dbl> & <dbl> & <dbl>\\\\\n\\hline\n\t 150 & 0.5333333 & 0.3333333 & 5.843333 & 0.8280661 & 0.06761132\\\\\n\\end{tabular}\n",
      "text/markdown": "\nA data.frame: 1 × 6\n\n| n_flowers &lt;int&gt; | shortSepal_prop &lt;dbl&gt; | setosa_prop &lt;dbl&gt; | SepLen_mean &lt;dbl&gt; | SepLen_sd &lt;dbl&gt; | SepLen_se &lt;dbl&gt; |\n|---|---|---|---|---|---|\n| 150 | 0.5333333 | 0.3333333 | 5.843333 | 0.8280661 | 0.06761132 |\n\n",
      "text/plain": [
       "  n_flowers shortSepal_prop setosa_prop SepLen_mean SepLen_sd SepLen_se \n",
       "1 150       0.5333333       0.3333333   5.843333    0.8280661 0.06761132"
      ]
     },
     "metadata": {
      "tags": []
     }
    }
   ]
  },
  {
   "cell_type": "markdown",
   "metadata": {
    "id": "SYCurmYK0ZAW"
   },
   "source": [
    "You should note several things. When you get to a new row, you can refer to a variable you have already created on a previous row. For example, when we calculate the standard error for `Sepal.Length`, we have put `SepLen_se = SepLen_sd / sqrt(n_flowers)`, in which SepLen_sd and n_flowers do not exist in the original data.frame, but are variables that we created on previous rows. We could have written it directly as `SepLen_se = sd(Sepal.Length) / sqrt(length(Species))`, but doing it in the above way is more efficient and readable."
   ]
  },
  {
   "cell_type": "markdown",
   "metadata": {
    "id": "UHrvl9A10ZAW"
   },
   "source": [
    "### 4.3 Filtering a data.frame by removing rows based on a condition - filter()"
   ]
  },
  {
   "cell_type": "markdown",
   "metadata": {
    "id": "64Fl2ALU0ZAX"
   },
   "source": [
    "Here are three scenarios:\n",
    "* you find that there was an error with data collection for one species of flower (e.g. setosa) and you want to remove it from the data.frame\n",
    "* you find out that some flowers have a negative `Sepal.Length` value, which is an error, and you want to remove them\n",
    "* you want to separate the data for the remaining two species into separate datasets\n",
    "\n",
    "You can do all of these things with the **`filter`** command:"
   ]
  },
  {
   "cell_type": "code",
   "metadata": {
    "colab": {
     "base_uri": "https://localhost:8080/",
     "height": 605
    },
    "id": "OzlTsEOE0ZAX",
    "scrolled": false,
    "executionInfo": {
     "elapsed": 2407,
     "status": "ok",
     "timestamp": 1611095670275,
     "user": {
      "displayName": "Patience Stevens",
      "photoUrl": "https://lh3.googleusercontent.com/a-/AOh14Gi-_9ZqhIFhAv1oMehJNvNuIKSTyrFQHzjxQKhx=s64",
      "userId": "01994571539255174942"
     },
     "user_tz": 300
    },
    "outputId": "fc088bc2-f2af-41cc-cb64-287321e215c8"
   },
   "source": [
    "print(paste('species options:',paste(levels(dat$Species),collapse=\", \")))\n",
    "\n",
    "# get rid of all setosa flowers and any flowers with negative sepal lengths\n",
    "cleaned_dat <- dat  %>% \n",
    "    filter(Species != 'setosa',\n",
    "           Sepal.Length >= 0)\n",
    "\n",
    "# make new data.frames for the remaining two species\n",
    "versi.dat <- filter(cleaned_dat, Species == 'versicolor')\n",
    "virgi.dat <- filter(cleaned_dat, Species == 'virginica')\n",
    "\n",
    "# look at first six rows of all three data.frames\n",
    "head(cleaned_dat); head(versi.dat); head(virgi.dat)"
   ],
   "execution_count": null,
   "outputs": [
    {
     "output_type": "stream",
     "text": [
      "[1] \"species options: setosa, versicolor, virginica\"\n"
     ],
     "name": "stdout"
    },
    {
     "output_type": "display_data",
     "data": {
      "text/html": [
       "<table>\n",
       "<caption>A data.frame: 6 × 8</caption>\n",
       "<thead>\n",
       "\t<tr><th></th><th scope=col>Sepal.Length</th><th scope=col>Sepal.Width</th><th scope=col>Petal.Length</th><th scope=col>Petal.Width</th><th scope=col>Species</th><th scope=col>centered_SepLen</th><th scope=col>PetLen_zscores</th><th scope=col>n_flowers</th></tr>\n",
       "\t<tr><th></th><th scope=col>&lt;dbl&gt;</th><th scope=col>&lt;dbl&gt;</th><th scope=col>&lt;dbl&gt;</th><th scope=col>&lt;dbl&gt;</th><th scope=col>&lt;fct&gt;</th><th scope=col>&lt;dbl&gt;</th><th scope=col>&lt;dbl&gt;</th><th scope=col>&lt;int&gt;</th></tr>\n",
       "</thead>\n",
       "<tbody>\n",
       "\t<tr><th scope=row>1</th><td>7.0</td><td>3.2</td><td>4.7</td><td>1.4</td><td>versicolor</td><td> 1.1566667</td><td>0.5336209</td><td>150</td></tr>\n",
       "\t<tr><th scope=row>2</th><td>6.4</td><td>3.2</td><td>4.5</td><td>1.5</td><td>versicolor</td><td> 0.5566667</td><td>0.4203256</td><td>150</td></tr>\n",
       "\t<tr><th scope=row>3</th><td>6.9</td><td>3.1</td><td>4.9</td><td>1.5</td><td>versicolor</td><td> 1.0566667</td><td>0.6469162</td><td>150</td></tr>\n",
       "\t<tr><th scope=row>4</th><td>5.5</td><td>2.3</td><td>4.0</td><td>1.3</td><td>versicolor</td><td>-0.3433333</td><td>0.1370873</td><td>150</td></tr>\n",
       "\t<tr><th scope=row>5</th><td>6.5</td><td>2.8</td><td>4.6</td><td>1.5</td><td>versicolor</td><td> 0.6566667</td><td>0.4769732</td><td>150</td></tr>\n",
       "\t<tr><th scope=row>6</th><td>5.7</td><td>2.8</td><td>4.5</td><td>1.3</td><td>versicolor</td><td>-0.1433333</td><td>0.4203256</td><td>150</td></tr>\n",
       "</tbody>\n",
       "</table>\n"
      ],
      "text/latex": "A data.frame: 6 × 8\n\\begin{tabular}{r|llllllll}\n  & Sepal.Length & Sepal.Width & Petal.Length & Petal.Width & Species & centered\\_SepLen & PetLen\\_zscores & n\\_flowers\\\\\n  & <dbl> & <dbl> & <dbl> & <dbl> & <fct> & <dbl> & <dbl> & <int>\\\\\n\\hline\n\t1 & 7.0 & 3.2 & 4.7 & 1.4 & versicolor &  1.1566667 & 0.5336209 & 150\\\\\n\t2 & 6.4 & 3.2 & 4.5 & 1.5 & versicolor &  0.5566667 & 0.4203256 & 150\\\\\n\t3 & 6.9 & 3.1 & 4.9 & 1.5 & versicolor &  1.0566667 & 0.6469162 & 150\\\\\n\t4 & 5.5 & 2.3 & 4.0 & 1.3 & versicolor & -0.3433333 & 0.1370873 & 150\\\\\n\t5 & 6.5 & 2.8 & 4.6 & 1.5 & versicolor &  0.6566667 & 0.4769732 & 150\\\\\n\t6 & 5.7 & 2.8 & 4.5 & 1.3 & versicolor & -0.1433333 & 0.4203256 & 150\\\\\n\\end{tabular}\n",
      "text/markdown": "\nA data.frame: 6 × 8\n\n| <!--/--> | Sepal.Length &lt;dbl&gt; | Sepal.Width &lt;dbl&gt; | Petal.Length &lt;dbl&gt; | Petal.Width &lt;dbl&gt; | Species &lt;fct&gt; | centered_SepLen &lt;dbl&gt; | PetLen_zscores &lt;dbl&gt; | n_flowers &lt;int&gt; |\n|---|---|---|---|---|---|---|---|---|\n| 1 | 7.0 | 3.2 | 4.7 | 1.4 | versicolor |  1.1566667 | 0.5336209 | 150 |\n| 2 | 6.4 | 3.2 | 4.5 | 1.5 | versicolor |  0.5566667 | 0.4203256 | 150 |\n| 3 | 6.9 | 3.1 | 4.9 | 1.5 | versicolor |  1.0566667 | 0.6469162 | 150 |\n| 4 | 5.5 | 2.3 | 4.0 | 1.3 | versicolor | -0.3433333 | 0.1370873 | 150 |\n| 5 | 6.5 | 2.8 | 4.6 | 1.5 | versicolor |  0.6566667 | 0.4769732 | 150 |\n| 6 | 5.7 | 2.8 | 4.5 | 1.3 | versicolor | -0.1433333 | 0.4203256 | 150 |\n\n",
      "text/plain": [
       "  Sepal.Length Sepal.Width Petal.Length Petal.Width Species    centered_SepLen\n",
       "1 7.0          3.2         4.7          1.4         versicolor  1.1566667     \n",
       "2 6.4          3.2         4.5          1.5         versicolor  0.5566667     \n",
       "3 6.9          3.1         4.9          1.5         versicolor  1.0566667     \n",
       "4 5.5          2.3         4.0          1.3         versicolor -0.3433333     \n",
       "5 6.5          2.8         4.6          1.5         versicolor  0.6566667     \n",
       "6 5.7          2.8         4.5          1.3         versicolor -0.1433333     \n",
       "  PetLen_zscores n_flowers\n",
       "1 0.5336209      150      \n",
       "2 0.4203256      150      \n",
       "3 0.6469162      150      \n",
       "4 0.1370873      150      \n",
       "5 0.4769732      150      \n",
       "6 0.4203256      150      "
      ]
     },
     "metadata": {
      "tags": []
     }
    },
    {
     "output_type": "display_data",
     "data": {
      "text/html": [
       "<table>\n",
       "<caption>A data.frame: 6 × 8</caption>\n",
       "<thead>\n",
       "\t<tr><th></th><th scope=col>Sepal.Length</th><th scope=col>Sepal.Width</th><th scope=col>Petal.Length</th><th scope=col>Petal.Width</th><th scope=col>Species</th><th scope=col>centered_SepLen</th><th scope=col>PetLen_zscores</th><th scope=col>n_flowers</th></tr>\n",
       "\t<tr><th></th><th scope=col>&lt;dbl&gt;</th><th scope=col>&lt;dbl&gt;</th><th scope=col>&lt;dbl&gt;</th><th scope=col>&lt;dbl&gt;</th><th scope=col>&lt;fct&gt;</th><th scope=col>&lt;dbl&gt;</th><th scope=col>&lt;dbl&gt;</th><th scope=col>&lt;int&gt;</th></tr>\n",
       "</thead>\n",
       "<tbody>\n",
       "\t<tr><th scope=row>1</th><td>7.0</td><td>3.2</td><td>4.7</td><td>1.4</td><td>versicolor</td><td> 1.1566667</td><td>0.5336209</td><td>150</td></tr>\n",
       "\t<tr><th scope=row>2</th><td>6.4</td><td>3.2</td><td>4.5</td><td>1.5</td><td>versicolor</td><td> 0.5566667</td><td>0.4203256</td><td>150</td></tr>\n",
       "\t<tr><th scope=row>3</th><td>6.9</td><td>3.1</td><td>4.9</td><td>1.5</td><td>versicolor</td><td> 1.0566667</td><td>0.6469162</td><td>150</td></tr>\n",
       "\t<tr><th scope=row>4</th><td>5.5</td><td>2.3</td><td>4.0</td><td>1.3</td><td>versicolor</td><td>-0.3433333</td><td>0.1370873</td><td>150</td></tr>\n",
       "\t<tr><th scope=row>5</th><td>6.5</td><td>2.8</td><td>4.6</td><td>1.5</td><td>versicolor</td><td> 0.6566667</td><td>0.4769732</td><td>150</td></tr>\n",
       "\t<tr><th scope=row>6</th><td>5.7</td><td>2.8</td><td>4.5</td><td>1.3</td><td>versicolor</td><td>-0.1433333</td><td>0.4203256</td><td>150</td></tr>\n",
       "</tbody>\n",
       "</table>\n"
      ],
      "text/latex": "A data.frame: 6 × 8\n\\begin{tabular}{r|llllllll}\n  & Sepal.Length & Sepal.Width & Petal.Length & Petal.Width & Species & centered\\_SepLen & PetLen\\_zscores & n\\_flowers\\\\\n  & <dbl> & <dbl> & <dbl> & <dbl> & <fct> & <dbl> & <dbl> & <int>\\\\\n\\hline\n\t1 & 7.0 & 3.2 & 4.7 & 1.4 & versicolor &  1.1566667 & 0.5336209 & 150\\\\\n\t2 & 6.4 & 3.2 & 4.5 & 1.5 & versicolor &  0.5566667 & 0.4203256 & 150\\\\\n\t3 & 6.9 & 3.1 & 4.9 & 1.5 & versicolor &  1.0566667 & 0.6469162 & 150\\\\\n\t4 & 5.5 & 2.3 & 4.0 & 1.3 & versicolor & -0.3433333 & 0.1370873 & 150\\\\\n\t5 & 6.5 & 2.8 & 4.6 & 1.5 & versicolor &  0.6566667 & 0.4769732 & 150\\\\\n\t6 & 5.7 & 2.8 & 4.5 & 1.3 & versicolor & -0.1433333 & 0.4203256 & 150\\\\\n\\end{tabular}\n",
      "text/markdown": "\nA data.frame: 6 × 8\n\n| <!--/--> | Sepal.Length &lt;dbl&gt; | Sepal.Width &lt;dbl&gt; | Petal.Length &lt;dbl&gt; | Petal.Width &lt;dbl&gt; | Species &lt;fct&gt; | centered_SepLen &lt;dbl&gt; | PetLen_zscores &lt;dbl&gt; | n_flowers &lt;int&gt; |\n|---|---|---|---|---|---|---|---|---|\n| 1 | 7.0 | 3.2 | 4.7 | 1.4 | versicolor |  1.1566667 | 0.5336209 | 150 |\n| 2 | 6.4 | 3.2 | 4.5 | 1.5 | versicolor |  0.5566667 | 0.4203256 | 150 |\n| 3 | 6.9 | 3.1 | 4.9 | 1.5 | versicolor |  1.0566667 | 0.6469162 | 150 |\n| 4 | 5.5 | 2.3 | 4.0 | 1.3 | versicolor | -0.3433333 | 0.1370873 | 150 |\n| 5 | 6.5 | 2.8 | 4.6 | 1.5 | versicolor |  0.6566667 | 0.4769732 | 150 |\n| 6 | 5.7 | 2.8 | 4.5 | 1.3 | versicolor | -0.1433333 | 0.4203256 | 150 |\n\n",
      "text/plain": [
       "  Sepal.Length Sepal.Width Petal.Length Petal.Width Species    centered_SepLen\n",
       "1 7.0          3.2         4.7          1.4         versicolor  1.1566667     \n",
       "2 6.4          3.2         4.5          1.5         versicolor  0.5566667     \n",
       "3 6.9          3.1         4.9          1.5         versicolor  1.0566667     \n",
       "4 5.5          2.3         4.0          1.3         versicolor -0.3433333     \n",
       "5 6.5          2.8         4.6          1.5         versicolor  0.6566667     \n",
       "6 5.7          2.8         4.5          1.3         versicolor -0.1433333     \n",
       "  PetLen_zscores n_flowers\n",
       "1 0.5336209      150      \n",
       "2 0.4203256      150      \n",
       "3 0.6469162      150      \n",
       "4 0.1370873      150      \n",
       "5 0.4769732      150      \n",
       "6 0.4203256      150      "
      ]
     },
     "metadata": {
      "tags": []
     }
    },
    {
     "output_type": "display_data",
     "data": {
      "text/html": [
       "<table>\n",
       "<caption>A data.frame: 6 × 8</caption>\n",
       "<thead>\n",
       "\t<tr><th></th><th scope=col>Sepal.Length</th><th scope=col>Sepal.Width</th><th scope=col>Petal.Length</th><th scope=col>Petal.Width</th><th scope=col>Species</th><th scope=col>centered_SepLen</th><th scope=col>PetLen_zscores</th><th scope=col>n_flowers</th></tr>\n",
       "\t<tr><th></th><th scope=col>&lt;dbl&gt;</th><th scope=col>&lt;dbl&gt;</th><th scope=col>&lt;dbl&gt;</th><th scope=col>&lt;dbl&gt;</th><th scope=col>&lt;fct&gt;</th><th scope=col>&lt;dbl&gt;</th><th scope=col>&lt;dbl&gt;</th><th scope=col>&lt;int&gt;</th></tr>\n",
       "</thead>\n",
       "<tbody>\n",
       "\t<tr><th scope=row>1</th><td>6.3</td><td>3.3</td><td>6.0</td><td>2.5</td><td>virginica</td><td> 0.45666667</td><td>1.2700404</td><td>150</td></tr>\n",
       "\t<tr><th scope=row>2</th><td>5.8</td><td>2.7</td><td>5.1</td><td>1.9</td><td>virginica</td><td>-0.04333333</td><td>0.7602115</td><td>150</td></tr>\n",
       "\t<tr><th scope=row>3</th><td>7.1</td><td>3.0</td><td>5.9</td><td>2.1</td><td>virginica</td><td> 1.25666667</td><td>1.2133927</td><td>150</td></tr>\n",
       "\t<tr><th scope=row>4</th><td>6.3</td><td>2.9</td><td>5.6</td><td>1.8</td><td>virginica</td><td> 0.45666667</td><td>1.0434497</td><td>150</td></tr>\n",
       "\t<tr><th scope=row>5</th><td>6.5</td><td>3.0</td><td>5.8</td><td>2.2</td><td>virginica</td><td> 0.65666667</td><td>1.1567451</td><td>150</td></tr>\n",
       "\t<tr><th scope=row>6</th><td>7.6</td><td>3.0</td><td>6.6</td><td>2.1</td><td>virginica</td><td> 1.75666667</td><td>1.6099263</td><td>150</td></tr>\n",
       "</tbody>\n",
       "</table>\n"
      ],
      "text/latex": "A data.frame: 6 × 8\n\\begin{tabular}{r|llllllll}\n  & Sepal.Length & Sepal.Width & Petal.Length & Petal.Width & Species & centered\\_SepLen & PetLen\\_zscores & n\\_flowers\\\\\n  & <dbl> & <dbl> & <dbl> & <dbl> & <fct> & <dbl> & <dbl> & <int>\\\\\n\\hline\n\t1 & 6.3 & 3.3 & 6.0 & 2.5 & virginica &  0.45666667 & 1.2700404 & 150\\\\\n\t2 & 5.8 & 2.7 & 5.1 & 1.9 & virginica & -0.04333333 & 0.7602115 & 150\\\\\n\t3 & 7.1 & 3.0 & 5.9 & 2.1 & virginica &  1.25666667 & 1.2133927 & 150\\\\\n\t4 & 6.3 & 2.9 & 5.6 & 1.8 & virginica &  0.45666667 & 1.0434497 & 150\\\\\n\t5 & 6.5 & 3.0 & 5.8 & 2.2 & virginica &  0.65666667 & 1.1567451 & 150\\\\\n\t6 & 7.6 & 3.0 & 6.6 & 2.1 & virginica &  1.75666667 & 1.6099263 & 150\\\\\n\\end{tabular}\n",
      "text/markdown": "\nA data.frame: 6 × 8\n\n| <!--/--> | Sepal.Length &lt;dbl&gt; | Sepal.Width &lt;dbl&gt; | Petal.Length &lt;dbl&gt; | Petal.Width &lt;dbl&gt; | Species &lt;fct&gt; | centered_SepLen &lt;dbl&gt; | PetLen_zscores &lt;dbl&gt; | n_flowers &lt;int&gt; |\n|---|---|---|---|---|---|---|---|---|\n| 1 | 6.3 | 3.3 | 6.0 | 2.5 | virginica |  0.45666667 | 1.2700404 | 150 |\n| 2 | 5.8 | 2.7 | 5.1 | 1.9 | virginica | -0.04333333 | 0.7602115 | 150 |\n| 3 | 7.1 | 3.0 | 5.9 | 2.1 | virginica |  1.25666667 | 1.2133927 | 150 |\n| 4 | 6.3 | 2.9 | 5.6 | 1.8 | virginica |  0.45666667 | 1.0434497 | 150 |\n| 5 | 6.5 | 3.0 | 5.8 | 2.2 | virginica |  0.65666667 | 1.1567451 | 150 |\n| 6 | 7.6 | 3.0 | 6.6 | 2.1 | virginica |  1.75666667 | 1.6099263 | 150 |\n\n",
      "text/plain": [
       "  Sepal.Length Sepal.Width Petal.Length Petal.Width Species   centered_SepLen\n",
       "1 6.3          3.3         6.0          2.5         virginica  0.45666667    \n",
       "2 5.8          2.7         5.1          1.9         virginica -0.04333333    \n",
       "3 7.1          3.0         5.9          2.1         virginica  1.25666667    \n",
       "4 6.3          2.9         5.6          1.8         virginica  0.45666667    \n",
       "5 6.5          3.0         5.8          2.2         virginica  0.65666667    \n",
       "6 7.6          3.0         6.6          2.1         virginica  1.75666667    \n",
       "  PetLen_zscores n_flowers\n",
       "1 1.2700404      150      \n",
       "2 0.7602115      150      \n",
       "3 1.2133927      150      \n",
       "4 1.0434497      150      \n",
       "5 1.1567451      150      \n",
       "6 1.6099263      150      "
      ]
     },
     "metadata": {
      "tags": []
     }
    }
   ]
  },
  {
   "cell_type": "markdown",
   "metadata": {
    "id": "BWZJWEG00ZAX"
   },
   "source": [
    "Here's where the pipe becomes useful. Let's say you want to calculate the summarise we described above separately for the versicolor and virginica species. I will show you later how to do it more efficiently, but for the moment we can illustrate how you can chain commands with pipes. Rather than creating the intermediate `versi.dat` and `virgi.dat` dataframes, we can chain the `summarise` function after the `filter` function. In the example below, we pass `dat` as the first argument of `filter`, then specify to keep only versicolor flowers, and then the resulting data.frame is passed on as the first argument to summarise:"
   ]
  },
  {
   "cell_type": "code",
   "metadata": {
    "colab": {
     "base_uri": "https://localhost:8080/",
     "height": 184
    },
    "id": "j0O40e7G0ZAX",
    "executionInfo": {
     "elapsed": 2393,
     "status": "ok",
     "timestamp": 1611095670277,
     "user": {
      "displayName": "Patience Stevens",
      "photoUrl": "https://lh3.googleusercontent.com/a-/AOh14Gi-_9ZqhIFhAv1oMehJNvNuIKSTyrFQHzjxQKhx=s64",
      "userId": "01994571539255174942"
     },
     "user_tz": 300
    },
    "outputId": "664550ec-c2ee-4d0d-d9e3-db5137204fb8"
   },
   "source": [
    "# calculate summarise for versicolor species\n",
    "dat  %>% \n",
    " filter(Species == 'versicolor')  %>% \n",
    " summarise(SepLen_mean = mean(Sepal.Length),\n",
    "           SepLen_sd = sd(Sepal.Length))\n",
    "\n",
    "# calculate summarise for virginica species\n",
    "dat  %>% \n",
    " filter(Species == 'virginica')  %>% \n",
    " summarise(SepLen_mean = mean(Sepal.Length),\n",
    "           SepLen_sd = sd(Sepal.Length))"
   ],
   "execution_count": null,
   "outputs": [
    {
     "output_type": "display_data",
     "data": {
      "text/html": [
       "<table>\n",
       "<caption>A data.frame: 1 × 2</caption>\n",
       "<thead>\n",
       "\t<tr><th scope=col>SepLen_mean</th><th scope=col>SepLen_sd</th></tr>\n",
       "\t<tr><th scope=col>&lt;dbl&gt;</th><th scope=col>&lt;dbl&gt;</th></tr>\n",
       "</thead>\n",
       "<tbody>\n",
       "\t<tr><td>5.936</td><td>0.5161711</td></tr>\n",
       "</tbody>\n",
       "</table>\n"
      ],
      "text/latex": "A data.frame: 1 × 2\n\\begin{tabular}{ll}\n SepLen\\_mean & SepLen\\_sd\\\\\n <dbl> & <dbl>\\\\\n\\hline\n\t 5.936 & 0.5161711\\\\\n\\end{tabular}\n",
      "text/markdown": "\nA data.frame: 1 × 2\n\n| SepLen_mean &lt;dbl&gt; | SepLen_sd &lt;dbl&gt; |\n|---|---|\n| 5.936 | 0.5161711 |\n\n",
      "text/plain": [
       "  SepLen_mean SepLen_sd\n",
       "1 5.936       0.5161711"
      ]
     },
     "metadata": {
      "tags": []
     }
    },
    {
     "output_type": "display_data",
     "data": {
      "text/html": [
       "<table>\n",
       "<caption>A data.frame: 1 × 2</caption>\n",
       "<thead>\n",
       "\t<tr><th scope=col>SepLen_mean</th><th scope=col>SepLen_sd</th></tr>\n",
       "\t<tr><th scope=col>&lt;dbl&gt;</th><th scope=col>&lt;dbl&gt;</th></tr>\n",
       "</thead>\n",
       "<tbody>\n",
       "\t<tr><td>6.588</td><td>0.6358796</td></tr>\n",
       "</tbody>\n",
       "</table>\n"
      ],
      "text/latex": "A data.frame: 1 × 2\n\\begin{tabular}{ll}\n SepLen\\_mean & SepLen\\_sd\\\\\n <dbl> & <dbl>\\\\\n\\hline\n\t 6.588 & 0.6358796\\\\\n\\end{tabular}\n",
      "text/markdown": "\nA data.frame: 1 × 2\n\n| SepLen_mean &lt;dbl&gt; | SepLen_sd &lt;dbl&gt; |\n|---|---|\n| 6.588 | 0.6358796 |\n\n",
      "text/plain": [
       "  SepLen_mean SepLen_sd\n",
       "1 6.588       0.6358796"
      ]
     },
     "metadata": {
      "tags": []
     }
    }
   ]
  },
  {
   "cell_type": "markdown",
   "metadata": {
    "id": "iXCX5F7r0ZAY"
   },
   "source": [
    "**_TIP_**: it is very easy to remove missing values by using the !is.na(variable) command. E.g. if some flowers are missing petal length measurements, you can exclude them by doing **`filter(dat, !is.na(Petal.Length))`**"
   ]
  },
  {
   "cell_type": "markdown",
   "metadata": {
    "id": "QOP2juim0ZAY"
   },
   "source": [
    "### 4.4 Removing/selecting columns to keep - select()"
   ]
  },
  {
   "cell_type": "markdown",
   "metadata": {
    "id": "3hSuLskc0ZAY"
   },
   "source": [
    "Often the dataset contains many irrelevant columns that make it difficult to display the dataframe all at once. You can easily choose which columns to keep or remove in a data.frame with the **`select()`** command. It has complex usage, and I suggest checking the help, i.e. type `?select`. However, the basic usage is as follows: "
   ]
  },
  {
   "cell_type": "code",
   "metadata": {
    "colab": {
     "base_uri": "https://localhost:8080/",
     "height": 207
    },
    "id": "6HO_umTi0ZAY",
    "executionInfo": {
     "elapsed": 2378,
     "status": "ok",
     "timestamp": 1611095670278,
     "user": {
      "displayName": "Patience Stevens",
      "photoUrl": "https://lh3.googleusercontent.com/a-/AOh14Gi-_9ZqhIFhAv1oMehJNvNuIKSTyrFQHzjxQKhx=s64",
      "userId": "01994571539255174942"
     },
     "user_tz": 300
    },
    "outputId": "b7906442-4aa0-4648-f8fe-ab703e465bd7"
   },
   "source": [
    "select(dat, Species, Petal.Length, Petal.Width)  %>% head() #to keep only specific variables, list them one after another like this"
   ],
   "execution_count": null,
   "outputs": [
    {
     "output_type": "display_data",
     "data": {
      "text/html": [
       "<table>\n",
       "<caption>A data.frame: 6 × 3</caption>\n",
       "<thead>\n",
       "\t<tr><th></th><th scope=col>Species</th><th scope=col>Petal.Length</th><th scope=col>Petal.Width</th></tr>\n",
       "\t<tr><th></th><th scope=col>&lt;fct&gt;</th><th scope=col>&lt;dbl&gt;</th><th scope=col>&lt;dbl&gt;</th></tr>\n",
       "</thead>\n",
       "<tbody>\n",
       "\t<tr><th scope=row>1</th><td>setosa</td><td>1.4</td><td>0.2</td></tr>\n",
       "\t<tr><th scope=row>2</th><td>setosa</td><td>1.4</td><td>0.2</td></tr>\n",
       "\t<tr><th scope=row>3</th><td>setosa</td><td>1.3</td><td>0.2</td></tr>\n",
       "\t<tr><th scope=row>4</th><td>setosa</td><td>1.5</td><td>0.2</td></tr>\n",
       "\t<tr><th scope=row>5</th><td>setosa</td><td>1.4</td><td>0.2</td></tr>\n",
       "\t<tr><th scope=row>6</th><td>setosa</td><td>1.7</td><td>0.4</td></tr>\n",
       "</tbody>\n",
       "</table>\n"
      ],
      "text/latex": "A data.frame: 6 × 3\n\\begin{tabular}{r|lll}\n  & Species & Petal.Length & Petal.Width\\\\\n  & <fct> & <dbl> & <dbl>\\\\\n\\hline\n\t1 & setosa & 1.4 & 0.2\\\\\n\t2 & setosa & 1.4 & 0.2\\\\\n\t3 & setosa & 1.3 & 0.2\\\\\n\t4 & setosa & 1.5 & 0.2\\\\\n\t5 & setosa & 1.4 & 0.2\\\\\n\t6 & setosa & 1.7 & 0.4\\\\\n\\end{tabular}\n",
      "text/markdown": "\nA data.frame: 6 × 3\n\n| <!--/--> | Species &lt;fct&gt; | Petal.Length &lt;dbl&gt; | Petal.Width &lt;dbl&gt; |\n|---|---|---|---|\n| 1 | setosa | 1.4 | 0.2 |\n| 2 | setosa | 1.4 | 0.2 |\n| 3 | setosa | 1.3 | 0.2 |\n| 4 | setosa | 1.5 | 0.2 |\n| 5 | setosa | 1.4 | 0.2 |\n| 6 | setosa | 1.7 | 0.4 |\n\n",
      "text/plain": [
       "  Species Petal.Length Petal.Width\n",
       "1 setosa  1.4          0.2        \n",
       "2 setosa  1.4          0.2        \n",
       "3 setosa  1.3          0.2        \n",
       "4 setosa  1.5          0.2        \n",
       "5 setosa  1.4          0.2        \n",
       "6 setosa  1.7          0.4        "
      ]
     },
     "metadata": {
      "tags": []
     }
    }
   ]
  },
  {
   "cell_type": "markdown",
   "metadata": {
    "id": "WZLNn4id0ZAY"
   },
   "source": [
    "* If you want to **remove** only specific variables, list each with a **-** sign:"
   ]
  },
  {
   "cell_type": "code",
   "metadata": {
    "colab": {
     "base_uri": "https://localhost:8080/",
     "height": 207
    },
    "id": "uPkomyI90ZAY",
    "executionInfo": {
     "elapsed": 2633,
     "status": "ok",
     "timestamp": 1611095670548,
     "user": {
      "displayName": "Patience Stevens",
      "photoUrl": "https://lh3.googleusercontent.com/a-/AOh14Gi-_9ZqhIFhAv1oMehJNvNuIKSTyrFQHzjxQKhx=s64",
      "userId": "01994571539255174942"
     },
     "user_tz": 300
    },
    "outputId": "6ab1967f-d88d-4dae-9e23-d8c46c7b62e3"
   },
   "source": [
    "select(dat, -Sepal.Length, -Sepal.Width)  %>% head() #remove original sepal length & width variables"
   ],
   "execution_count": null,
   "outputs": [
    {
     "output_type": "display_data",
     "data": {
      "text/html": [
       "<table>\n",
       "<caption>A data.frame: 6 × 6</caption>\n",
       "<thead>\n",
       "\t<tr><th></th><th scope=col>Petal.Length</th><th scope=col>Petal.Width</th><th scope=col>Species</th><th scope=col>centered_SepLen</th><th scope=col>PetLen_zscores</th><th scope=col>n_flowers</th></tr>\n",
       "\t<tr><th></th><th scope=col>&lt;dbl&gt;</th><th scope=col>&lt;dbl&gt;</th><th scope=col>&lt;fct&gt;</th><th scope=col>&lt;dbl&gt;</th><th scope=col>&lt;dbl&gt;</th><th scope=col>&lt;int&gt;</th></tr>\n",
       "</thead>\n",
       "<tbody>\n",
       "\t<tr><th scope=row>1</th><td>1.4</td><td>0.2</td><td>setosa</td><td>-0.7433333</td><td>-1.335752</td><td>150</td></tr>\n",
       "\t<tr><th scope=row>2</th><td>1.4</td><td>0.2</td><td>setosa</td><td>-0.9433333</td><td>-1.335752</td><td>150</td></tr>\n",
       "\t<tr><th scope=row>3</th><td>1.3</td><td>0.2</td><td>setosa</td><td>-1.1433333</td><td>-1.392399</td><td>150</td></tr>\n",
       "\t<tr><th scope=row>4</th><td>1.5</td><td>0.2</td><td>setosa</td><td>-1.2433333</td><td>-1.279104</td><td>150</td></tr>\n",
       "\t<tr><th scope=row>5</th><td>1.4</td><td>0.2</td><td>setosa</td><td>-0.8433333</td><td>-1.335752</td><td>150</td></tr>\n",
       "\t<tr><th scope=row>6</th><td>1.7</td><td>0.4</td><td>setosa</td><td>-0.4433333</td><td>-1.165809</td><td>150</td></tr>\n",
       "</tbody>\n",
       "</table>\n"
      ],
      "text/latex": "A data.frame: 6 × 6\n\\begin{tabular}{r|llllll}\n  & Petal.Length & Petal.Width & Species & centered\\_SepLen & PetLen\\_zscores & n\\_flowers\\\\\n  & <dbl> & <dbl> & <fct> & <dbl> & <dbl> & <int>\\\\\n\\hline\n\t1 & 1.4 & 0.2 & setosa & -0.7433333 & -1.335752 & 150\\\\\n\t2 & 1.4 & 0.2 & setosa & -0.9433333 & -1.335752 & 150\\\\\n\t3 & 1.3 & 0.2 & setosa & -1.1433333 & -1.392399 & 150\\\\\n\t4 & 1.5 & 0.2 & setosa & -1.2433333 & -1.279104 & 150\\\\\n\t5 & 1.4 & 0.2 & setosa & -0.8433333 & -1.335752 & 150\\\\\n\t6 & 1.7 & 0.4 & setosa & -0.4433333 & -1.165809 & 150\\\\\n\\end{tabular}\n",
      "text/markdown": "\nA data.frame: 6 × 6\n\n| <!--/--> | Petal.Length &lt;dbl&gt; | Petal.Width &lt;dbl&gt; | Species &lt;fct&gt; | centered_SepLen &lt;dbl&gt; | PetLen_zscores &lt;dbl&gt; | n_flowers &lt;int&gt; |\n|---|---|---|---|---|---|---|\n| 1 | 1.4 | 0.2 | setosa | -0.7433333 | -1.335752 | 150 |\n| 2 | 1.4 | 0.2 | setosa | -0.9433333 | -1.335752 | 150 |\n| 3 | 1.3 | 0.2 | setosa | -1.1433333 | -1.392399 | 150 |\n| 4 | 1.5 | 0.2 | setosa | -1.2433333 | -1.279104 | 150 |\n| 5 | 1.4 | 0.2 | setosa | -0.8433333 | -1.335752 | 150 |\n| 6 | 1.7 | 0.4 | setosa | -0.4433333 | -1.165809 | 150 |\n\n",
      "text/plain": [
       "  Petal.Length Petal.Width Species centered_SepLen PetLen_zscores n_flowers\n",
       "1 1.4          0.2         setosa  -0.7433333      -1.335752      150      \n",
       "2 1.4          0.2         setosa  -0.9433333      -1.335752      150      \n",
       "3 1.3          0.2         setosa  -1.1433333      -1.392399      150      \n",
       "4 1.5          0.2         setosa  -1.2433333      -1.279104      150      \n",
       "5 1.4          0.2         setosa  -0.8433333      -1.335752      150      \n",
       "6 1.7          0.4         setosa  -0.4433333      -1.165809      150      "
      ]
     },
     "metadata": {
      "tags": []
     }
    }
   ]
  },
  {
   "cell_type": "markdown",
   "metadata": {
    "id": "wYwrBSmT0ZAY"
   },
   "source": [
    "* If you want to keep a sequence of variables, you can specify the first and the last using a range:"
   ]
  },
  {
   "cell_type": "code",
   "metadata": {
    "colab": {
     "base_uri": "https://localhost:8080/",
     "height": 398
    },
    "id": "-qC7uW7q0ZAZ",
    "executionInfo": {
     "elapsed": 2619,
     "status": "ok",
     "timestamp": 1611095670549,
     "user": {
      "displayName": "Patience Stevens",
      "photoUrl": "https://lh3.googleusercontent.com/a-/AOh14Gi-_9ZqhIFhAv1oMehJNvNuIKSTyrFQHzjxQKhx=s64",
      "userId": "01994571539255174942"
     },
     "user_tz": 300
    },
    "outputId": "f0c5e7dd-c17b-4bea-f4e6-162da4605190"
   },
   "source": [
    "# look at full data set\n",
    "head(dat)\n",
    "# look at just a certain range of variables\n",
    "select(dat, Sepal.Length:Species)  %>% head()  #note that this is an inclusive range - the first and last variables are included"
   ],
   "execution_count": null,
   "outputs": [
    {
     "output_type": "display_data",
     "data": {
      "text/html": [
       "<table>\n",
       "<caption>A data.frame: 6 × 8</caption>\n",
       "<thead>\n",
       "\t<tr><th></th><th scope=col>Sepal.Length</th><th scope=col>Sepal.Width</th><th scope=col>Petal.Length</th><th scope=col>Petal.Width</th><th scope=col>Species</th><th scope=col>centered_SepLen</th><th scope=col>PetLen_zscores</th><th scope=col>n_flowers</th></tr>\n",
       "\t<tr><th></th><th scope=col>&lt;dbl&gt;</th><th scope=col>&lt;dbl&gt;</th><th scope=col>&lt;dbl&gt;</th><th scope=col>&lt;dbl&gt;</th><th scope=col>&lt;fct&gt;</th><th scope=col>&lt;dbl&gt;</th><th scope=col>&lt;dbl&gt;</th><th scope=col>&lt;int&gt;</th></tr>\n",
       "</thead>\n",
       "<tbody>\n",
       "\t<tr><th scope=row>1</th><td>5.1</td><td>3.5</td><td>1.4</td><td>0.2</td><td>setosa</td><td>-0.7433333</td><td>-1.335752</td><td>150</td></tr>\n",
       "\t<tr><th scope=row>2</th><td>4.9</td><td>3.0</td><td>1.4</td><td>0.2</td><td>setosa</td><td>-0.9433333</td><td>-1.335752</td><td>150</td></tr>\n",
       "\t<tr><th scope=row>3</th><td>4.7</td><td>3.2</td><td>1.3</td><td>0.2</td><td>setosa</td><td>-1.1433333</td><td>-1.392399</td><td>150</td></tr>\n",
       "\t<tr><th scope=row>4</th><td>4.6</td><td>3.1</td><td>1.5</td><td>0.2</td><td>setosa</td><td>-1.2433333</td><td>-1.279104</td><td>150</td></tr>\n",
       "\t<tr><th scope=row>5</th><td>5.0</td><td>3.6</td><td>1.4</td><td>0.2</td><td>setosa</td><td>-0.8433333</td><td>-1.335752</td><td>150</td></tr>\n",
       "\t<tr><th scope=row>6</th><td>5.4</td><td>3.9</td><td>1.7</td><td>0.4</td><td>setosa</td><td>-0.4433333</td><td>-1.165809</td><td>150</td></tr>\n",
       "</tbody>\n",
       "</table>\n"
      ],
      "text/latex": "A data.frame: 6 × 8\n\\begin{tabular}{r|llllllll}\n  & Sepal.Length & Sepal.Width & Petal.Length & Petal.Width & Species & centered\\_SepLen & PetLen\\_zscores & n\\_flowers\\\\\n  & <dbl> & <dbl> & <dbl> & <dbl> & <fct> & <dbl> & <dbl> & <int>\\\\\n\\hline\n\t1 & 5.1 & 3.5 & 1.4 & 0.2 & setosa & -0.7433333 & -1.335752 & 150\\\\\n\t2 & 4.9 & 3.0 & 1.4 & 0.2 & setosa & -0.9433333 & -1.335752 & 150\\\\\n\t3 & 4.7 & 3.2 & 1.3 & 0.2 & setosa & -1.1433333 & -1.392399 & 150\\\\\n\t4 & 4.6 & 3.1 & 1.5 & 0.2 & setosa & -1.2433333 & -1.279104 & 150\\\\\n\t5 & 5.0 & 3.6 & 1.4 & 0.2 & setosa & -0.8433333 & -1.335752 & 150\\\\\n\t6 & 5.4 & 3.9 & 1.7 & 0.4 & setosa & -0.4433333 & -1.165809 & 150\\\\\n\\end{tabular}\n",
      "text/markdown": "\nA data.frame: 6 × 8\n\n| <!--/--> | Sepal.Length &lt;dbl&gt; | Sepal.Width &lt;dbl&gt; | Petal.Length &lt;dbl&gt; | Petal.Width &lt;dbl&gt; | Species &lt;fct&gt; | centered_SepLen &lt;dbl&gt; | PetLen_zscores &lt;dbl&gt; | n_flowers &lt;int&gt; |\n|---|---|---|---|---|---|---|---|---|\n| 1 | 5.1 | 3.5 | 1.4 | 0.2 | setosa | -0.7433333 | -1.335752 | 150 |\n| 2 | 4.9 | 3.0 | 1.4 | 0.2 | setosa | -0.9433333 | -1.335752 | 150 |\n| 3 | 4.7 | 3.2 | 1.3 | 0.2 | setosa | -1.1433333 | -1.392399 | 150 |\n| 4 | 4.6 | 3.1 | 1.5 | 0.2 | setosa | -1.2433333 | -1.279104 | 150 |\n| 5 | 5.0 | 3.6 | 1.4 | 0.2 | setosa | -0.8433333 | -1.335752 | 150 |\n| 6 | 5.4 | 3.9 | 1.7 | 0.4 | setosa | -0.4433333 | -1.165809 | 150 |\n\n",
      "text/plain": [
       "  Sepal.Length Sepal.Width Petal.Length Petal.Width Species centered_SepLen\n",
       "1 5.1          3.5         1.4          0.2         setosa  -0.7433333     \n",
       "2 4.9          3.0         1.4          0.2         setosa  -0.9433333     \n",
       "3 4.7          3.2         1.3          0.2         setosa  -1.1433333     \n",
       "4 4.6          3.1         1.5          0.2         setosa  -1.2433333     \n",
       "5 5.0          3.6         1.4          0.2         setosa  -0.8433333     \n",
       "6 5.4          3.9         1.7          0.4         setosa  -0.4433333     \n",
       "  PetLen_zscores n_flowers\n",
       "1 -1.335752      150      \n",
       "2 -1.335752      150      \n",
       "3 -1.392399      150      \n",
       "4 -1.279104      150      \n",
       "5 -1.335752      150      \n",
       "6 -1.165809      150      "
      ]
     },
     "metadata": {
      "tags": []
     }
    },
    {
     "output_type": "display_data",
     "data": {
      "text/html": [
       "<table>\n",
       "<caption>A data.frame: 6 × 5</caption>\n",
       "<thead>\n",
       "\t<tr><th></th><th scope=col>Sepal.Length</th><th scope=col>Sepal.Width</th><th scope=col>Petal.Length</th><th scope=col>Petal.Width</th><th scope=col>Species</th></tr>\n",
       "\t<tr><th></th><th scope=col>&lt;dbl&gt;</th><th scope=col>&lt;dbl&gt;</th><th scope=col>&lt;dbl&gt;</th><th scope=col>&lt;dbl&gt;</th><th scope=col>&lt;fct&gt;</th></tr>\n",
       "</thead>\n",
       "<tbody>\n",
       "\t<tr><th scope=row>1</th><td>5.1</td><td>3.5</td><td>1.4</td><td>0.2</td><td>setosa</td></tr>\n",
       "\t<tr><th scope=row>2</th><td>4.9</td><td>3.0</td><td>1.4</td><td>0.2</td><td>setosa</td></tr>\n",
       "\t<tr><th scope=row>3</th><td>4.7</td><td>3.2</td><td>1.3</td><td>0.2</td><td>setosa</td></tr>\n",
       "\t<tr><th scope=row>4</th><td>4.6</td><td>3.1</td><td>1.5</td><td>0.2</td><td>setosa</td></tr>\n",
       "\t<tr><th scope=row>5</th><td>5.0</td><td>3.6</td><td>1.4</td><td>0.2</td><td>setosa</td></tr>\n",
       "\t<tr><th scope=row>6</th><td>5.4</td><td>3.9</td><td>1.7</td><td>0.4</td><td>setosa</td></tr>\n",
       "</tbody>\n",
       "</table>\n"
      ],
      "text/latex": "A data.frame: 6 × 5\n\\begin{tabular}{r|lllll}\n  & Sepal.Length & Sepal.Width & Petal.Length & Petal.Width & Species\\\\\n  & <dbl> & <dbl> & <dbl> & <dbl> & <fct>\\\\\n\\hline\n\t1 & 5.1 & 3.5 & 1.4 & 0.2 & setosa\\\\\n\t2 & 4.9 & 3.0 & 1.4 & 0.2 & setosa\\\\\n\t3 & 4.7 & 3.2 & 1.3 & 0.2 & setosa\\\\\n\t4 & 4.6 & 3.1 & 1.5 & 0.2 & setosa\\\\\n\t5 & 5.0 & 3.6 & 1.4 & 0.2 & setosa\\\\\n\t6 & 5.4 & 3.9 & 1.7 & 0.4 & setosa\\\\\n\\end{tabular}\n",
      "text/markdown": "\nA data.frame: 6 × 5\n\n| <!--/--> | Sepal.Length &lt;dbl&gt; | Sepal.Width &lt;dbl&gt; | Petal.Length &lt;dbl&gt; | Petal.Width &lt;dbl&gt; | Species &lt;fct&gt; |\n|---|---|---|---|---|---|\n| 1 | 5.1 | 3.5 | 1.4 | 0.2 | setosa |\n| 2 | 4.9 | 3.0 | 1.4 | 0.2 | setosa |\n| 3 | 4.7 | 3.2 | 1.3 | 0.2 | setosa |\n| 4 | 4.6 | 3.1 | 1.5 | 0.2 | setosa |\n| 5 | 5.0 | 3.6 | 1.4 | 0.2 | setosa |\n| 6 | 5.4 | 3.9 | 1.7 | 0.4 | setosa |\n\n",
      "text/plain": [
       "  Sepal.Length Sepal.Width Petal.Length Petal.Width Species\n",
       "1 5.1          3.5         1.4          0.2         setosa \n",
       "2 4.9          3.0         1.4          0.2         setosa \n",
       "3 4.7          3.2         1.3          0.2         setosa \n",
       "4 4.6          3.1         1.5          0.2         setosa \n",
       "5 5.0          3.6         1.4          0.2         setosa \n",
       "6 5.4          3.9         1.7          0.4         setosa "
      ]
     },
     "metadata": {
      "tags": []
     }
    }
   ]
  },
  {
   "cell_type": "markdown",
   "metadata": {
    "id": "IH9yxLQB0ZAZ"
   },
   "source": [
    "### 4.5 Sorting the data.frame by columns - arrange()"
   ]
  },
  {
   "cell_type": "markdown",
   "metadata": {
    "id": "5Pztgqld0ZAZ"
   },
   "source": [
    "If you want to sort your data.frame by one or more columns you can use the `arrange()` command, where you list the variables in the order in which you want the sorting to occur. The default is to sort by ascending order for each variable. If you want to sort by descending order for one of them, you can surround the variable in the `desc()` command. Let's sort the flowers by species, and then within each species, by descending petal length:"
   ]
  },
  {
   "cell_type": "code",
   "metadata": {
    "colab": {
     "base_uri": "https://localhost:8080/",
     "height": 207
    },
    "id": "ju148EdW0ZAZ",
    "executionInfo": {
     "elapsed": 2605,
     "status": "ok",
     "timestamp": 1611095670551,
     "user": {
      "displayName": "Patience Stevens",
      "photoUrl": "https://lh3.googleusercontent.com/a-/AOh14Gi-_9ZqhIFhAv1oMehJNvNuIKSTyrFQHzjxQKhx=s64",
      "userId": "01994571539255174942"
     },
     "user_tz": 300
    },
    "outputId": "f382bf99-4cb8-443a-f5f4-84c9ff47bd00"
   },
   "source": [
    "arrange(dat, Species, desc(Petal.Length))  %>% head()\n",
    "\n",
    "# arrange(dat, desc(Species), desc(Petal.Length)) %>% head()"
   ],
   "execution_count": null,
   "outputs": [
    {
     "output_type": "display_data",
     "data": {
      "text/html": [
       "<table>\n",
       "<caption>A data.frame: 6 × 8</caption>\n",
       "<thead>\n",
       "\t<tr><th></th><th scope=col>Sepal.Length</th><th scope=col>Sepal.Width</th><th scope=col>Petal.Length</th><th scope=col>Petal.Width</th><th scope=col>Species</th><th scope=col>centered_SepLen</th><th scope=col>PetLen_zscores</th><th scope=col>n_flowers</th></tr>\n",
       "\t<tr><th></th><th scope=col>&lt;dbl&gt;</th><th scope=col>&lt;dbl&gt;</th><th scope=col>&lt;dbl&gt;</th><th scope=col>&lt;dbl&gt;</th><th scope=col>&lt;fct&gt;</th><th scope=col>&lt;dbl&gt;</th><th scope=col>&lt;dbl&gt;</th><th scope=col>&lt;int&gt;</th></tr>\n",
       "</thead>\n",
       "<tbody>\n",
       "\t<tr><th scope=row>1</th><td>4.8</td><td>3.4</td><td>1.9</td><td>0.2</td><td>setosa</td><td>-1.0433333</td><td>-1.052513</td><td>150</td></tr>\n",
       "\t<tr><th scope=row>2</th><td>5.1</td><td>3.8</td><td>1.9</td><td>0.4</td><td>setosa</td><td>-0.7433333</td><td>-1.052513</td><td>150</td></tr>\n",
       "\t<tr><th scope=row>3</th><td>5.4</td><td>3.9</td><td>1.7</td><td>0.4</td><td>setosa</td><td>-0.4433333</td><td>-1.165809</td><td>150</td></tr>\n",
       "\t<tr><th scope=row>4</th><td>5.7</td><td>3.8</td><td>1.7</td><td>0.3</td><td>setosa</td><td>-0.1433333</td><td>-1.165809</td><td>150</td></tr>\n",
       "\t<tr><th scope=row>5</th><td>5.4</td><td>3.4</td><td>1.7</td><td>0.2</td><td>setosa</td><td>-0.4433333</td><td>-1.165809</td><td>150</td></tr>\n",
       "\t<tr><th scope=row>6</th><td>5.1</td><td>3.3</td><td>1.7</td><td>0.5</td><td>setosa</td><td>-0.7433333</td><td>-1.165809</td><td>150</td></tr>\n",
       "</tbody>\n",
       "</table>\n"
      ],
      "text/latex": "A data.frame: 6 × 8\n\\begin{tabular}{r|llllllll}\n  & Sepal.Length & Sepal.Width & Petal.Length & Petal.Width & Species & centered\\_SepLen & PetLen\\_zscores & n\\_flowers\\\\\n  & <dbl> & <dbl> & <dbl> & <dbl> & <fct> & <dbl> & <dbl> & <int>\\\\\n\\hline\n\t1 & 4.8 & 3.4 & 1.9 & 0.2 & setosa & -1.0433333 & -1.052513 & 150\\\\\n\t2 & 5.1 & 3.8 & 1.9 & 0.4 & setosa & -0.7433333 & -1.052513 & 150\\\\\n\t3 & 5.4 & 3.9 & 1.7 & 0.4 & setosa & -0.4433333 & -1.165809 & 150\\\\\n\t4 & 5.7 & 3.8 & 1.7 & 0.3 & setosa & -0.1433333 & -1.165809 & 150\\\\\n\t5 & 5.4 & 3.4 & 1.7 & 0.2 & setosa & -0.4433333 & -1.165809 & 150\\\\\n\t6 & 5.1 & 3.3 & 1.7 & 0.5 & setosa & -0.7433333 & -1.165809 & 150\\\\\n\\end{tabular}\n",
      "text/markdown": "\nA data.frame: 6 × 8\n\n| <!--/--> | Sepal.Length &lt;dbl&gt; | Sepal.Width &lt;dbl&gt; | Petal.Length &lt;dbl&gt; | Petal.Width &lt;dbl&gt; | Species &lt;fct&gt; | centered_SepLen &lt;dbl&gt; | PetLen_zscores &lt;dbl&gt; | n_flowers &lt;int&gt; |\n|---|---|---|---|---|---|---|---|---|\n| 1 | 4.8 | 3.4 | 1.9 | 0.2 | setosa | -1.0433333 | -1.052513 | 150 |\n| 2 | 5.1 | 3.8 | 1.9 | 0.4 | setosa | -0.7433333 | -1.052513 | 150 |\n| 3 | 5.4 | 3.9 | 1.7 | 0.4 | setosa | -0.4433333 | -1.165809 | 150 |\n| 4 | 5.7 | 3.8 | 1.7 | 0.3 | setosa | -0.1433333 | -1.165809 | 150 |\n| 5 | 5.4 | 3.4 | 1.7 | 0.2 | setosa | -0.4433333 | -1.165809 | 150 |\n| 6 | 5.1 | 3.3 | 1.7 | 0.5 | setosa | -0.7433333 | -1.165809 | 150 |\n\n",
      "text/plain": [
       "  Sepal.Length Sepal.Width Petal.Length Petal.Width Species centered_SepLen\n",
       "1 4.8          3.4         1.9          0.2         setosa  -1.0433333     \n",
       "2 5.1          3.8         1.9          0.4         setosa  -0.7433333     \n",
       "3 5.4          3.9         1.7          0.4         setosa  -0.4433333     \n",
       "4 5.7          3.8         1.7          0.3         setosa  -0.1433333     \n",
       "5 5.4          3.4         1.7          0.2         setosa  -0.4433333     \n",
       "6 5.1          3.3         1.7          0.5         setosa  -0.7433333     \n",
       "  PetLen_zscores n_flowers\n",
       "1 -1.052513      150      \n",
       "2 -1.052513      150      \n",
       "3 -1.165809      150      \n",
       "4 -1.165809      150      \n",
       "5 -1.165809      150      \n",
       "6 -1.165809      150      "
      ]
     },
     "metadata": {
      "tags": []
     }
    }
   ]
  },
  {
   "cell_type": "markdown",
   "metadata": {
    "id": "pRhRKPghWoqn"
   },
   "source": [
    "Note: since the `Species` variable is a factor, not a numeric variable, it will be sorted by the order listed by `levels(dat$Species)`. You can test this out by uncommenting the second line in the code cell above - since the flowers are now sorted in the reverse `Species` order, the first six rows shown by `head()` are now virginica, not setosa. "
   ]
  },
  {
   "cell_type": "markdown",
   "metadata": {
    "id": "za8IdRYR0ZAZ"
   },
   "source": [
    "### 4.6 combine/concatenate values from two columns into one - unite()"
   ]
  },
  {
   "cell_type": "markdown",
   "metadata": {
    "id": "5FmR7HHxYVTV"
   },
   "source": [
    "Let's say flowers with short petals are fundamentally different from those with long petals. I'm going to make a new categorical variable, `PetalType`, that can either be \"long\" or \"short\". *To learn more about the `ifelse()` function used below, type `?ifelse`.*"
   ]
  },
  {
   "cell_type": "code",
   "metadata": {
    "colab": {
     "base_uri": "https://localhost:8080/",
     "height": 627
    },
    "id": "VP2I_EOIYrm-",
    "executionInfo": {
     "elapsed": 2589,
     "status": "ok",
     "timestamp": 1611095670552,
     "user": {
      "displayName": "Patience Stevens",
      "photoUrl": "https://lh3.googleusercontent.com/a-/AOh14Gi-_9ZqhIFhAv1oMehJNvNuIKSTyrFQHzjxQKhx=s64",
      "userId": "01994571539255174942"
     },
     "user_tz": 300
    },
    "outputId": "3ba25c34-0f8b-4a82-80bc-83a1d314711b"
   },
   "source": [
    "dat <- dat  %>%  \n",
    "    mutate(PetalType = ifelse(Petal.Length > mean(Petal.Length),\"long\",\"short\"))\n",
    "\n",
    "barplot(table(dat$PetalType),main=\"Number of flowers for each PetalType\")\n",
    "\n",
    "head(dat)\n"
   ],
   "execution_count": null,
   "outputs": [
    {
     "output_type": "display_data",
     "data": {
      "text/html": [
       "<table>\n",
       "<caption>A data.frame: 6 × 9</caption>\n",
       "<thead>\n",
       "\t<tr><th></th><th scope=col>Sepal.Length</th><th scope=col>Sepal.Width</th><th scope=col>Petal.Length</th><th scope=col>Petal.Width</th><th scope=col>Species</th><th scope=col>centered_SepLen</th><th scope=col>PetLen_zscores</th><th scope=col>n_flowers</th><th scope=col>PetalType</th></tr>\n",
       "\t<tr><th></th><th scope=col>&lt;dbl&gt;</th><th scope=col>&lt;dbl&gt;</th><th scope=col>&lt;dbl&gt;</th><th scope=col>&lt;dbl&gt;</th><th scope=col>&lt;fct&gt;</th><th scope=col>&lt;dbl&gt;</th><th scope=col>&lt;dbl&gt;</th><th scope=col>&lt;int&gt;</th><th scope=col>&lt;chr&gt;</th></tr>\n",
       "</thead>\n",
       "<tbody>\n",
       "\t<tr><th scope=row>1</th><td>5.1</td><td>3.5</td><td>1.4</td><td>0.2</td><td>setosa</td><td>-0.7433333</td><td>-1.335752</td><td>150</td><td>short</td></tr>\n",
       "\t<tr><th scope=row>2</th><td>4.9</td><td>3.0</td><td>1.4</td><td>0.2</td><td>setosa</td><td>-0.9433333</td><td>-1.335752</td><td>150</td><td>short</td></tr>\n",
       "\t<tr><th scope=row>3</th><td>4.7</td><td>3.2</td><td>1.3</td><td>0.2</td><td>setosa</td><td>-1.1433333</td><td>-1.392399</td><td>150</td><td>short</td></tr>\n",
       "\t<tr><th scope=row>4</th><td>4.6</td><td>3.1</td><td>1.5</td><td>0.2</td><td>setosa</td><td>-1.2433333</td><td>-1.279104</td><td>150</td><td>short</td></tr>\n",
       "\t<tr><th scope=row>5</th><td>5.0</td><td>3.6</td><td>1.4</td><td>0.2</td><td>setosa</td><td>-0.8433333</td><td>-1.335752</td><td>150</td><td>short</td></tr>\n",
       "\t<tr><th scope=row>6</th><td>5.4</td><td>3.9</td><td>1.7</td><td>0.4</td><td>setosa</td><td>-0.4433333</td><td>-1.165809</td><td>150</td><td>short</td></tr>\n",
       "</tbody>\n",
       "</table>\n"
      ],
      "text/latex": "A data.frame: 6 × 9\n\\begin{tabular}{r|lllllllll}\n  & Sepal.Length & Sepal.Width & Petal.Length & Petal.Width & Species & centered\\_SepLen & PetLen\\_zscores & n\\_flowers & PetalType\\\\\n  & <dbl> & <dbl> & <dbl> & <dbl> & <fct> & <dbl> & <dbl> & <int> & <chr>\\\\\n\\hline\n\t1 & 5.1 & 3.5 & 1.4 & 0.2 & setosa & -0.7433333 & -1.335752 & 150 & short\\\\\n\t2 & 4.9 & 3.0 & 1.4 & 0.2 & setosa & -0.9433333 & -1.335752 & 150 & short\\\\\n\t3 & 4.7 & 3.2 & 1.3 & 0.2 & setosa & -1.1433333 & -1.392399 & 150 & short\\\\\n\t4 & 4.6 & 3.1 & 1.5 & 0.2 & setosa & -1.2433333 & -1.279104 & 150 & short\\\\\n\t5 & 5.0 & 3.6 & 1.4 & 0.2 & setosa & -0.8433333 & -1.335752 & 150 & short\\\\\n\t6 & 5.4 & 3.9 & 1.7 & 0.4 & setosa & -0.4433333 & -1.165809 & 150 & short\\\\\n\\end{tabular}\n",
      "text/markdown": "\nA data.frame: 6 × 9\n\n| <!--/--> | Sepal.Length &lt;dbl&gt; | Sepal.Width &lt;dbl&gt; | Petal.Length &lt;dbl&gt; | Petal.Width &lt;dbl&gt; | Species &lt;fct&gt; | centered_SepLen &lt;dbl&gt; | PetLen_zscores &lt;dbl&gt; | n_flowers &lt;int&gt; | PetalType &lt;chr&gt; |\n|---|---|---|---|---|---|---|---|---|---|\n| 1 | 5.1 | 3.5 | 1.4 | 0.2 | setosa | -0.7433333 | -1.335752 | 150 | short |\n| 2 | 4.9 | 3.0 | 1.4 | 0.2 | setosa | -0.9433333 | -1.335752 | 150 | short |\n| 3 | 4.7 | 3.2 | 1.3 | 0.2 | setosa | -1.1433333 | -1.392399 | 150 | short |\n| 4 | 4.6 | 3.1 | 1.5 | 0.2 | setosa | -1.2433333 | -1.279104 | 150 | short |\n| 5 | 5.0 | 3.6 | 1.4 | 0.2 | setosa | -0.8433333 | -1.335752 | 150 | short |\n| 6 | 5.4 | 3.9 | 1.7 | 0.4 | setosa | -0.4433333 | -1.165809 | 150 | short |\n\n",
      "text/plain": [
       "  Sepal.Length Sepal.Width Petal.Length Petal.Width Species centered_SepLen\n",
       "1 5.1          3.5         1.4          0.2         setosa  -0.7433333     \n",
       "2 4.9          3.0         1.4          0.2         setosa  -0.9433333     \n",
       "3 4.7          3.2         1.3          0.2         setosa  -1.1433333     \n",
       "4 4.6          3.1         1.5          0.2         setosa  -1.2433333     \n",
       "5 5.0          3.6         1.4          0.2         setosa  -0.8433333     \n",
       "6 5.4          3.9         1.7          0.4         setosa  -0.4433333     \n",
       "  PetLen_zscores n_flowers PetalType\n",
       "1 -1.335752      150       short    \n",
       "2 -1.335752      150       short    \n",
       "3 -1.392399      150       short    \n",
       "4 -1.279104      150       short    \n",
       "5 -1.335752      150       short    \n",
       "6 -1.165809      150       short    "
      ]
     },
     "metadata": {
      "tags": []
     }
    },
    {
     "output_type": "display_data",
     "data": {
      "image/png": "[encoded data removed]",
      "text/plain": [
       "Plot with title “Number of flowers for each PetalType”"
      ]
     },
     "metadata": {
      "tags": [],
      "image/png": {
       "height": 420,
       "width": 420
      }
     }
    }
   ]
  },
  {
   "cell_type": "markdown",
   "metadata": {
    "id": "q5xy1F8u0ZAZ"
   },
   "source": [
    "Right now `Species` and `PetalType` are two different variables. Let's say for some reason you want a new variable that specifies both, e.g. 'short virginica', 'long setosa', etc. This is often useful when you are plotting and you want to use a color to denote each combination of two variables, instead of using a combination of colors and shapes. You can combine variables with the `unite()` command."
   ]
  },
  {
   "cell_type": "code",
   "metadata": {
    "colab": {
     "base_uri": "https://localhost:8080/",
     "height": 207
    },
    "id": "pZEnK09-0ZAa",
    "executionInfo": {
     "elapsed": 2573,
     "status": "ok",
     "timestamp": 1611095670553,
     "user": {
      "displayName": "Patience Stevens",
      "photoUrl": "https://lh3.googleusercontent.com/a-/AOh14Gi-_9ZqhIFhAv1oMehJNvNuIKSTyrFQHzjxQKhx=s64",
      "userId": "01994571539255174942"
     },
     "user_tz": 300
    },
    "outputId": "21bf1919-bd37-4aee-bde4-41c92ba5593b"
   },
   "source": [
    "dat <- dat %>% \n",
    "      unite(Combined_var, Species, PetalType, remove=FALSE)\n",
    "head(dat)"
   ],
   "execution_count": null,
   "outputs": [
    {
     "output_type": "display_data",
     "data": {
      "text/html": [
       "<table>\n",
       "<caption>A data.frame: 6 × 10</caption>\n",
       "<thead>\n",
       "\t<tr><th></th><th scope=col>Sepal.Length</th><th scope=col>Sepal.Width</th><th scope=col>Petal.Length</th><th scope=col>Petal.Width</th><th scope=col>Combined_var</th><th scope=col>Species</th><th scope=col>centered_SepLen</th><th scope=col>PetLen_zscores</th><th scope=col>n_flowers</th><th scope=col>PetalType</th></tr>\n",
       "\t<tr><th></th><th scope=col>&lt;dbl&gt;</th><th scope=col>&lt;dbl&gt;</th><th scope=col>&lt;dbl&gt;</th><th scope=col>&lt;dbl&gt;</th><th scope=col>&lt;chr&gt;</th><th scope=col>&lt;fct&gt;</th><th scope=col>&lt;dbl&gt;</th><th scope=col>&lt;dbl&gt;</th><th scope=col>&lt;int&gt;</th><th scope=col>&lt;chr&gt;</th></tr>\n",
       "</thead>\n",
       "<tbody>\n",
       "\t<tr><th scope=row>1</th><td>5.1</td><td>3.5</td><td>1.4</td><td>0.2</td><td>setosa_short</td><td>setosa</td><td>-0.7433333</td><td>-1.335752</td><td>150</td><td>short</td></tr>\n",
       "\t<tr><th scope=row>2</th><td>4.9</td><td>3.0</td><td>1.4</td><td>0.2</td><td>setosa_short</td><td>setosa</td><td>-0.9433333</td><td>-1.335752</td><td>150</td><td>short</td></tr>\n",
       "\t<tr><th scope=row>3</th><td>4.7</td><td>3.2</td><td>1.3</td><td>0.2</td><td>setosa_short</td><td>setosa</td><td>-1.1433333</td><td>-1.392399</td><td>150</td><td>short</td></tr>\n",
       "\t<tr><th scope=row>4</th><td>4.6</td><td>3.1</td><td>1.5</td><td>0.2</td><td>setosa_short</td><td>setosa</td><td>-1.2433333</td><td>-1.279104</td><td>150</td><td>short</td></tr>\n",
       "\t<tr><th scope=row>5</th><td>5.0</td><td>3.6</td><td>1.4</td><td>0.2</td><td>setosa_short</td><td>setosa</td><td>-0.8433333</td><td>-1.335752</td><td>150</td><td>short</td></tr>\n",
       "\t<tr><th scope=row>6</th><td>5.4</td><td>3.9</td><td>1.7</td><td>0.4</td><td>setosa_short</td><td>setosa</td><td>-0.4433333</td><td>-1.165809</td><td>150</td><td>short</td></tr>\n",
       "</tbody>\n",
       "</table>\n"
      ],
      "text/latex": "A data.frame: 6 × 10\n\\begin{tabular}{r|llllllllll}\n  & Sepal.Length & Sepal.Width & Petal.Length & Petal.Width & Combined\\_var & Species & centered\\_SepLen & PetLen\\_zscores & n\\_flowers & PetalType\\\\\n  & <dbl> & <dbl> & <dbl> & <dbl> & <chr> & <fct> & <dbl> & <dbl> & <int> & <chr>\\\\\n\\hline\n\t1 & 5.1 & 3.5 & 1.4 & 0.2 & setosa\\_short & setosa & -0.7433333 & -1.335752 & 150 & short\\\\\n\t2 & 4.9 & 3.0 & 1.4 & 0.2 & setosa\\_short & setosa & -0.9433333 & -1.335752 & 150 & short\\\\\n\t3 & 4.7 & 3.2 & 1.3 & 0.2 & setosa\\_short & setosa & -1.1433333 & -1.392399 & 150 & short\\\\\n\t4 & 4.6 & 3.1 & 1.5 & 0.2 & setosa\\_short & setosa & -1.2433333 & -1.279104 & 150 & short\\\\\n\t5 & 5.0 & 3.6 & 1.4 & 0.2 & setosa\\_short & setosa & -0.8433333 & -1.335752 & 150 & short\\\\\n\t6 & 5.4 & 3.9 & 1.7 & 0.4 & setosa\\_short & setosa & -0.4433333 & -1.165809 & 150 & short\\\\\n\\end{tabular}\n",
      "text/markdown": "\nA data.frame: 6 × 10\n\n| <!--/--> | Sepal.Length &lt;dbl&gt; | Sepal.Width &lt;dbl&gt; | Petal.Length &lt;dbl&gt; | Petal.Width &lt;dbl&gt; | Combined_var &lt;chr&gt; | Species &lt;fct&gt; | centered_SepLen &lt;dbl&gt; | PetLen_zscores &lt;dbl&gt; | n_flowers &lt;int&gt; | PetalType &lt;chr&gt; |\n|---|---|---|---|---|---|---|---|---|---|---|\n| 1 | 5.1 | 3.5 | 1.4 | 0.2 | setosa_short | setosa | -0.7433333 | -1.335752 | 150 | short |\n| 2 | 4.9 | 3.0 | 1.4 | 0.2 | setosa_short | setosa | -0.9433333 | -1.335752 | 150 | short |\n| 3 | 4.7 | 3.2 | 1.3 | 0.2 | setosa_short | setosa | -1.1433333 | -1.392399 | 150 | short |\n| 4 | 4.6 | 3.1 | 1.5 | 0.2 | setosa_short | setosa | -1.2433333 | -1.279104 | 150 | short |\n| 5 | 5.0 | 3.6 | 1.4 | 0.2 | setosa_short | setosa | -0.8433333 | -1.335752 | 150 | short |\n| 6 | 5.4 | 3.9 | 1.7 | 0.4 | setosa_short | setosa | -0.4433333 | -1.165809 | 150 | short |\n\n",
      "text/plain": [
       "  Sepal.Length Sepal.Width Petal.Length Petal.Width Combined_var Species\n",
       "1 5.1          3.5         1.4          0.2         setosa_short setosa \n",
       "2 4.9          3.0         1.4          0.2         setosa_short setosa \n",
       "3 4.7          3.2         1.3          0.2         setosa_short setosa \n",
       "4 4.6          3.1         1.5          0.2         setosa_short setosa \n",
       "5 5.0          3.6         1.4          0.2         setosa_short setosa \n",
       "6 5.4          3.9         1.7          0.4         setosa_short setosa \n",
       "  centered_SepLen PetLen_zscores n_flowers PetalType\n",
       "1 -0.7433333      -1.335752      150       short    \n",
       "2 -0.9433333      -1.335752      150       short    \n",
       "3 -1.1433333      -1.392399      150       short    \n",
       "4 -1.2433333      -1.279104      150       short    \n",
       "5 -0.8433333      -1.335752      150       short    \n",
       "6 -0.4433333      -1.165809      150       short    "
      ]
     },
     "metadata": {
      "tags": []
     }
    }
   ]
  },
  {
   "cell_type": "markdown",
   "metadata": {
    "id": "xS_M3Z2q0ZAa"
   },
   "source": [
    "With `mutate()`, you can also specify the separator (by default it is '\\_') and whether to remove the original variables. Check the help section for more on how to do this (`?unite`). Note that in the commented section of the cell above, I generated the new variable and the combined variable all at once. "
   ]
  },
  {
   "cell_type": "markdown",
   "metadata": {
    "id": "1A9LI6580ZAa"
   },
   "source": [
    "### 4.7 split variable into multiple variables - separate()"
   ]
  },
  {
   "cell_type": "markdown",
   "metadata": {
    "id": "-tl2-rOw0ZAa"
   },
   "source": [
    "The reverse of the operation above is called `separate()`. It becomes useful, for example, if you have the name of participants stored in one variable, but you want to separate it into First and Last name. For the illustration, I will just reverse the above example (adding 1 to the new variables, to distinguish them from the existing Species and PetalType variables):"
   ]
  },
  {
   "cell_type": "code",
   "metadata": {
    "colab": {
     "base_uri": "https://localhost:8080/",
     "height": 207
    },
    "id": "kM6DbKC50ZAa",
    "executionInfo": {
     "elapsed": 2558,
     "status": "ok",
     "timestamp": 1611095670554,
     "user": {
      "displayName": "Patience Stevens",
      "photoUrl": "https://lh3.googleusercontent.com/a-/AOh14Gi-_9ZqhIFhAv1oMehJNvNuIKSTyrFQHzjxQKhx=s64",
      "userId": "01994571539255174942"
     },
     "user_tz": 300
    },
    "outputId": "eec54e8d-c108-47d4-e6b2-d424e34d749a"
   },
   "source": [
    "dat <- dat  %>% \n",
    "    separate(Combined_var, into=c('Species1', 'PetalType1')) #separate the combined variable into the two original variables. \n",
    "head(dat)"
   ],
   "execution_count": null,
   "outputs": [
    {
     "output_type": "display_data",
     "data": {
      "text/html": [
       "<table>\n",
       "<caption>A data.frame: 6 × 11</caption>\n",
       "<thead>\n",
       "\t<tr><th></th><th scope=col>Sepal.Length</th><th scope=col>Sepal.Width</th><th scope=col>Petal.Length</th><th scope=col>Petal.Width</th><th scope=col>Species1</th><th scope=col>PetalType1</th><th scope=col>Species</th><th scope=col>centered_SepLen</th><th scope=col>PetLen_zscores</th><th scope=col>n_flowers</th><th scope=col>PetalType</th></tr>\n",
       "\t<tr><th></th><th scope=col>&lt;dbl&gt;</th><th scope=col>&lt;dbl&gt;</th><th scope=col>&lt;dbl&gt;</th><th scope=col>&lt;dbl&gt;</th><th scope=col>&lt;chr&gt;</th><th scope=col>&lt;chr&gt;</th><th scope=col>&lt;fct&gt;</th><th scope=col>&lt;dbl&gt;</th><th scope=col>&lt;dbl&gt;</th><th scope=col>&lt;int&gt;</th><th scope=col>&lt;chr&gt;</th></tr>\n",
       "</thead>\n",
       "<tbody>\n",
       "\t<tr><th scope=row>1</th><td>5.1</td><td>3.5</td><td>1.4</td><td>0.2</td><td>setosa</td><td>short</td><td>setosa</td><td>-0.7433333</td><td>-1.335752</td><td>150</td><td>short</td></tr>\n",
       "\t<tr><th scope=row>2</th><td>4.9</td><td>3.0</td><td>1.4</td><td>0.2</td><td>setosa</td><td>short</td><td>setosa</td><td>-0.9433333</td><td>-1.335752</td><td>150</td><td>short</td></tr>\n",
       "\t<tr><th scope=row>3</th><td>4.7</td><td>3.2</td><td>1.3</td><td>0.2</td><td>setosa</td><td>short</td><td>setosa</td><td>-1.1433333</td><td>-1.392399</td><td>150</td><td>short</td></tr>\n",
       "\t<tr><th scope=row>4</th><td>4.6</td><td>3.1</td><td>1.5</td><td>0.2</td><td>setosa</td><td>short</td><td>setosa</td><td>-1.2433333</td><td>-1.279104</td><td>150</td><td>short</td></tr>\n",
       "\t<tr><th scope=row>5</th><td>5.0</td><td>3.6</td><td>1.4</td><td>0.2</td><td>setosa</td><td>short</td><td>setosa</td><td>-0.8433333</td><td>-1.335752</td><td>150</td><td>short</td></tr>\n",
       "\t<tr><th scope=row>6</th><td>5.4</td><td>3.9</td><td>1.7</td><td>0.4</td><td>setosa</td><td>short</td><td>setosa</td><td>-0.4433333</td><td>-1.165809</td><td>150</td><td>short</td></tr>\n",
       "</tbody>\n",
       "</table>\n"
      ],
      "text/latex": "A data.frame: 6 × 11\n\\begin{tabular}{r|lllllllllll}\n  & Sepal.Length & Sepal.Width & Petal.Length & Petal.Width & Species1 & PetalType1 & Species & centered\\_SepLen & PetLen\\_zscores & n\\_flowers & PetalType\\\\\n  & <dbl> & <dbl> & <dbl> & <dbl> & <chr> & <chr> & <fct> & <dbl> & <dbl> & <int> & <chr>\\\\\n\\hline\n\t1 & 5.1 & 3.5 & 1.4 & 0.2 & setosa & short & setosa & -0.7433333 & -1.335752 & 150 & short\\\\\n\t2 & 4.9 & 3.0 & 1.4 & 0.2 & setosa & short & setosa & -0.9433333 & -1.335752 & 150 & short\\\\\n\t3 & 4.7 & 3.2 & 1.3 & 0.2 & setosa & short & setosa & -1.1433333 & -1.392399 & 150 & short\\\\\n\t4 & 4.6 & 3.1 & 1.5 & 0.2 & setosa & short & setosa & -1.2433333 & -1.279104 & 150 & short\\\\\n\t5 & 5.0 & 3.6 & 1.4 & 0.2 & setosa & short & setosa & -0.8433333 & -1.335752 & 150 & short\\\\\n\t6 & 5.4 & 3.9 & 1.7 & 0.4 & setosa & short & setosa & -0.4433333 & -1.165809 & 150 & short\\\\\n\\end{tabular}\n",
      "text/markdown": "\nA data.frame: 6 × 11\n\n| <!--/--> | Sepal.Length &lt;dbl&gt; | Sepal.Width &lt;dbl&gt; | Petal.Length &lt;dbl&gt; | Petal.Width &lt;dbl&gt; | Species1 &lt;chr&gt; | PetalType1 &lt;chr&gt; | Species &lt;fct&gt; | centered_SepLen &lt;dbl&gt; | PetLen_zscores &lt;dbl&gt; | n_flowers &lt;int&gt; | PetalType &lt;chr&gt; |\n|---|---|---|---|---|---|---|---|---|---|---|---|\n| 1 | 5.1 | 3.5 | 1.4 | 0.2 | setosa | short | setosa | -0.7433333 | -1.335752 | 150 | short |\n| 2 | 4.9 | 3.0 | 1.4 | 0.2 | setosa | short | setosa | -0.9433333 | -1.335752 | 150 | short |\n| 3 | 4.7 | 3.2 | 1.3 | 0.2 | setosa | short | setosa | -1.1433333 | -1.392399 | 150 | short |\n| 4 | 4.6 | 3.1 | 1.5 | 0.2 | setosa | short | setosa | -1.2433333 | -1.279104 | 150 | short |\n| 5 | 5.0 | 3.6 | 1.4 | 0.2 | setosa | short | setosa | -0.8433333 | -1.335752 | 150 | short |\n| 6 | 5.4 | 3.9 | 1.7 | 0.4 | setosa | short | setosa | -0.4433333 | -1.165809 | 150 | short |\n\n",
      "text/plain": [
       "  Sepal.Length Sepal.Width Petal.Length Petal.Width Species1 PetalType1 Species\n",
       "1 5.1          3.5         1.4          0.2         setosa   short      setosa \n",
       "2 4.9          3.0         1.4          0.2         setosa   short      setosa \n",
       "3 4.7          3.2         1.3          0.2         setosa   short      setosa \n",
       "4 4.6          3.1         1.5          0.2         setosa   short      setosa \n",
       "5 5.0          3.6         1.4          0.2         setosa   short      setosa \n",
       "6 5.4          3.9         1.7          0.4         setosa   short      setosa \n",
       "  centered_SepLen PetLen_zscores n_flowers PetalType\n",
       "1 -0.7433333      -1.335752      150       short    \n",
       "2 -0.9433333      -1.335752      150       short    \n",
       "3 -1.1433333      -1.392399      150       short    \n",
       "4 -1.2433333      -1.279104      150       short    \n",
       "5 -0.8433333      -1.335752      150       short    \n",
       "6 -0.4433333      -1.165809      150       short    "
      ]
     },
     "metadata": {
      "tags": []
     }
    }
   ]
  },
  {
   "cell_type": "markdown",
   "metadata": {
    "id": "0qnJTfjleG2v"
   },
   "source": [
    "Like with `unite()`, you can specify the character you want `separate()` to split. For example, splitting at \" \" instead of at the default \"_\" for the First, Last name example. See `?separate` for more info."
   ]
  },
  {
   "cell_type": "markdown",
   "metadata": {
    "id": "TKlDT_I-0ZAa"
   },
   "source": [
    "## 5. Performing the same operation for multiple groups and combining the results"
   ]
  },
  {
   "cell_type": "markdown",
   "metadata": {
    "id": "6WFQokKg0ZAa"
   },
   "source": [
    "In the filtering example in section 4.3, we saw how to subset the data.frame separately for different species, and then to calculate the summaries. This is inefficient and also creates two separate data.frames. While you can join them manually afterwards, there is a much easier way with the **`group_by`** command.\n",
    "\n",
    "When you pass a data.frame to a **group_by** command, you can specify names of variables, by which to split the data.frame. For example, if we specify the `Species` and `PetalType` variables in the group_by command, the data.frame will be **_implicitly_** split into 4 data.frames - one for each combination of species and petal type (note that there are only 2 species for `cleaned_dat` now because we got rid of the \"setosa\" species in section 4.3). E.g.:"
   ]
  },
  {
   "cell_type": "code",
   "metadata": {
    "colab": {
     "base_uri": "https://localhost:8080/"
    },
    "id": "E6KlSAS90ZAb",
    "executionInfo": {
     "elapsed": 2544,
     "status": "ok",
     "timestamp": 1611095670555,
     "user": {
      "displayName": "Patience Stevens",
      "photoUrl": "https://lh3.googleusercontent.com/a-/AOh14Gi-_9ZqhIFhAv1oMehJNvNuIKSTyrFQHzjxQKhx=s64",
      "userId": "01994571539255174942"
     },
     "user_tz": 300
    },
    "outputId": "767de59d-39ff-48b5-dd28-e0569d4338f7"
   },
   "source": [
    "cleaned_dat <- cleaned_dat  %>%  \n",
    "    mutate(PetalType = ifelse(Petal.Length > mean(Petal.Length),\"long\",\"short\")) # this creates the PetalType variable for cleaned_dat\n",
    "\n",
    "cleaned_dat %>% \n",
    "    group_by(Species, PetalType)  %>% # group them by the\n",
    "    print()"
   ],
   "execution_count": null,
   "outputs": [
    {
     "output_type": "stream",
     "text": [
      "\u001B[90m# A tibble: 100 x 9\u001B[39m\n",
      "\u001B[90m# Groups:   Species, PetalType [4]\u001B[39m\n",
      "   Sepal.Length Sepal.Width Petal.Length Petal.Width Species centered_SepLen\n",
      "          \u001B[3m\u001B[90m<dbl>\u001B[39m\u001B[23m       \u001B[3m\u001B[90m<dbl>\u001B[39m\u001B[23m        \u001B[3m\u001B[90m<dbl>\u001B[39m\u001B[23m       \u001B[3m\u001B[90m<dbl>\u001B[39m\u001B[23m \u001B[3m\u001B[90m<fct>\u001B[39m\u001B[23m             \u001B[3m\u001B[90m<dbl>\u001B[39m\u001B[23m\n",
      "\u001B[90m 1\u001B[39m          7           3.2          4.7         1.4 versic…           1.16 \n",
      "\u001B[90m 2\u001B[39m          6.4         3.2          4.5         1.5 versic…           0.557\n",
      "\u001B[90m 3\u001B[39m          6.9         3.1          4.9         1.5 versic…           1.06 \n",
      "\u001B[90m 4\u001B[39m          5.5         2.3          4           1.3 versic…          -\u001B[31m0\u001B[39m\u001B[31m.\u001B[39m\u001B[31m343\u001B[39m\n",
      "\u001B[90m 5\u001B[39m          6.5         2.8          4.6         1.5 versic…           0.657\n",
      "\u001B[90m 6\u001B[39m          5.7         2.8          4.5         1.3 versic…          -\u001B[31m0\u001B[39m\u001B[31m.\u001B[39m\u001B[31m143\u001B[39m\n",
      "\u001B[90m 7\u001B[39m          6.3         3.3          4.7         1.6 versic…           0.457\n",
      "\u001B[90m 8\u001B[39m          4.9         2.4          3.3         1   versic…          -\u001B[31m0\u001B[39m\u001B[31m.\u001B[39m\u001B[31m943\u001B[39m\n",
      "\u001B[90m 9\u001B[39m          6.6         2.9          4.6         1.3 versic…           0.757\n",
      "\u001B[90m10\u001B[39m          5.2         2.7          3.9         1.4 versic…          -\u001B[31m0\u001B[39m\u001B[31m.\u001B[39m\u001B[31m643\u001B[39m\n",
      "\u001B[90m# … with 90 more rows, and 3 more variables: PetLen_zscores \u001B[3m\u001B[90m<dbl>\u001B[90m\u001B[23m,\u001B[39m\n",
      "\u001B[90m#   n_flowers \u001B[3m\u001B[90m<int>\u001B[90m\u001B[23m, PetalType \u001B[3m\u001B[90m<chr>\u001B[90m\u001B[23m\u001B[39m\n"
     ],
     "name": "stdout"
    }
   ]
  },
  {
   "cell_type": "markdown",
   "metadata": {
    "id": "DcONDAd00ZAb"
   },
   "source": [
    "Now, the key is that the split is implicit - as you can see above, we still only have one data.frame, but now it has the specification:\n",
    "\n",
    "`# Groups:   Species, PetalType [4]`\n",
    "\n",
    "Every function that you add after `group_by()`, will be evaluated separately for each group, and then the results will be combined. Let's say you want to calculate the mean and sd for `Sepal.Length` and `Sepal.Width` separately for the four groups:"
   ]
  },
  {
   "cell_type": "code",
   "metadata": {
    "colab": {
     "base_uri": "https://localhost:8080/",
     "height": 199
    },
    "id": "_UxGcbX80ZAb",
    "executionInfo": {
     "elapsed": 2530,
     "status": "ok",
     "timestamp": 1611095670557,
     "user": {
      "displayName": "Patience Stevens",
      "photoUrl": "https://lh3.googleusercontent.com/a-/AOh14Gi-_9ZqhIFhAv1oMehJNvNuIKSTyrFQHzjxQKhx=s64",
      "userId": "01994571539255174942"
     },
     "user_tz": 300
    },
    "outputId": "cc9a7607-fd6a-441f-c16e-7a2973626fdb"
   },
   "source": [
    "cleaned_dat  %>% \n",
    "    group_by(Species, PetalType)  %>% \n",
    "    summarise(SepLen_mean = mean(Sepal.Length),\n",
    "              SepLen_sd = sd(Sepal.Length),\n",
    "              SepWid_mean = mean(Sepal.Width),\n",
    "              SepWid_sd = sd(Sepal.Length))"
   ],
   "execution_count": null,
   "outputs": [
    {
     "output_type": "stream",
     "text": [
      "`summarise()` regrouping output by 'Species' (override with `.groups` argument)\n",
      "\n"
     ],
     "name": "stderr"
    },
    {
     "output_type": "display_data",
     "data": {
      "text/html": [
       "<table>\n",
       "<caption>A grouped_df: 4 × 6</caption>\n",
       "<thead>\n",
       "\t<tr><th scope=col>Species</th><th scope=col>PetalType</th><th scope=col>SepLen_mean</th><th scope=col>SepLen_sd</th><th scope=col>SepWid_mean</th><th scope=col>SepWid_sd</th></tr>\n",
       "\t<tr><th scope=col>&lt;fct&gt;</th><th scope=col>&lt;chr&gt;</th><th scope=col>&lt;dbl&gt;</th><th scope=col>&lt;dbl&gt;</th><th scope=col>&lt;dbl&gt;</th><th scope=col>&lt;dbl&gt;</th></tr>\n",
       "</thead>\n",
       "<tbody>\n",
       "\t<tr><td>versicolor</td><td>long </td><td>6.350000</td><td>0.4949747</td><td>2.850000</td><td>0.4949747</td></tr>\n",
       "\t<tr><td>versicolor</td><td>short</td><td>5.918750</td><td>0.5147428</td><td>2.766667</td><td>0.5147428</td></tr>\n",
       "\t<tr><td>virginica </td><td>long </td><td>6.688636</td><td>0.5851718</td><td>2.997727</td><td>0.5851718</td></tr>\n",
       "\t<tr><td>virginica </td><td>short</td><td>5.850000</td><td>0.5244044</td><td>2.800000</td><td>0.5244044</td></tr>\n",
       "</tbody>\n",
       "</table>\n"
      ],
      "text/latex": "A grouped\\_df: 4 × 6\n\\begin{tabular}{llllll}\n Species & PetalType & SepLen\\_mean & SepLen\\_sd & SepWid\\_mean & SepWid\\_sd\\\\\n <fct> & <chr> & <dbl> & <dbl> & <dbl> & <dbl>\\\\\n\\hline\n\t versicolor & long  & 6.350000 & 0.4949747 & 2.850000 & 0.4949747\\\\\n\t versicolor & short & 5.918750 & 0.5147428 & 2.766667 & 0.5147428\\\\\n\t virginica  & long  & 6.688636 & 0.5851718 & 2.997727 & 0.5851718\\\\\n\t virginica  & short & 5.850000 & 0.5244044 & 2.800000 & 0.5244044\\\\\n\\end{tabular}\n",
      "text/markdown": "\nA grouped_df: 4 × 6\n\n| Species &lt;fct&gt; | PetalType &lt;chr&gt; | SepLen_mean &lt;dbl&gt; | SepLen_sd &lt;dbl&gt; | SepWid_mean &lt;dbl&gt; | SepWid_sd &lt;dbl&gt; |\n|---|---|---|---|---|---|\n| versicolor | long  | 6.350000 | 0.4949747 | 2.850000 | 0.4949747 |\n| versicolor | short | 5.918750 | 0.5147428 | 2.766667 | 0.5147428 |\n| virginica  | long  | 6.688636 | 0.5851718 | 2.997727 | 0.5851718 |\n| virginica  | short | 5.850000 | 0.5244044 | 2.800000 | 0.5244044 |\n\n",
      "text/plain": [
       "  Species    PetalType SepLen_mean SepLen_sd SepWid_mean SepWid_sd\n",
       "1 versicolor long      6.350000    0.4949747 2.850000    0.4949747\n",
       "2 versicolor short     5.918750    0.5147428 2.766667    0.5147428\n",
       "3 virginica  long      6.688636    0.5851718 2.997727    0.5851718\n",
       "4 virginica  short     5.850000    0.5244044 2.800000    0.5244044"
      ]
     },
     "metadata": {
      "tags": []
     }
    }
   ]
  },
  {
   "cell_type": "markdown",
   "metadata": {
    "id": "P2EDfqdQ0ZAb"
   },
   "source": [
    "And that's all the code you need. If you have tried to do something like this in base R (i.e., without `dplyr` commands), you know how involved it is! `dplyr` can make your code **much** cleaner. What is going on behind the scenes is that the data.frame is separated into multiple data.frames, one for each combination of variables. Then the `summarise` function is executed on each, and the resulting 4 data.frames are automatically combined into a new resulting data.frame.\n",
    "\n",
    "The `group_by` command works not only with `summarise`, but also with `mutate`. While with `summarise` it creates a new data.frame with summary results, with `mutate` it creates a new variable that is calculated separately for each group, and then combined into the final data.frame. This is useful, when, for example, we want to standardize variables within groups. Earlier we saw how to remove the overall mean of `Sepal.Length`. Let's say that we want to remove the mean `Sepal.Length` of each species from only from the flowers in that species. So, for our example we can do:"
   ]
  },
  {
   "cell_type": "code",
   "metadata": {
    "colab": {
     "base_uri": "https://localhost:8080/",
     "height": 207
    },
    "id": "5tlnhAp30ZAc",
    "executionInfo": {
     "elapsed": 2736,
     "status": "ok",
     "timestamp": 1611095670778,
     "user": {
      "displayName": "Patience Stevens",
      "photoUrl": "https://lh3.googleusercontent.com/a-/AOh14Gi-_9ZqhIFhAv1oMehJNvNuIKSTyrFQHzjxQKhx=s64",
      "userId": "01994571539255174942"
     },
     "user_tz": 300
    },
    "outputId": "80e278a1-e092-4fc5-f657-fcd6bda08d4f"
   },
   "source": [
    "dat  %>% \n",
    " mutate(SepLen_centered_overall = Sepal.Length - mean(Sepal.Length))  %>% #center values by mean for all data\n",
    " group_by(Species)  %>% \n",
    " mutate(SepLen_centered_byspecies = Sepal.Length - mean(Sepal.Length))  %>% #center values by mean for each species\n",
    " # select(SepLen_centered_overall:SepLen_centered_byspecies) %>% # just show the relevant variables (there are a lot of variables in this data.frame now!)\n",
    " head()"
   ],
   "execution_count": null,
   "outputs": [
    {
     "output_type": "display_data",
     "data": {
      "text/html": [
       "<table>\n",
       "<caption>A grouped_df: 6 × 13</caption>\n",
       "<thead>\n",
       "\t<tr><th scope=col>Sepal.Length</th><th scope=col>Sepal.Width</th><th scope=col>Petal.Length</th><th scope=col>Petal.Width</th><th scope=col>Species1</th><th scope=col>PetalType1</th><th scope=col>Species</th><th scope=col>centered_SepLen</th><th scope=col>PetLen_zscores</th><th scope=col>n_flowers</th><th scope=col>PetalType</th><th scope=col>SepLen_centered_overall</th><th scope=col>SepLen_centered_byspecies</th></tr>\n",
       "\t<tr><th scope=col>&lt;dbl&gt;</th><th scope=col>&lt;dbl&gt;</th><th scope=col>&lt;dbl&gt;</th><th scope=col>&lt;dbl&gt;</th><th scope=col>&lt;chr&gt;</th><th scope=col>&lt;chr&gt;</th><th scope=col>&lt;fct&gt;</th><th scope=col>&lt;dbl&gt;</th><th scope=col>&lt;dbl&gt;</th><th scope=col>&lt;int&gt;</th><th scope=col>&lt;chr&gt;</th><th scope=col>&lt;dbl&gt;</th><th scope=col>&lt;dbl&gt;</th></tr>\n",
       "</thead>\n",
       "<tbody>\n",
       "\t<tr><td>5.1</td><td>3.5</td><td>1.4</td><td>0.2</td><td>setosa</td><td>short</td><td>setosa</td><td>-0.7433333</td><td>-1.335752</td><td>150</td><td>short</td><td>-0.7433333</td><td> 0.094</td></tr>\n",
       "\t<tr><td>4.9</td><td>3.0</td><td>1.4</td><td>0.2</td><td>setosa</td><td>short</td><td>setosa</td><td>-0.9433333</td><td>-1.335752</td><td>150</td><td>short</td><td>-0.9433333</td><td>-0.106</td></tr>\n",
       "\t<tr><td>4.7</td><td>3.2</td><td>1.3</td><td>0.2</td><td>setosa</td><td>short</td><td>setosa</td><td>-1.1433333</td><td>-1.392399</td><td>150</td><td>short</td><td>-1.1433333</td><td>-0.306</td></tr>\n",
       "\t<tr><td>4.6</td><td>3.1</td><td>1.5</td><td>0.2</td><td>setosa</td><td>short</td><td>setosa</td><td>-1.2433333</td><td>-1.279104</td><td>150</td><td>short</td><td>-1.2433333</td><td>-0.406</td></tr>\n",
       "\t<tr><td>5.0</td><td>3.6</td><td>1.4</td><td>0.2</td><td>setosa</td><td>short</td><td>setosa</td><td>-0.8433333</td><td>-1.335752</td><td>150</td><td>short</td><td>-0.8433333</td><td>-0.006</td></tr>\n",
       "\t<tr><td>5.4</td><td>3.9</td><td>1.7</td><td>0.4</td><td>setosa</td><td>short</td><td>setosa</td><td>-0.4433333</td><td>-1.165809</td><td>150</td><td>short</td><td>-0.4433333</td><td> 0.394</td></tr>\n",
       "</tbody>\n",
       "</table>\n"
      ],
      "text/latex": "A grouped\\_df: 6 × 13\n\\begin{tabular}{lllllllllllll}\n Sepal.Length & Sepal.Width & Petal.Length & Petal.Width & Species1 & PetalType1 & Species & centered\\_SepLen & PetLen\\_zscores & n\\_flowers & PetalType & SepLen\\_centered\\_overall & SepLen\\_centered\\_byspecies\\\\\n <dbl> & <dbl> & <dbl> & <dbl> & <chr> & <chr> & <fct> & <dbl> & <dbl> & <int> & <chr> & <dbl> & <dbl>\\\\\n\\hline\n\t 5.1 & 3.5 & 1.4 & 0.2 & setosa & short & setosa & -0.7433333 & -1.335752 & 150 & short & -0.7433333 &  0.094\\\\\n\t 4.9 & 3.0 & 1.4 & 0.2 & setosa & short & setosa & -0.9433333 & -1.335752 & 150 & short & -0.9433333 & -0.106\\\\\n\t 4.7 & 3.2 & 1.3 & 0.2 & setosa & short & setosa & -1.1433333 & -1.392399 & 150 & short & -1.1433333 & -0.306\\\\\n\t 4.6 & 3.1 & 1.5 & 0.2 & setosa & short & setosa & -1.2433333 & -1.279104 & 150 & short & -1.2433333 & -0.406\\\\\n\t 5.0 & 3.6 & 1.4 & 0.2 & setosa & short & setosa & -0.8433333 & -1.335752 & 150 & short & -0.8433333 & -0.006\\\\\n\t 5.4 & 3.9 & 1.7 & 0.4 & setosa & short & setosa & -0.4433333 & -1.165809 & 150 & short & -0.4433333 &  0.394\\\\\n\\end{tabular}\n",
      "text/markdown": "\nA grouped_df: 6 × 13\n\n| Sepal.Length &lt;dbl&gt; | Sepal.Width &lt;dbl&gt; | Petal.Length &lt;dbl&gt; | Petal.Width &lt;dbl&gt; | Species1 &lt;chr&gt; | PetalType1 &lt;chr&gt; | Species &lt;fct&gt; | centered_SepLen &lt;dbl&gt; | PetLen_zscores &lt;dbl&gt; | n_flowers &lt;int&gt; | PetalType &lt;chr&gt; | SepLen_centered_overall &lt;dbl&gt; | SepLen_centered_byspecies &lt;dbl&gt; |\n|---|---|---|---|---|---|---|---|---|---|---|---|---|\n| 5.1 | 3.5 | 1.4 | 0.2 | setosa | short | setosa | -0.7433333 | -1.335752 | 150 | short | -0.7433333 |  0.094 |\n| 4.9 | 3.0 | 1.4 | 0.2 | setosa | short | setosa | -0.9433333 | -1.335752 | 150 | short | -0.9433333 | -0.106 |\n| 4.7 | 3.2 | 1.3 | 0.2 | setosa | short | setosa | -1.1433333 | -1.392399 | 150 | short | -1.1433333 | -0.306 |\n| 4.6 | 3.1 | 1.5 | 0.2 | setosa | short | setosa | -1.2433333 | -1.279104 | 150 | short | -1.2433333 | -0.406 |\n| 5.0 | 3.6 | 1.4 | 0.2 | setosa | short | setosa | -0.8433333 | -1.335752 | 150 | short | -0.8433333 | -0.006 |\n| 5.4 | 3.9 | 1.7 | 0.4 | setosa | short | setosa | -0.4433333 | -1.165809 | 150 | short | -0.4433333 |  0.394 |\n\n",
      "text/plain": [
       "  Sepal.Length Sepal.Width Petal.Length Petal.Width Species1 PetalType1 Species\n",
       "1 5.1          3.5         1.4          0.2         setosa   short      setosa \n",
       "2 4.9          3.0         1.4          0.2         setosa   short      setosa \n",
       "3 4.7          3.2         1.3          0.2         setosa   short      setosa \n",
       "4 4.6          3.1         1.5          0.2         setosa   short      setosa \n",
       "5 5.0          3.6         1.4          0.2         setosa   short      setosa \n",
       "6 5.4          3.9         1.7          0.4         setosa   short      setosa \n",
       "  centered_SepLen PetLen_zscores n_flowers PetalType SepLen_centered_overall\n",
       "1 -0.7433333      -1.335752      150       short     -0.7433333             \n",
       "2 -0.9433333      -1.335752      150       short     -0.9433333             \n",
       "3 -1.1433333      -1.392399      150       short     -1.1433333             \n",
       "4 -1.2433333      -1.279104      150       short     -1.2433333             \n",
       "5 -0.8433333      -1.335752      150       short     -0.8433333             \n",
       "6 -0.4433333      -1.165809      150       short     -0.4433333             \n",
       "  SepLen_centered_byspecies\n",
       "1  0.094                   \n",
       "2 -0.106                   \n",
       "3 -0.306                   \n",
       "4 -0.406                   \n",
       "5 -0.006                   \n",
       "6  0.394                   "
      ]
     },
     "metadata": {
      "tags": []
     }
    }
   ]
  },
  {
   "cell_type": "markdown",
   "metadata": {
    "id": "zIrqCevU0ZAc"
   },
   "source": [
    "The second line above gives us the sepal lengths centered over the whole sample, while the 4th line, even though it looks the same, gives us the sepal lengths centered separately for each species. To illustrate, I will plot the means for each species under the two centerings (don't worry about the code if you don't know `ggplot2` yet):"
   ]
  },
  {
   "cell_type": "code",
   "metadata": {
    "colab": {
     "base_uri": "https://localhost:8080/",
     "height": 437
    },
    "id": "c0HLucst0ZAc",
    "executionInfo": {
     "elapsed": 579,
     "status": "ok",
     "timestamp": 1611095726181,
     "user": {
      "displayName": "Patience Stevens",
      "photoUrl": "https://lh3.googleusercontent.com/a-/AOh14Gi-_9ZqhIFhAv1oMehJNvNuIKSTyrFQHzjxQKhx=s64",
      "userId": "01994571539255174942"
     },
     "user_tz": 300
    },
    "outputId": "7c332eac-0011-4ec9-9ea3-44e6d756205a"
   },
   "source": [
    "dat  %>% \n",
    " mutate(SepLen_centered_overall = Sepal.Length - mean(Sepal.Length))  %>% #center values by mean for all data\n",
    " group_by(Species)  %>% \n",
    " mutate(SepLen_centered_byspecies = Sepal.Length - mean(Sepal.Length))  %>% \n",
    " gather(key = centering_type, value = SepLen_centered, SepLen_centered_overall, SepLen_centered_byspecies)  %>% \n",
    " ggplot(aes(Species, SepLen_centered, color=centering_type)) +\n",
    "    stat_summary(geom='point',fun=mean) +\n",
    "    theme_classic()"
   ],
   "execution_count": null,
   "outputs": [
    {
     "output_type": "display_data",
     "data": {
      "image/png": "[encoded data removed]",
      "text/plain": [
       "plot without title"
      ]
     },
     "metadata": {
      "tags": [],
      "image/png": {
       "height": 420,
       "width": 420
      }
     }
    }
   ]
  },
  {
   "cell_type": "markdown",
   "metadata": {
    "id": "NB9JgDMR0ZAc"
   },
   "source": [
    "This plot makes sense, because if you're calculating `SepLen_centering_byspecies` by subtracting the species mean from each `Sepal.Length` value, the mean of the new values should be 0 for every species. Meanwhile, the `SepLen_centering_overall` values were calculated by subtracting the same amount from all `Sepal.Length` values, regardless of species, so we still see variation for these means across species.\n",
    "\n",
    "There are a lot of other handy uses for `group_by`, which will be covered in future tutorials. "
   ]
  },
  {
   "cell_type": "markdown",
   "metadata": {
    "id": "Nzshj3o60ZAc"
   },
   "source": [
    "## 6. Restructuring data.frames - long to wide, wide to long, and merging data.frames."
   ]
  },
  {
   "cell_type": "markdown",
   "metadata": {
    "id": "7KCb-yDtnyUJ"
   },
   "source": [
    "Remember how in section 2 we talked about how it's better to have a single observation in each row, instead of multiple observations per row? In this section we'll use the `dplyr` functions `gather` and `spread` to switch between short and long forms of the data. We'll also try out combining data.frames using `join`. \n",
    "\n",
    "The `iris` data set has multiple measurements per row, so it is currently in the \"wide\" format. To put it in long format, we can make each row only have one measurement, and then variables that specify whether that measurment is for \"sepal\" or \"petal\", \"length\" or \"width\". "
   ]
  },
  {
   "cell_type": "code",
   "metadata": {
    "colab": {
     "base_uri": "https://localhost:8080/",
     "height": 207
    },
    "id": "aRWGmwp9rkgI",
    "executionInfo": {
     "elapsed": 285,
     "status": "ok",
     "timestamp": 1611099739020,
     "user": {
      "displayName": "Patience Stevens",
      "photoUrl": "https://lh3.googleusercontent.com/a-/AOh14Gi-_9ZqhIFhAv1oMehJNvNuIKSTyrFQHzjxQKhx=s64",
      "userId": "01994571539255174942"
     },
     "user_tz": 300
    },
    "outputId": "843ab4f4-b87c-4ae8-ea44-6d38c4cd3b48"
   },
   "source": [
    "newdat <- iris # new duplicate of iris dataset so we don't have to deal with all the messy variables we created.\n",
    "newdat$flower.num <- 1:nrow(newdat) # like a participant ID, so we can put these back where they came from using \"spread.\"\n",
    "newdat <- newdat %>%\n",
    "      gather(key=\"flower_att\",value=\"measurement\",\n",
    "      Sepal.Length, Sepal.Width, Petal.Length, Petal.Width)\n",
    "head(newdat)\n",
    "\n",
    "\n"
   ],
   "execution_count": null,
   "outputs": [
    {
     "output_type": "display_data",
     "data": {
      "text/html": [
       "<table>\n",
       "<caption>A data.frame: 6 × 4</caption>\n",
       "<thead>\n",
       "\t<tr><th></th><th scope=col>Species</th><th scope=col>flower.num</th><th scope=col>flower_att</th><th scope=col>measurement</th></tr>\n",
       "\t<tr><th></th><th scope=col>&lt;fct&gt;</th><th scope=col>&lt;int&gt;</th><th scope=col>&lt;chr&gt;</th><th scope=col>&lt;dbl&gt;</th></tr>\n",
       "</thead>\n",
       "<tbody>\n",
       "\t<tr><th scope=row>1</th><td>setosa</td><td>1</td><td>Sepal.Length</td><td>5.1</td></tr>\n",
       "\t<tr><th scope=row>2</th><td>setosa</td><td>2</td><td>Sepal.Length</td><td>4.9</td></tr>\n",
       "\t<tr><th scope=row>3</th><td>setosa</td><td>3</td><td>Sepal.Length</td><td>4.7</td></tr>\n",
       "\t<tr><th scope=row>4</th><td>setosa</td><td>4</td><td>Sepal.Length</td><td>4.6</td></tr>\n",
       "\t<tr><th scope=row>5</th><td>setosa</td><td>5</td><td>Sepal.Length</td><td>5.0</td></tr>\n",
       "\t<tr><th scope=row>6</th><td>setosa</td><td>6</td><td>Sepal.Length</td><td>5.4</td></tr>\n",
       "</tbody>\n",
       "</table>\n"
      ],
      "text/latex": "A data.frame: 6 × 4\n\\begin{tabular}{r|llll}\n  & Species & flower.num & flower\\_att & measurement\\\\\n  & <fct> & <int> & <chr> & <dbl>\\\\\n\\hline\n\t1 & setosa & 1 & Sepal.Length & 5.1\\\\\n\t2 & setosa & 2 & Sepal.Length & 4.9\\\\\n\t3 & setosa & 3 & Sepal.Length & 4.7\\\\\n\t4 & setosa & 4 & Sepal.Length & 4.6\\\\\n\t5 & setosa & 5 & Sepal.Length & 5.0\\\\\n\t6 & setosa & 6 & Sepal.Length & 5.4\\\\\n\\end{tabular}\n",
      "text/markdown": "\nA data.frame: 6 × 4\n\n| <!--/--> | Species &lt;fct&gt; | flower.num &lt;int&gt; | flower_att &lt;chr&gt; | measurement &lt;dbl&gt; |\n|---|---|---|---|---|\n| 1 | setosa | 1 | Sepal.Length | 5.1 |\n| 2 | setosa | 2 | Sepal.Length | 4.9 |\n| 3 | setosa | 3 | Sepal.Length | 4.7 |\n| 4 | setosa | 4 | Sepal.Length | 4.6 |\n| 5 | setosa | 5 | Sepal.Length | 5.0 |\n| 6 | setosa | 6 | Sepal.Length | 5.4 |\n\n",
      "text/plain": [
       "  Species flower.num flower_att   measurement\n",
       "1 setosa  1          Sepal.Length 5.1        \n",
       "2 setosa  2          Sepal.Length 4.9        \n",
       "3 setosa  3          Sepal.Length 4.7        \n",
       "4 setosa  4          Sepal.Length 4.6        \n",
       "5 setosa  5          Sepal.Length 5.0        \n",
       "6 setosa  6          Sepal.Length 5.4        "
      ]
     },
     "metadata": {
      "tags": []
     }
    }
   ]
  },
  {
   "cell_type": "markdown",
   "metadata": {
    "id": "lTkYLiTKzgvM"
   },
   "source": [
    "Now this data set is in a long format, which is a tidier format for answering analysis questions (\"Are petals longer than they are wide?\") and for visualization. If I wanted to, I could use `separate()` to make the `flower_att` variable into two variables. We can also easily put it back in \"wide\" format using `spread`:"
   ]
  },
  {
   "cell_type": "code",
   "metadata": {
    "colab": {
     "base_uri": "https://localhost:8080/",
     "height": 207
    },
    "id": "LE2Q-0FTz9Sb",
    "executionInfo": {
     "elapsed": 304,
     "status": "ok",
     "timestamp": 1611099742110,
     "user": {
      "displayName": "Patience Stevens",
      "photoUrl": "https://lh3.googleusercontent.com/a-/AOh14Gi-_9ZqhIFhAv1oMehJNvNuIKSTyrFQHzjxQKhx=s64",
      "userId": "01994571539255174942"
     },
     "user_tz": 300
    },
    "outputId": "6ef4b907-cda8-4dbe-c793-110bc50dab5f"
   },
   "source": [
    "newdat <- newdat %>%\n",
    "      spread(flower_att,measurement)\n",
    "head(newdat)"
   ],
   "execution_count": null,
   "outputs": [
    {
     "output_type": "display_data",
     "data": {
      "text/html": [
       "<table>\n",
       "<caption>A data.frame: 6 × 6</caption>\n",
       "<thead>\n",
       "\t<tr><th></th><th scope=col>Species</th><th scope=col>flower.num</th><th scope=col>Petal.Length</th><th scope=col>Petal.Width</th><th scope=col>Sepal.Length</th><th scope=col>Sepal.Width</th></tr>\n",
       "\t<tr><th></th><th scope=col>&lt;fct&gt;</th><th scope=col>&lt;int&gt;</th><th scope=col>&lt;dbl&gt;</th><th scope=col>&lt;dbl&gt;</th><th scope=col>&lt;dbl&gt;</th><th scope=col>&lt;dbl&gt;</th></tr>\n",
       "</thead>\n",
       "<tbody>\n",
       "\t<tr><th scope=row>1</th><td>setosa</td><td>1</td><td>1.4</td><td>0.2</td><td>5.1</td><td>3.5</td></tr>\n",
       "\t<tr><th scope=row>2</th><td>setosa</td><td>2</td><td>1.4</td><td>0.2</td><td>4.9</td><td>3.0</td></tr>\n",
       "\t<tr><th scope=row>3</th><td>setosa</td><td>3</td><td>1.3</td><td>0.2</td><td>4.7</td><td>3.2</td></tr>\n",
       "\t<tr><th scope=row>4</th><td>setosa</td><td>4</td><td>1.5</td><td>0.2</td><td>4.6</td><td>3.1</td></tr>\n",
       "\t<tr><th scope=row>5</th><td>setosa</td><td>5</td><td>1.4</td><td>0.2</td><td>5.0</td><td>3.6</td></tr>\n",
       "\t<tr><th scope=row>6</th><td>setosa</td><td>6</td><td>1.7</td><td>0.4</td><td>5.4</td><td>3.9</td></tr>\n",
       "</tbody>\n",
       "</table>\n"
      ],
      "text/latex": "A data.frame: 6 × 6\n\\begin{tabular}{r|llllll}\n  & Species & flower.num & Petal.Length & Petal.Width & Sepal.Length & Sepal.Width\\\\\n  & <fct> & <int> & <dbl> & <dbl> & <dbl> & <dbl>\\\\\n\\hline\n\t1 & setosa & 1 & 1.4 & 0.2 & 5.1 & 3.5\\\\\n\t2 & setosa & 2 & 1.4 & 0.2 & 4.9 & 3.0\\\\\n\t3 & setosa & 3 & 1.3 & 0.2 & 4.7 & 3.2\\\\\n\t4 & setosa & 4 & 1.5 & 0.2 & 4.6 & 3.1\\\\\n\t5 & setosa & 5 & 1.4 & 0.2 & 5.0 & 3.6\\\\\n\t6 & setosa & 6 & 1.7 & 0.4 & 5.4 & 3.9\\\\\n\\end{tabular}\n",
      "text/markdown": "\nA data.frame: 6 × 6\n\n| <!--/--> | Species &lt;fct&gt; | flower.num &lt;int&gt; | Petal.Length &lt;dbl&gt; | Petal.Width &lt;dbl&gt; | Sepal.Length &lt;dbl&gt; | Sepal.Width &lt;dbl&gt; |\n|---|---|---|---|---|---|---|\n| 1 | setosa | 1 | 1.4 | 0.2 | 5.1 | 3.5 |\n| 2 | setosa | 2 | 1.4 | 0.2 | 4.9 | 3.0 |\n| 3 | setosa | 3 | 1.3 | 0.2 | 4.7 | 3.2 |\n| 4 | setosa | 4 | 1.5 | 0.2 | 4.6 | 3.1 |\n| 5 | setosa | 5 | 1.4 | 0.2 | 5.0 | 3.6 |\n| 6 | setosa | 6 | 1.7 | 0.4 | 5.4 | 3.9 |\n\n",
      "text/plain": [
       "  Species flower.num Petal.Length Petal.Width Sepal.Length Sepal.Width\n",
       "1 setosa  1          1.4          0.2         5.1          3.5        \n",
       "2 setosa  2          1.4          0.2         4.9          3.0        \n",
       "3 setosa  3          1.3          0.2         4.7          3.2        \n",
       "4 setosa  4          1.5          0.2         4.6          3.1        \n",
       "5 setosa  5          1.4          0.2         5.0          3.6        \n",
       "6 setosa  6          1.7          0.4         5.4          3.9        "
      ]
     },
     "metadata": {
      "tags": []
     }
    }
   ]
  },
  {
   "cell_type": "markdown",
   "metadata": {
    "id": "lmghfOw60ZAh"
   },
   "source": [
    "The last function we'll cover in this tutorial is the `left_join()` function. Imagine that you saved your data so that personal information such as age was saved separately from your participants' response data. However, now you want to see if age impacts your effect size, and you'd like to add age as a variable in your main dataset. As long as both your response dataset and your personal information dataset have the participant ID in them, you should be able to add the participants' ages to the dataset easily using `left_join()`. See [this page](https://dplyr.tidyverse.org/reference/join.html) for more versions of the `join()` function that you can use to make merging datasets easier."
   ]
  },
  {
   "cell_type": "code",
   "metadata": {
    "colab": {
     "base_uri": "https://localhost:8080/",
     "height": 347
    },
    "id": "tmWGxsgYDagC",
    "executionInfo": {
     "elapsed": 321,
     "status": "ok",
     "timestamp": 1611100691444,
     "user": {
      "displayName": "Patience Stevens",
      "photoUrl": "https://lh3.googleusercontent.com/a-/AOh14Gi-_9ZqhIFhAv1oMehJNvNuIKSTyrFQHzjxQKhx=s64",
      "userId": "01994571539255174942"
     },
     "user_tz": 300
    },
    "outputId": "919c5fe5-b24a-4a49-b5e2-c9a0216e90dc"
   },
   "source": [
    "personal <- data.frame(name = c(\"p01\",\"p02\"), age = c(18,21), firstlang = c(\"English\", \"Chinese\")) # participant inforation\n",
    "response <- data.frame(name= c(\"p01\",\"p01\",\"p02\",\"p02\"),response=c(0,1,1,0)) # response database\n",
    "head(response)\n",
    "\n",
    "response <- response %>% left_join(select(personal,name:age)) # don't need to use \"select\", but it keeps you from adding info you don't need. \n",
    "head(response)"
   ],
   "execution_count": null,
   "outputs": [
    {
     "output_type": "display_data",
     "data": {
      "text/html": [
       "<table>\n",
       "<caption>A data.frame: 4 × 2</caption>\n",
       "<thead>\n",
       "\t<tr><th></th><th scope=col>name</th><th scope=col>response</th></tr>\n",
       "\t<tr><th></th><th scope=col>&lt;chr&gt;</th><th scope=col>&lt;dbl&gt;</th></tr>\n",
       "</thead>\n",
       "<tbody>\n",
       "\t<tr><th scope=row>1</th><td>p01</td><td>0</td></tr>\n",
       "\t<tr><th scope=row>2</th><td>p01</td><td>1</td></tr>\n",
       "\t<tr><th scope=row>3</th><td>p02</td><td>1</td></tr>\n",
       "\t<tr><th scope=row>4</th><td>p02</td><td>0</td></tr>\n",
       "</tbody>\n",
       "</table>\n"
      ],
      "text/latex": "A data.frame: 4 × 2\n\\begin{tabular}{r|ll}\n  & name & response\\\\\n  & <chr> & <dbl>\\\\\n\\hline\n\t1 & p01 & 0\\\\\n\t2 & p01 & 1\\\\\n\t3 & p02 & 1\\\\\n\t4 & p02 & 0\\\\\n\\end{tabular}\n",
      "text/markdown": "\nA data.frame: 4 × 2\n\n| <!--/--> | name &lt;chr&gt; | response &lt;dbl&gt; |\n|---|---|---|\n| 1 | p01 | 0 |\n| 2 | p01 | 1 |\n| 3 | p02 | 1 |\n| 4 | p02 | 0 |\n\n",
      "text/plain": [
       "  name response\n",
       "1 p01  0       \n",
       "2 p01  1       \n",
       "3 p02  1       \n",
       "4 p02  0       "
      ]
     },
     "metadata": {
      "tags": []
     }
    },
    {
     "output_type": "stream",
     "text": [
      "Joining, by = \"name\"\n",
      "\n"
     ],
     "name": "stderr"
    },
    {
     "output_type": "display_data",
     "data": {
      "text/html": [
       "<table>\n",
       "<caption>A data.frame: 4 × 3</caption>\n",
       "<thead>\n",
       "\t<tr><th></th><th scope=col>name</th><th scope=col>response</th><th scope=col>age</th></tr>\n",
       "\t<tr><th></th><th scope=col>&lt;chr&gt;</th><th scope=col>&lt;dbl&gt;</th><th scope=col>&lt;dbl&gt;</th></tr>\n",
       "</thead>\n",
       "<tbody>\n",
       "\t<tr><th scope=row>1</th><td>p01</td><td>0</td><td>18</td></tr>\n",
       "\t<tr><th scope=row>2</th><td>p01</td><td>1</td><td>18</td></tr>\n",
       "\t<tr><th scope=row>3</th><td>p02</td><td>1</td><td>21</td></tr>\n",
       "\t<tr><th scope=row>4</th><td>p02</td><td>0</td><td>21</td></tr>\n",
       "</tbody>\n",
       "</table>\n"
      ],
      "text/latex": "A data.frame: 4 × 3\n\\begin{tabular}{r|lll}\n  & name & response & age\\\\\n  & <chr> & <dbl> & <dbl>\\\\\n\\hline\n\t1 & p01 & 0 & 18\\\\\n\t2 & p01 & 1 & 18\\\\\n\t3 & p02 & 1 & 21\\\\\n\t4 & p02 & 0 & 21\\\\\n\\end{tabular}\n",
      "text/markdown": "\nA data.frame: 4 × 3\n\n| <!--/--> | name &lt;chr&gt; | response &lt;dbl&gt; | age &lt;dbl&gt; |\n|---|---|---|---|\n| 1 | p01 | 0 | 18 |\n| 2 | p01 | 1 | 18 |\n| 3 | p02 | 1 | 21 |\n| 4 | p02 | 0 | 21 |\n\n",
      "text/plain": [
       "  name response age\n",
       "1 p01  0        18 \n",
       "2 p01  1        18 \n",
       "3 p02  1        21 \n",
       "4 p02  0        21 "
      ]
     },
     "metadata": {
      "tags": []
     }
    }
   ]
  },
  {
   "cell_type": "markdown",
   "metadata": {
    "id": "ncwoqvYwFb8U"
   },
   "source": [
    "That's all the tidyverse functions we'll cover for now!"
   ]
  },
  {
   "cell_type": "markdown",
   "metadata": {
    "id": "A1GrvZiMiSE6"
   },
   "source": [
    "*notebook authored by Ven Popov and edited by Krista Bond, Charles Wu, and Patience Stevens*"
   ]
  }
 ]
}