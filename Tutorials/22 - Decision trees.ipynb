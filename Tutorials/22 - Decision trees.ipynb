{
  "nbformat": 4,
  "nbformat_minor": 0,
  "metadata": {
    "kernelspec": {
      "display_name": "R",
      "language": "R",
      "name": "ir"
    },
    "language_info": {
      "codemirror_mode": "r",
      "file_extension": ".r",
      "mimetype": "text/x-r-source",
      "name": "R",
      "pygments_lexer": "r",
      "version": "3.6.3"
    },
    "colab": {
      "name": "22 - Decision trees.ipynb",
      "provenance": [],
      "collapsed_sections": []
    }
  },
  "cells": [
    {
      "cell_type": "markdown",
      "metadata": {
        "id": "O25G0R_HR1Vu"
      },
      "source": [
        "## Tree-based methods \n",
        "In this lab, we will go over how to implement decision trees with our data.\n",
        "\n",
        "## Goals of the lab:\n",
        "* Learn to use the `tree` library to build \n",
        "classification trees & regression trees\n",
        "\n",
        "This lab draws from the practice sets at the end of Chapter 8 in James, G., Witten, D., Hastie, T., & Tibshirani, R. (2013). \"An introduction to statistical learning: with applications in r.\" "
      ]
    },
    {
      "cell_type": "markdown",
      "metadata": {
        "id": "nFcM5CrfR1Vw"
      },
      "source": [
        "##  Pros and cons of trees {the statistical ones}\n",
        "\n",
        "**Pros:**\n",
        "\n",
        "  * Trees are interpretable. They are amenable to visualization and their visualization can be easily interpreted (if they are small)\n",
        "  * Trees can handle qualitative predictors without having to create dummy variables\n",
        "  <br>\n",
        "\n",
        "**Cons:**\n",
        "  * However, trees do not generally have the same predictive accuracy as other regression and classification approaches\n",
        "  * Trees can be sensitive to small changes in the data (i.e., flexible), so that even small differences in the data used to construct trees can result in drastically different decision trees\n",
        " \n",
        "## Some solutions \n",
        "\n",
        "To minimize these shortcomings, you can aggregate many decision trees using *bagging*, *random forests*, and *boosting* (see the next lecture and tutorial for more info on these). "
      ]
    },
    {
      "cell_type": "markdown",
      "metadata": {
        "id": "HvT9tozUR1Vx"
      },
      "source": [
        "---\n",
        "# Fitting classification trees"
      ]
    },
    {
      "cell_type": "code",
      "metadata": {
        "id": "suBjdMNlR1Vx",
        "colab": {
          "base_uri": "https://localhost:8080/"
        },
        "outputId": "087e4aae-646b-4bd9-fb8b-d8ad3c708bb7"
      },
      "source": [
        "# install.packages(\"ISLR\")\n",
        "library(ISLR) # Loading ISLR because this is where the Carseats dataset is.\n",
        "\n",
        "# install.packages('tree') #uncomment to install \n",
        "library(tree) #this is the library needed for tree regression and classification"
      ],
      "execution_count": null,
      "outputs": [
        {
          "output_type": "stream",
          "text": [
            "Installing package into ‘/usr/local/lib/R/site-library’\n",
            "(as ‘lib’ is unspecified)\n",
            "\n",
            "Installing package into ‘/usr/local/lib/R/site-library’\n",
            "(as ‘lib’ is unspecified)\n",
            "\n"
          ],
          "name": "stderr"
        }
      ]
    },
    {
      "cell_type": "markdown",
      "metadata": {
        "id": "LjwpYV_qR1Vx"
      },
      "source": [
        "To start, we are going to construct a classification tree using the `Carseats` dataset. This data set is describes sales of child car seats at 400 different stores. Here, `Sales` is a continuous variable (in \"thousands of dollars\" units), so we will binarize it for compatiblity with classification trees."
      ]
    },
    {
      "cell_type": "code",
      "metadata": {
        "id": "-BzC_2kZR1Vy",
        "colab": {
          "base_uri": "https://localhost:8080/",
          "height": 283
        },
        "outputId": "355ae6f3-0db0-4be3-8217-51d9213d779a"
      },
      "source": [
        "# ?Carseats # Uncomment for more info on the \"carseats \"\n",
        "head(Carseats)"
      ],
      "execution_count": 52,
      "outputs": [
        {
          "output_type": "display_data",
          "data": {
            "text/plain": [
              "  Sales CompPrice Income Advertising Population Price ShelveLoc Age Education\n",
              "1  9.50 138        73    11          276        120   Bad       42  17       \n",
              "2 11.22 111        48    16          260         83   Good      65  10       \n",
              "3 10.06 113        35    10          269         80   Medium    59  12       \n",
              "4  7.40 117       100     4          466         97   Medium    55  14       \n",
              "5  4.15 141        64     3          340        128   Bad       38  13       \n",
              "6 10.81 124       113    13          501         72   Bad       78  16       \n",
              "  Urban US \n",
              "1 Yes   Yes\n",
              "2 Yes   Yes\n",
              "3 Yes   Yes\n",
              "4 Yes   Yes\n",
              "5 Yes   No \n",
              "6 No    Yes"
            ],
            "text/latex": "A data.frame: 6 × 11\n\\begin{tabular}{r|lllllllllll}\n  & Sales & CompPrice & Income & Advertising & Population & Price & ShelveLoc & Age & Education & Urban & US\\\\\n  & <dbl> & <dbl> & <dbl> & <dbl> & <dbl> & <dbl> & <fct> & <dbl> & <dbl> & <fct> & <fct>\\\\\n\\hline\n\t1 &  9.50 & 138 &  73 & 11 & 276 & 120 & Bad    & 42 & 17 & Yes & Yes\\\\\n\t2 & 11.22 & 111 &  48 & 16 & 260 &  83 & Good   & 65 & 10 & Yes & Yes\\\\\n\t3 & 10.06 & 113 &  35 & 10 & 269 &  80 & Medium & 59 & 12 & Yes & Yes\\\\\n\t4 &  7.40 & 117 & 100 &  4 & 466 &  97 & Medium & 55 & 14 & Yes & Yes\\\\\n\t5 &  4.15 & 141 &  64 &  3 & 340 & 128 & Bad    & 38 & 13 & Yes & No \\\\\n\t6 & 10.81 & 124 & 113 & 13 & 501 &  72 & Bad    & 78 & 16 & No  & Yes\\\\\n\\end{tabular}\n",
            "text/markdown": "\nA data.frame: 6 × 11\n\n| <!--/--> | Sales &lt;dbl&gt; | CompPrice &lt;dbl&gt; | Income &lt;dbl&gt; | Advertising &lt;dbl&gt; | Population &lt;dbl&gt; | Price &lt;dbl&gt; | ShelveLoc &lt;fct&gt; | Age &lt;dbl&gt; | Education &lt;dbl&gt; | Urban &lt;fct&gt; | US &lt;fct&gt; |\n|---|---|---|---|---|---|---|---|---|---|---|---|\n| 1 |  9.50 | 138 |  73 | 11 | 276 | 120 | Bad    | 42 | 17 | Yes | Yes |\n| 2 | 11.22 | 111 |  48 | 16 | 260 |  83 | Good   | 65 | 10 | Yes | Yes |\n| 3 | 10.06 | 113 |  35 | 10 | 269 |  80 | Medium | 59 | 12 | Yes | Yes |\n| 4 |  7.40 | 117 | 100 |  4 | 466 |  97 | Medium | 55 | 14 | Yes | Yes |\n| 5 |  4.15 | 141 |  64 |  3 | 340 | 128 | Bad    | 38 | 13 | Yes | No  |\n| 6 | 10.81 | 124 | 113 | 13 | 501 |  72 | Bad    | 78 | 16 | No  | Yes |\n\n",
            "text/html": [
              "<table class=\"dataframe\">\n",
              "<caption>A data.frame: 6 × 11</caption>\n",
              "<thead>\n",
              "\t<tr><th></th><th scope=col>Sales</th><th scope=col>CompPrice</th><th scope=col>Income</th><th scope=col>Advertising</th><th scope=col>Population</th><th scope=col>Price</th><th scope=col>ShelveLoc</th><th scope=col>Age</th><th scope=col>Education</th><th scope=col>Urban</th><th scope=col>US</th></tr>\n",
              "\t<tr><th></th><th scope=col>&lt;dbl&gt;</th><th scope=col>&lt;dbl&gt;</th><th scope=col>&lt;dbl&gt;</th><th scope=col>&lt;dbl&gt;</th><th scope=col>&lt;dbl&gt;</th><th scope=col>&lt;dbl&gt;</th><th scope=col>&lt;fct&gt;</th><th scope=col>&lt;dbl&gt;</th><th scope=col>&lt;dbl&gt;</th><th scope=col>&lt;fct&gt;</th><th scope=col>&lt;fct&gt;</th></tr>\n",
              "</thead>\n",
              "<tbody>\n",
              "\t<tr><th scope=row>1</th><td> 9.50</td><td>138</td><td> 73</td><td>11</td><td>276</td><td>120</td><td>Bad   </td><td>42</td><td>17</td><td>Yes</td><td>Yes</td></tr>\n",
              "\t<tr><th scope=row>2</th><td>11.22</td><td>111</td><td> 48</td><td>16</td><td>260</td><td> 83</td><td>Good  </td><td>65</td><td>10</td><td>Yes</td><td>Yes</td></tr>\n",
              "\t<tr><th scope=row>3</th><td>10.06</td><td>113</td><td> 35</td><td>10</td><td>269</td><td> 80</td><td>Medium</td><td>59</td><td>12</td><td>Yes</td><td>Yes</td></tr>\n",
              "\t<tr><th scope=row>4</th><td> 7.40</td><td>117</td><td>100</td><td> 4</td><td>466</td><td> 97</td><td>Medium</td><td>55</td><td>14</td><td>Yes</td><td>Yes</td></tr>\n",
              "\t<tr><th scope=row>5</th><td> 4.15</td><td>141</td><td> 64</td><td> 3</td><td>340</td><td>128</td><td>Bad   </td><td>38</td><td>13</td><td>Yes</td><td>No </td></tr>\n",
              "\t<tr><th scope=row>6</th><td>10.81</td><td>124</td><td>113</td><td>13</td><td>501</td><td> 72</td><td>Bad   </td><td>78</td><td>16</td><td>No </td><td>Yes</td></tr>\n",
              "</tbody>\n",
              "</table>\n"
            ]
          },
          "metadata": {
            "tags": []
          }
        }
      ]
    },
    {
      "cell_type": "code",
      "metadata": {
        "id": "LqGn8B_qR1Vy"
      },
      "source": [
        "#if sales are <= $8000, then sales are not high \n",
        "# otherwise, they are. \n",
        "Carseats$High <- as.factor(ifelse(Carseats$Sales<=8, \"No\", \"Yes\") ) # Binarize and add to data.frame"
      ],
      "execution_count": null,
      "outputs": []
    },
    {
      "cell_type": "markdown",
      "metadata": {
        "id": "ioQb_dyUR1Vy"
      },
      "source": [
        "Now we'll use the `tree` function to fit a classification tree. This will predict `High` using all variables except `Sales` (which we transformed above into `High`). "
      ]
    },
    {
      "cell_type": "code",
      "metadata": {
        "id": "6WdL9PFBR1Vz"
      },
      "source": [
        "tree.carseats <- tree(High~.-Sales, Carseats)"
      ],
      "execution_count": null,
      "outputs": []
    },
    {
      "cell_type": "markdown",
      "metadata": {
        "id": "pGs4FTTZR1Vz"
      },
      "source": [
        "The summary of the tree will list the variables used as nodes in the tree, the number of terminal nodes, and the training error rate. "
      ]
    },
    {
      "cell_type": "code",
      "metadata": {
        "id": "Noz9__HxR1V0",
        "colab": {
          "base_uri": "https://localhost:8080/",
          "height": 170
        },
        "outputId": "01ee76f2-69b3-4231-bf89-98b126657622"
      },
      "source": [
        "summary(tree.carseats)"
      ],
      "execution_count": null,
      "outputs": [
        {
          "output_type": "display_data",
          "data": {
            "text/plain": [
              "\n",
              "Classification tree:\n",
              "tree(formula = High ~ . - Sales, data = Carseats)\n",
              "Variables actually used in tree construction:\n",
              "[1] \"ShelveLoc\"   \"Price\"       \"Income\"      \"CompPrice\"   \"Population\" \n",
              "[6] \"Advertising\" \"Age\"         \"US\"         \n",
              "Number of terminal nodes:  27 \n",
              "Residual mean deviance:  0.4575 = 170.7 / 373 \n",
              "Misclassification error rate: 0.09 = 36 / 400 "
            ]
          },
          "metadata": {
            "tags": []
          }
        }
      ]
    },
    {
      "cell_type": "markdown",
      "metadata": {
        "id": "ggdO9RSDR1V0"
      },
      "source": [
        "You can see that the training error rate was 9%. The residual mean deviance is also reported. A small deviance indicates a tree that fits the training data well. The residual mean deviance is the deviance divided by the number of observations ($n$) subtracted from the number of terminal nodes in the tree ($|T_0|$).  \n",
        "\n",
        "In this case, the deviance is $170.7$. There are 400 observations for Sales, and 27 terminal nodes, so $(n-|T_0|)$ is $373$. "
      ]
    },
    {
      "cell_type": "markdown",
      "metadata": {
        "id": "NG5NjWZ4R1V0"
      },
      "source": [
        "Now let's plot the tree we've constructed."
      ]
    },
    {
      "cell_type": "code",
      "metadata": {
        "id": "nDq_vEM1R1V0",
        "colab": {
          "base_uri": "https://localhost:8080/",
          "height": 437
        },
        "outputId": "ca4fa668-5421-4014-8774-52113d248e62"
      },
      "source": [
        "plot(tree.carseats) #this will create the basic tree structure\n",
        "text(tree.carseats, pretty=0) #this will annotate the tree with predictors and outcomes\n",
        "#pretty=0 means that the tree will display the full names of the qualitative predictors instead of \n",
        "#single-letter abbreviations "
      ],
      "execution_count": null,
      "outputs": [
        {
          "output_type": "display_data",
          "data": {
            "image/png": "[encoded data removed]",
            "text/plain": [
              "plot without title"
            ]
          },
          "metadata": {
            "tags": [],
            "image/png": {
              "width": 420,
              "height": 420
            }
          }
        }
      ]
    },
    {
      "cell_type": "markdown",
      "metadata": {
        "id": "BFL5qjNbR1V1"
      },
      "source": [
        "The most important indicator of sales seems to be the shelving location, because the first branch splits subsequent branches according to whether shelving location is bad or medium."
      ]
    },
    {
      "cell_type": "markdown",
      "metadata": {
        "id": "TQQ4i7BxR1V1"
      },
      "source": [
        "You can also just type the tree object name to see output for each branch of the tree. Below, the split criterion is displayed ($Price<92.5$), the number of observations for each branch is shown, the deviance, the overall prediction for that branch, and the number of observations in that branch that take on the values $Yes$ or $No$."
      ]
    },
    {
      "cell_type": "code",
      "metadata": {
        "id": "UIgvyFUVR1V1",
        "colab": {
          "base_uri": "https://localhost:8080/",
          "height": 969
        },
        "outputId": "12439202-73da-4546-9faa-7de8023e6023"
      },
      "source": [
        "tree.carseats"
      ],
      "execution_count": null,
      "outputs": [
        {
          "output_type": "display_data",
          "data": {
            "text/plain": [
              "node), split, n, deviance, yval, (yprob)\n",
              "      * denotes terminal node\n",
              "\n",
              "  1) root 400 541.500 No ( 0.59000 0.41000 )  \n",
              "    2) ShelveLoc: Bad,Medium 315 390.600 No ( 0.68889 0.31111 )  \n",
              "      4) Price < 92.5 46  56.530 Yes ( 0.30435 0.69565 )  \n",
              "        8) Income < 57 10  12.220 No ( 0.70000 0.30000 )  \n",
              "         16) CompPrice < 110.5 5   0.000 No ( 1.00000 0.00000 ) *\n",
              "         17) CompPrice > 110.5 5   6.730 Yes ( 0.40000 0.60000 ) *\n",
              "        9) Income > 57 36  35.470 Yes ( 0.19444 0.80556 )  \n",
              "         18) Population < 207.5 16  21.170 Yes ( 0.37500 0.62500 ) *\n",
              "         19) Population > 207.5 20   7.941 Yes ( 0.05000 0.95000 ) *\n",
              "      5) Price > 92.5 269 299.800 No ( 0.75465 0.24535 )  \n",
              "       10) Advertising < 13.5 224 213.200 No ( 0.81696 0.18304 )  \n",
              "         20) CompPrice < 124.5 96  44.890 No ( 0.93750 0.06250 )  \n",
              "           40) Price < 106.5 38  33.150 No ( 0.84211 0.15789 )  \n",
              "             80) Population < 177 12  16.300 No ( 0.58333 0.41667 )  \n",
              "              160) Income < 60.5 6   0.000 No ( 1.00000 0.00000 ) *\n",
              "              161) Income > 60.5 6   5.407 Yes ( 0.16667 0.83333 ) *\n",
              "             81) Population > 177 26   8.477 No ( 0.96154 0.03846 ) *\n",
              "           41) Price > 106.5 58   0.000 No ( 1.00000 0.00000 ) *\n",
              "         21) CompPrice > 124.5 128 150.200 No ( 0.72656 0.27344 )  \n",
              "           42) Price < 122.5 51  70.680 Yes ( 0.49020 0.50980 )  \n",
              "             84) ShelveLoc: Bad 11   6.702 No ( 0.90909 0.09091 ) *\n",
              "             85) ShelveLoc: Medium 40  52.930 Yes ( 0.37500 0.62500 )  \n",
              "              170) Price < 109.5 16   7.481 Yes ( 0.06250 0.93750 ) *\n",
              "              171) Price > 109.5 24  32.600 No ( 0.58333 0.41667 )  \n",
              "                342) Age < 49.5 13  16.050 Yes ( 0.30769 0.69231 ) *\n",
              "                343) Age > 49.5 11   6.702 No ( 0.90909 0.09091 ) *\n",
              "           43) Price > 122.5 77  55.540 No ( 0.88312 0.11688 )  \n",
              "             86) CompPrice < 147.5 58  17.400 No ( 0.96552 0.03448 ) *\n",
              "             87) CompPrice > 147.5 19  25.010 No ( 0.63158 0.36842 )  \n",
              "              174) Price < 147 12  16.300 Yes ( 0.41667 0.58333 )  \n",
              "                348) CompPrice < 152.5 7   5.742 Yes ( 0.14286 0.85714 ) *\n",
              "                349) CompPrice > 152.5 5   5.004 No ( 0.80000 0.20000 ) *\n",
              "              175) Price > 147 7   0.000 No ( 1.00000 0.00000 ) *\n",
              "       11) Advertising > 13.5 45  61.830 Yes ( 0.44444 0.55556 )  \n",
              "         22) Age < 54.5 25  25.020 Yes ( 0.20000 0.80000 )  \n",
              "           44) CompPrice < 130.5 14  18.250 Yes ( 0.35714 0.64286 )  \n",
              "             88) Income < 100 9  12.370 No ( 0.55556 0.44444 ) *\n",
              "             89) Income > 100 5   0.000 Yes ( 0.00000 1.00000 ) *\n",
              "           45) CompPrice > 130.5 11   0.000 Yes ( 0.00000 1.00000 ) *\n",
              "         23) Age > 54.5 20  22.490 No ( 0.75000 0.25000 )  \n",
              "           46) CompPrice < 122.5 10   0.000 No ( 1.00000 0.00000 ) *\n",
              "           47) CompPrice > 122.5 10  13.860 No ( 0.50000 0.50000 )  \n",
              "             94) Price < 125 5   0.000 Yes ( 0.00000 1.00000 ) *\n",
              "             95) Price > 125 5   0.000 No ( 1.00000 0.00000 ) *\n",
              "    3) ShelveLoc: Good 85  90.330 Yes ( 0.22353 0.77647 )  \n",
              "      6) Price < 135 68  49.260 Yes ( 0.11765 0.88235 )  \n",
              "       12) US: No 17  22.070 Yes ( 0.35294 0.64706 )  \n",
              "         24) Price < 109 8   0.000 Yes ( 0.00000 1.00000 ) *\n",
              "         25) Price > 109 9  11.460 No ( 0.66667 0.33333 ) *\n",
              "       13) US: Yes 51  16.880 Yes ( 0.03922 0.96078 ) *\n",
              "      7) Price > 135 17  22.070 No ( 0.64706 0.35294 )  \n",
              "       14) Income < 46 6   0.000 No ( 1.00000 0.00000 ) *\n",
              "       15) Income > 46 11  15.160 Yes ( 0.45455 0.54545 ) *"
            ]
          },
          "metadata": {
            "tags": []
          }
        }
      ]
    },
    {
      "cell_type": "markdown",
      "metadata": {
        "id": "KcEDbDVaR1V1"
      },
      "source": [
        "Now let's estimate the test error of this classification tree. "
      ]
    },
    {
      "cell_type": "code",
      "metadata": {
        "id": "V2EW4dPYR1V4",
        "colab": {
          "base_uri": "https://localhost:8080/",
          "height": 102
        },
        "outputId": "dd7a9fe9-4d87-43cf-e820-a5146c03d06a"
      },
      "source": [
        "set.seed (2)\n",
        "idx = 1:nrow(Carseats)\n",
        "test=sample(idx, 100) #sample 50 for the test set\n",
        "tune = sample(idx[-test], 150) #150 for the tuning set\n",
        "train = idx[!(idx %in% c(tune, test))] ##select indices that are not in tune or test\n",
        "Carseats.tune=Carseats[tune,] #indices for test set\n",
        "Carseats.test=Carseats[test,]\n",
        "Carseats.train=Carseats[train,] \n",
        "\n",
        "High.test=Carseats$High[test] #get test data\n",
        "#tree.carseats=tree(High~.-Sales, Carseats, subset=c(tune,train)) #hacked model\n",
        "print(length(c(tune,train)))\n",
        "tree.carseats=tree(High~.-Sales, Carseats, subset=tune) #tuned model\n",
        "tree.pred=predict(tree.carseats, Carseats.test, type=\"class\") #make a prediction using the test set\n",
        "#class instructs R to return the class prediction\n",
        "table(tree.pred, High.test) #compare predictions with test data"
      ],
      "execution_count": null,
      "outputs": [
        {
          "output_type": "stream",
          "text": [
            "[1] 300\n"
          ],
          "name": "stdout"
        },
        {
          "output_type": "display_data",
          "data": {
            "text/plain": [
              "         High.test\n",
              "tree.pred No Yes\n",
              "      No  50  13\n",
              "      Yes 10  27"
            ]
          },
          "metadata": {
            "tags": []
          }
        }
      ]
    },
    {
      "cell_type": "code",
      "metadata": {
        "id": "Z7KXpMTVR1V4",
        "colab": {
          "base_uri": "https://localhost:8080/",
          "height": 34
        },
        "outputId": "5f916e79-9fe5-4213-9188-7e17f6ad9f9d"
      },
      "source": [
        "#total_accuracy = (51 + 25) / length(test) #test accuracy for the hacked model\n",
        "total_accuracy = (50 + 27) / length(test) #test accuracy for the tuned model\n",
        "total_accuracy"
      ],
      "execution_count": null,
      "outputs": [
        {
          "output_type": "display_data",
          "data": {
            "text/plain": [
              "[1] 0.77"
            ],
            "text/latex": "0.77",
            "text/markdown": "0.77",
            "text/html": [
              "0.77"
            ]
          },
          "metadata": {
            "tags": []
          }
        }
      ]
    },
    {
      "cell_type": "markdown",
      "metadata": {
        "id": "m_NqQB9cR1V5"
      },
      "source": [
        "Now let's prune the tree to determine the optimal level of complexity. The function \n",
        "`cv.tree` will perform cross-validation to determine the complexity that maximizes the bias-variance tradeoff. "
      ]
    },
    {
      "cell_type": "code",
      "metadata": {
        "id": "N9iueXfvR1V5",
        "colab": {
          "base_uri": "https://localhost:8080/",
          "height": 34
        },
        "outputId": "e8471481-d67a-45b8-85a9-09ea5be8e358"
      },
      "source": [
        "set.seed(3)\n",
        "cv.carseats = cv.tree(tree.carseats, FUN=prune.misclass) \n",
        "#FUN=prune.misclass indicates that we want classification error rate to guide the \n",
        "#cross-validated pruning process \n",
        "names(cv.carseats) #this function reports the terminal number of nodes \n",
        "#for each tree considered (size), the corresponding error rate (dev),\n",
        "#and the value of the cost complexity parameter (k, corresponding to alpha)"
      ],
      "execution_count": null,
      "outputs": [
        {
          "output_type": "display_data",
          "data": {
            "text/plain": [
              "[1] \"size\"   \"dev\"    \"k\"      \"method\""
            ],
            "text/latex": "\\begin{enumerate*}\n\\item 'size'\n\\item 'dev'\n\\item 'k'\n\\item 'method'\n\\end{enumerate*}\n",
            "text/markdown": "1. 'size'\n2. 'dev'\n3. 'k'\n4. 'method'\n\n\n",
            "text/html": [
              "<style>\n",
              ".list-inline {list-style: none; margin:0; padding: 0}\n",
              ".list-inline>li {display: inline-block}\n",
              ".list-inline>li:not(:last-child)::after {content: \"\\00b7\"; padding: 0 .5ex}\n",
              "</style>\n",
              "<ol class=list-inline><li>'size'</li><li>'dev'</li><li>'k'</li><li>'method'</li></ol>\n"
            ]
          },
          "metadata": {
            "tags": []
          }
        }
      ]
    },
    {
      "cell_type": "code",
      "metadata": {
        "id": "uVWhLjMUR1V5",
        "colab": {
          "base_uri": "https://localhost:8080/",
          "height": 255
        },
        "outputId": "55f70f79-0347-47a3-c465-cd819cc5ef0d"
      },
      "source": [
        "cv.carseats"
      ],
      "execution_count": null,
      "outputs": [
        {
          "output_type": "display_data",
          "data": {
            "text/plain": [
              "$size\n",
              "[1] 15 11 10  8  6  4  3  1\n",
              "\n",
              "$dev\n",
              "[1] 38 37 34 37 37 40 46 67\n",
              "\n",
              "$k\n",
              "[1] -Inf  0.0  1.0  2.0  2.5  3.0  6.0 12.0\n",
              "\n",
              "$method\n",
              "[1] \"misclass\"\n",
              "\n",
              "attr(,\"class\")\n",
              "[1] \"prune\"         \"tree.sequence\""
            ]
          },
          "metadata": {
            "tags": []
          }
        }
      ]
    },
    {
      "cell_type": "markdown",
      "metadata": {
        "id": "FU4dAcgER1V5"
      },
      "source": [
        "It appears that the tree with 9 terminal nodes results in the lowest cross-validated error rate, with 50 cross-validation errors. Below is the CV error rate as function of tree size."
      ]
    },
    {
      "cell_type": "code",
      "metadata": {
        "id": "g39ZM-qdR1V6",
        "colab": {
          "base_uri": "https://localhost:8080/",
          "height": 437
        },
        "outputId": "46b710c7-339f-4d8f-d793-a500b9c1c5c7"
      },
      "source": [
        "plot(cv.carseats$size ,cv.carseats$dev ,type=\"b\")"
      ],
      "execution_count": null,
      "outputs": [
        {
          "output_type": "display_data",
          "data": {
            "image/png": "[encoded data removed]",
            "text/plain": [
              "plot without title"
            ]
          },
          "metadata": {
            "tags": [],
            "image/png": {
              "width": 420,
              "height": 420
            }
          }
        }
      ]
    },
    {
      "cell_type": "markdown",
      "metadata": {
        "id": "bc9O1tpPR1V9"
      },
      "source": [
        "Now we can apply the `prune.misclass()` function to prune the tree to have the number of nodes to match the best CV error above. "
      ]
    },
    {
      "cell_type": "code",
      "metadata": {
        "id": "ijuy1yfaR1V9",
        "colab": {
          "base_uri": "https://localhost:8080/",
          "height": 437
        },
        "outputId": "ab9bd158-17c0-4ea3-baa4-d6e0deb25fb9"
      },
      "source": [
        "#prune.carseats=prune.misclass(tree.carseats,best=14) #hacked model\n",
        "tree.carseats=tree(High~.-Sales, Carseats, subset=train) #tuned model\n",
        "prune.carseats=prune.misclass(tree.carseats,best=10) #tuned model\n",
        "plot(prune.carseats) #plotting the newly pruned tree\n",
        "text(prune.carseats, pretty=0)"
      ],
      "execution_count": null,
      "outputs": [
        {
          "output_type": "display_data",
          "data": {
            "image/png": "[encoded data removed]",
            "text/plain": [
              "plot without title"
            ]
          },
          "metadata": {
            "tags": [],
            "image/png": {
              "width": 420,
              "height": 420
            }
          }
        }
      ]
    },
    {
      "cell_type": "markdown",
      "metadata": {
        "id": "u7rKUkzlR1V9"
      },
      "source": [
        "Let's see how well this pruned tree classifies test set observations using the `predict` function."
      ]
    },
    {
      "cell_type": "code",
      "metadata": {
        "id": "cACKIMs5R1V9",
        "colab": {
          "base_uri": "https://localhost:8080/",
          "height": 85
        },
        "outputId": "b108d9d6-3aca-443f-8d9f-4c979053eb04"
      },
      "source": [
        "tree.pred=predict(prune.carseats, Carseats.test, type=\"class\")\n",
        "table(tree.pred, High.test)"
      ],
      "execution_count": null,
      "outputs": [
        {
          "output_type": "display_data",
          "data": {
            "text/plain": [
              "         High.test\n",
              "tree.pred No Yes\n",
              "      No  42  10\n",
              "      Yes 18  30"
            ]
          },
          "metadata": {
            "tags": []
          }
        }
      ]
    },
    {
      "cell_type": "code",
      "metadata": {
        "id": "Dkq8haUZR1V-",
        "colab": {
          "base_uri": "https://localhost:8080/",
          "height": 34
        },
        "outputId": "843b0d05-b030-47ee-b8cc-ac2f75c1dc93"
      },
      "source": [
        "#total_pruned_accuracy = (52+27)/length(test) #hacked model accuracy\n",
        "total_pruned_accuracy = (42+30)/length(test) #tuned model test\n",
        "total_pruned_accuracy"
      ],
      "execution_count": null,
      "outputs": [
        {
          "output_type": "display_data",
          "data": {
            "text/plain": [
              "[1] 0.72"
            ],
            "text/latex": "0.72",
            "text/markdown": "0.72",
            "text/html": [
              "0.72"
            ]
          },
          "metadata": {
            "tags": []
          }
        }
      ]
    },
    {
      "cell_type": "markdown",
      "metadata": {
        "id": "daWbMXgStHF5"
      },
      "source": [
        "And voila! We've found a good decision tree that allows for reasonably good prediction accuracy, and pruned it so that it isn't too overfitted to the training data. "
      ]
    },
    {
      "cell_type": "markdown",
      "metadata": {
        "id": "tg4adkc2R1V-"
      },
      "source": [
        "---\n",
        "# Fitting trees to predict continuous variables (AKA, \"regression trees\")"
      ]
    },
    {
      "cell_type": "markdown",
      "metadata": {
        "id": "G4sTqeyrR1V-"
      },
      "source": [
        "Now let's fit a decision tree on the continuous variable, `Sales`, instead of the categorical variable `High` that we generated from it."
      ]
    },
    {
      "cell_type": "code",
      "metadata": {
        "id": "cLW6IN20R1V-",
        "colab": {
          "base_uri": "https://localhost:8080/",
          "height": 187
        },
        "outputId": "d191d4de-ae08-4fb9-c638-1cbcf943e4cd"
      },
      "source": [
        "Carseats$High <- NULL\n",
        "set.seed(1)\n",
        "tree.sales=tree(Sales~.,Carseats, subset=train) #fit the regression tree, using same training set as in previous section. \n",
        "summary(tree.sales) #summarize"
      ],
      "execution_count": null,
      "outputs": [
        {
          "output_type": "display_data",
          "data": {
            "text/plain": [
              "\n",
              "Regression tree:\n",
              "tree(formula = Sales ~ ., data = Carseats, subset = train)\n",
              "Variables actually used in tree construction:\n",
              "[1] \"ShelveLoc\"   \"Price\"       \"CompPrice\"   \"Advertising\" \"Population\" \n",
              "Number of terminal nodes:  12 \n",
              "Residual mean deviance:  1.772 = 145.3 / 82 \n",
              "Distribution of residuals:\n",
              "    Min.  1st Qu.   Median     Mean  3rd Qu.     Max. \n",
              "-2.83300 -0.82100  0.09407  0.00000  0.91890  2.65600 "
            ]
          },
          "metadata": {
            "tags": []
          }
        }
      ]
    },
    {
      "cell_type": "markdown",
      "metadata": {
        "id": "o1vbfFY3R1V_"
      },
      "source": [
        "Notice that the output of summary() indicates that only five of the ten possible variables have been used in constructing the regression tree. \n",
        "\n",
        "In this case, the deviance is just the sum of the squared errors for the tree."
      ]
    },
    {
      "cell_type": "code",
      "metadata": {
        "id": "8QZu-mohR1V_",
        "colab": {
          "base_uri": "https://localhost:8080/",
          "height": 437
        },
        "outputId": "915dce4f-bff4-4f63-9e37-9a4fe8ea91fd"
      },
      "source": [
        "plot(tree.sales)\n",
        "text(tree.sales, pretty=0)"
      ],
      "execution_count": null,
      "outputs": [
        {
          "output_type": "display_data",
          "data": {
            "image/png": "[encoded data removed]",
            "text/plain": [
              "plot without title"
            ]
          },
          "metadata": {
            "tags": [],
            "image/png": {
              "width": 420,
              "height": 420
            }
          }
        }
      ]
    },
    {
      "cell_type": "markdown",
      "metadata": {
        "id": "cU3apXPiR1V_"
      },
      "source": [
        "Similar to when we were predicting `High`, the tree we've fit for `Sales` also splits first at `ShelveLoc`, so this variable is definitely an informative predictor of how well carseats are selling. \n",
        "\n",
        "Now let's prune the tree."
      ]
    },
    {
      "cell_type": "code",
      "metadata": {
        "id": "eQgD13vbR1V_",
        "colab": {
          "base_uri": "https://localhost:8080/",
          "height": 437
        },
        "outputId": "5ff52223-52b8-447d-b825-599fc199cd3c"
      },
      "source": [
        "#first, let's look at the CV error as a function tree size\n",
        "cv.sales=cv.tree(tree.sales) \n",
        "plot(cv.sales$size, cv.sales$dev,type='b')"
      ],
      "execution_count": null,
      "outputs": [
        {
          "output_type": "display_data",
          "data": {
            "image/png": "[encoded data removed]",
            "text/plain": [
              "plot without title"
            ]
          },
          "metadata": {
            "tags": [],
            "image/png": {
              "width": 420,
              "height": 420
            }
          }
        }
      ]
    },
    {
      "cell_type": "markdown",
      "metadata": {
        "id": "s8HHie-fR1V_"
      },
      "source": [
        "Interestingly, when we're predicting the continuous variable, the optimal number of nodes is just 2, whereas it was 10 when we were predicting `High`. Since we know trees are very sensitive to variability in the data, this may be because there is a lot of noise in the variable `Sales`, and getting a coarser-grained version of this information with `High` decreases how quickly overfitting becomes a problem.\n",
        "\n",
        "Let's prune the tree based on these results, and then use it to make predictions on a test set."
      ]
    },
    {
      "cell_type": "code",
      "metadata": {
        "id": "ykX4xkJrR1V_",
        "colab": {
          "base_uri": "https://localhost:8080/",
          "height": 437
        },
        "outputId": "e53c3e33-6343-4161-a77e-2821183dd9b3"
      },
      "source": [
        "prune.sales=prune.tree(tree.sales,best=2) #manually selecting a 2-node tree\n",
        "plot(prune.sales)\n",
        "text(prune.sales,pretty=0)"
      ],
      "execution_count": 58,
      "outputs": [
        {
          "output_type": "display_data",
          "data": {
            "image/png": "[encoded data removed]",
            "text/plain": [
              "plot without title"
            ]
          },
          "metadata": {
            "tags": [],
            "image/png": {
              "width": 420,
              "height": 420
            }
          }
        }
      ]
    },
    {
      "cell_type": "markdown",
      "metadata": {
        "id": "YttnLqWZfalx"
      },
      "source": [
        "This is a very simple model, but let's trust our cross-validation model that this is the best way to avoid overfitting. "
      ]
    },
    {
      "cell_type": "code",
      "metadata": {
        "colab": {
          "base_uri": "https://localhost:8080/",
          "height": 454
        },
        "id": "3YF6-BF1fbFh",
        "outputId": "cfac0e9d-60cc-45e6-e7a3-888a5032e8f8"
      },
      "source": [
        "yhat=predict(prune.sales,newdata=Carseats[-train ,]) # Use the tree sales\n",
        "sales.test=Carseats[-train, \"Sales\"] # extract the correct predictions for the test trials\n",
        "require(ggplot2)\n",
        "ggplot(data.frame(yhat=yhat,sales.test=sales.test),aes(x=yhat,y=sales.test)) + \n",
        "    geom_point() + \n",
        "    geom_abline(slope=1,intercept=0)\n",
        "mean((yhat-sales.test)^2)"
      ],
      "execution_count": 61,
      "outputs": [
        {
          "output_type": "display_data",
          "data": {
            "text/plain": [
              "[1] 6.262539"
            ],
            "text/latex": "6.26253927637412",
            "text/markdown": "6.26253927637412",
            "text/html": [
              "6.26253927637412"
            ]
          },
          "metadata": {
            "tags": []
          }
        },
        {
          "output_type": "display_data",
          "data": {
            "image/png": "[encoded data removed]",
            "text/plain": [
              "plot without title"
            ]
          },
          "metadata": {
            "tags": [],
            "image/png": {
              "width": 420,
              "height": 420
            }
          }
        }
      ]
    },
    {
      "cell_type": "markdown",
      "metadata": {
        "id": "1OS0nMevR1WA"
      },
      "source": [
        "The test set MSE associated with the regression tree is\n",
        "6.263. The square root of the MSE is therefore around 2.5, indicating\n",
        "that this model leads to test predictions that are within around $2,500 of\n",
        "actual carseat sales. \n",
        "\n",
        "Note how ugly this plot is - the two groups are the observations that ended up in each of the two branches of the tree. Since the $\\hat{y}$ values are just the mean of all the training observations that ended up in that branch, there are only two possible $\\hat{y}$ values in this case. \n",
        "\n",
        "Bagging and boosting may help us get a more accurate and generalizable fit for this data set - see the next tutorial to find out! "
      ]
    },
    {
      "cell_type": "markdown",
      "metadata": {
        "id": "w38jVVmqU95J"
      },
      "source": [
        "*Notebook authored by Ven Popov and edited by Krista Bond, Charles Wu, and Patience Stevens*"
      ]
    }
  ]
}