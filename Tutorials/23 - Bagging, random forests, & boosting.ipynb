{
  "nbformat": 4,
  "nbformat_minor": 0,
  "metadata": {
    "kernelspec": {
      "display_name": "R",
      "language": "R",
      "name": "ir"
    },
    "language_info": {
      "codemirror_mode": "r",
      "file_extension": ".r",
      "mimetype": "text/x-r-source",
      "name": "R",
      "pygments_lexer": "r",
      "version": "3.6.3"
    },
    "colab": {
      "name": "23 - Bagging, random forests, & boosting.ipynb",
      "provenance": [],
      "collapsed_sections": []
    }
  },
  "cells": [
    {
      "cell_type": "markdown",
      "metadata": {
        "id": "W_bBa4q48_D6"
      },
      "source": [
        "# Bagging and random forests"
      ]
    },
    {
      "cell_type": "markdown",
      "metadata": {
        "id": "t7WSD6erVPrQ"
      },
      "source": [
        "Now that we're familiar with decision trees, let's explore some additional ways to find a sufficiently compled but not overfitted tree, as well as ways to make some inferences about the data."
      ]
    },
    {
      "cell_type": "markdown",
      "metadata": {
        "id": "Rs41Pb7KUmEO"
      },
      "source": [
        "## Goals of the lab:\n",
        "* Learn how to use the `randomForest` package to apply bagging and random forests to a sample dataset\n",
        "* Learn to use the `gbm` package to boost trees"
      ]
    },
    {
      "cell_type": "markdown",
      "metadata": {
        "id": "4yHIFoSf8_D7"
      },
      "source": [
        "Now we will apply bagging and random forests, again to the `Carseats` dataset, using the `randomForest` package."
      ]
    },
    {
      "cell_type": "markdown",
      "metadata": {
        "id": "d9dlR55w8_D7"
      },
      "source": [
        "Bagging is just a special case of a random forest with $m=p$, so the `randomForest()` function can be used for both purposes. "
      ]
    },
    {
      "cell_type": "code",
      "metadata": {
        "id": "gWmtZgQX8_D7",
        "colab": {
          "base_uri": "https://localhost:8080/"
        },
        "outputId": "207e774d-d2c5-4028-a165-4d6bfef33578"
      },
      "source": [
        "# install.packages('randomForest') # uncomment to install package\n",
        "library(randomForest)\n",
        "# install.packages('ISLR')\n",
        "library(ISLR) # Loading ISLR because this is where the Carseats dataset is."
      ],
      "execution_count": 5,
      "outputs": [
        {
          "output_type": "stream",
          "text": [
            "Installing package into ‘/usr/local/lib/R/site-library’\n",
            "(as ‘lib’ is unspecified)\n",
            "\n"
          ],
          "name": "stderr"
        }
      ]
    },
    {
      "cell_type": "code",
      "metadata": {
        "colab": {
          "base_uri": "https://localhost:8080/",
          "height": 170
        },
        "id": "_-bW-rDy8_D7",
        "outputId": "cc5ccb76-e694-4f63-e2dc-086d491e8d10"
      },
      "source": [
        "set.seed (2)\n",
        "idx = 1:nrow(Carseats)\n",
        "test=sample(idx, 50) #sample 50 for the test set\n",
        "tune = sample(idx[-test], 150) #150 for the tuning set\n",
        "train = idx[-c(test,tune)] ##select indices that are not in tune or test\n",
        "\n",
        "bag.sales=randomForest(Sales~.,data=Carseats, subset=train, mtry=10,\n",
        "                       importance=TRUE) # runs the bagging.\n",
        "#the arg. mtry=11 indicates that all 11 predictors should be considered\n",
        "#for each split of the tree (i.e., bagging should be done, m=p)\n",
        "bag.sales"
      ],
      "execution_count": 19,
      "outputs": [
        {
          "output_type": "display_data",
          "data": {
            "text/plain": [
              "\n",
              "Call:\n",
              " randomForest(formula = Sales ~ ., data = Carseats, mtry = 10,      importance = TRUE, subset = train) \n",
              "               Type of random forest: regression\n",
              "                     Number of trees: 500\n",
              "No. of variables tried at each split: 10\n",
              "\n",
              "          Mean of squared residuals: 2.992511\n",
              "                    % Var explained: 62.29"
            ]
          },
          "metadata": {
            "tags": []
          }
        }
      ]
    },
    {
      "cell_type": "markdown",
      "metadata": {
        "id": "izDXo2ZypPuu"
      },
      "source": [
        "Recall that \"bagging\" means we're fitting a decision tree to each of many permutations of our `Carseats` data set (giving us a \"forest\" of trees). We're then generating a prediction by taking the average of all those trees' predictions for a given observation. Let's look at the predicted values that this bagging technique generates for our test observations. "
      ]
    },
    {
      "cell_type": "code",
      "metadata": {
        "id": "mW-vSTbO8_D7",
        "colab": {
          "base_uri": "https://localhost:8080/",
          "height": 454
        },
        "outputId": "6a2dfd4c-2f84-4f2a-d31a-a256bfdf244b"
      },
      "source": [
        "#test set performance of this bagged regression\n",
        "sales.test = Carseats$Sales[-train]\n",
        "yhat.bag = predict(bag.sales, newdata=Carseats[-train ,])\n",
        "require(ggplot2)\n",
        "ggplot(data.frame(yhat=yhat.bag,y=sales.test),aes(x=y,y=yhat)) + \n",
        "    geom_point() + geom_abline(slope=1,intercept=0)\n",
        "mean((yhat.bag - sales.test)^2)"
      ],
      "execution_count": 22,
      "outputs": [
        {
          "output_type": "display_data",
          "data": {
            "text/plain": [
              "[1] 2.345912"
            ],
            "text/latex": "2.34591157277384",
            "text/markdown": "2.34591157277384",
            "text/html": [
              "2.34591157277384"
            ]
          },
          "metadata": {
            "tags": []
          }
        },
        {
          "output_type": "display_data",
          "data": {
            "image/png": "[encoded data removed]",
            "text/plain": [
              "plot without title"
            ]
          },
          "metadata": {
            "tags": [],
            "image/png": {
              "width": 420,
              "height": 420
            }
          }
        }
      ]
    },
    {
      "cell_type": "markdown",
      "metadata": {
        "id": "cEALQmG58_D7"
      },
      "source": [
        "The test set MSE associated with the bagged regression tree is ~2.34, much lower than that obtained using an optimally-pruned single tree in the last tutorial (6.26). Also notice that the predictions are no longer \"binned\" like they were in the prior tutorial - again, this is because each prediction is an average across many trees' predictions, not just the output of a single tree.\n",
        "\n",
        "We could change\n",
        "the number of trees grown by randomForest() using the ntree argument:"
      ]
    },
    {
      "cell_type": "code",
      "metadata": {
        "id": "47RrBoiJ8_D8",
        "colab": {
          "base_uri": "https://localhost:8080/",
          "height": 34
        },
        "outputId": "35779ccb-64a9-4925-b859-9cba1fe182d0"
      },
      "source": [
        "set.seed(4)\n",
        "bag.sales=randomForest(Sales~.,data=Carseats, subset=train, mtry=10,\n",
        "                       importance=TRUE, ntree=25) #grow 25 trees\n",
        "yhat.bag = predict (bag.sales,newdata=Carseats[-train ,])\n",
        "mean((yhat.bag-sales.test)^2)"
      ],
      "execution_count": 26,
      "outputs": [
        {
          "output_type": "display_data",
          "data": {
            "text/plain": [
              "[1] 2.53863"
            ],
            "text/latex": "2.53862951086978",
            "text/markdown": "2.53862951086978",
            "text/html": [
              "2.53862951086978"
            ]
          },
          "metadata": {
            "tags": []
          }
        }
      ]
    },
    {
      "cell_type": "markdown",
      "metadata": {
        "id": "PMV3pHx58_D8"
      },
      "source": [
        "Growing a random forest instead is implemented similarly. We just use a smaller value for the `mtry` argument. Note that, by default, randomForest() will use $p$/3 variables for building a random forest of regression trees, and $\\sqrt p$ variables for building a random forest of classification trees."
      ]
    },
    {
      "cell_type": "code",
      "metadata": {
        "id": "_BlqZcoR8_D8",
        "colab": {
          "base_uri": "https://localhost:8080/",
          "height": 34
        },
        "outputId": "d82363a7-6c8f-4062-dd30-89f767385ea7"
      },
      "source": [
        "set.seed(1)\n",
        "rf.sales=randomForest(Sales~.,data=Carseats, subset=train ,\n",
        "mtry=6, importance=TRUE)\n",
        "yhat.rf = predict(rf.sales, newdata=Carseats[-train ,])\n",
        "mean((yhat.rf-sales.test)^2)"
      ],
      "execution_count": 27,
      "outputs": [
        {
          "output_type": "display_data",
          "data": {
            "text/plain": [
              "[1] 2.450131"
            ],
            "text/latex": "2.45013126005531",
            "text/markdown": "2.45013126005531",
            "text/html": [
              "2.45013126005531"
            ]
          },
          "metadata": {
            "tags": []
          }
        }
      ]
    },
    {
      "cell_type": "markdown",
      "metadata": {
        "id": "6jbgPPz18_D8"
      },
      "source": [
        "The test set MSE is ~2.45. Random forests yielded an\n",
        "improvement over bagging in this case."
      ]
    },
    {
      "cell_type": "markdown",
      "metadata": {
        "id": "S-WPUr1O8_D8"
      },
      "source": [
        "The `importance()` function shows the importance of each variable. "
      ]
    },
    {
      "cell_type": "code",
      "metadata": {
        "id": "Z3Dviws78_D8",
        "colab": {
          "base_uri": "https://localhost:8080/",
          "height": 376
        },
        "outputId": "4e8a2db5-b1bc-487a-a6fa-3b3b09c4d4dc"
      },
      "source": [
        "importance(rf.sales)"
      ],
      "execution_count": 29,
      "outputs": [
        {
          "output_type": "display_data",
          "data": {
            "text/plain": [
              "            %IncMSE   IncNodePurity\n",
              "CompPrice   12.828147 142.431567   \n",
              "Income       4.002538  99.699909   \n",
              "Advertising 12.283050 123.400224   \n",
              "Population  -4.442861  54.708305   \n",
              "Price       43.961604 438.751679   \n",
              "ShelveLoc   53.619274 436.628853   \n",
              "Age         14.210471 147.267610   \n",
              "Education    1.987748  65.338171   \n",
              "Urban       -1.670795   9.161331   \n",
              "US           2.076824   9.101008   "
            ],
            "text/latex": "A matrix: 10 × 2 of type dbl\n\\begin{tabular}{r|ll}\n  & \\%IncMSE & IncNodePurity\\\\\n\\hline\n\tCompPrice & 12.828147 & 142.431567\\\\\n\tIncome &  4.002538 &  99.699909\\\\\n\tAdvertising & 12.283050 & 123.400224\\\\\n\tPopulation & -4.442861 &  54.708305\\\\\n\tPrice & 43.961604 & 438.751679\\\\\n\tShelveLoc & 53.619274 & 436.628853\\\\\n\tAge & 14.210471 & 147.267610\\\\\n\tEducation &  1.987748 &  65.338171\\\\\n\tUrban & -1.670795 &   9.161331\\\\\n\tUS &  2.076824 &   9.101008\\\\\n\\end{tabular}\n",
            "text/markdown": "\nA matrix: 10 × 2 of type dbl\n\n| <!--/--> | %IncMSE | IncNodePurity |\n|---|---|---|\n| CompPrice | 12.828147 | 142.431567 |\n| Income |  4.002538 |  99.699909 |\n| Advertising | 12.283050 | 123.400224 |\n| Population | -4.442861 |  54.708305 |\n| Price | 43.961604 | 438.751679 |\n| ShelveLoc | 53.619274 | 436.628853 |\n| Age | 14.210471 | 147.267610 |\n| Education |  1.987748 |  65.338171 |\n| Urban | -1.670795 |   9.161331 |\n| US |  2.076824 |   9.101008 |\n\n",
            "text/html": [
              "<table class=\"dataframe\">\n",
              "<caption>A matrix: 10 × 2 of type dbl</caption>\n",
              "<thead>\n",
              "\t<tr><th></th><th scope=col>%IncMSE</th><th scope=col>IncNodePurity</th></tr>\n",
              "</thead>\n",
              "<tbody>\n",
              "\t<tr><th scope=row>CompPrice</th><td>12.828147</td><td>142.431567</td></tr>\n",
              "\t<tr><th scope=row>Income</th><td> 4.002538</td><td> 99.699909</td></tr>\n",
              "\t<tr><th scope=row>Advertising</th><td>12.283050</td><td>123.400224</td></tr>\n",
              "\t<tr><th scope=row>Population</th><td>-4.442861</td><td> 54.708305</td></tr>\n",
              "\t<tr><th scope=row>Price</th><td>43.961604</td><td>438.751679</td></tr>\n",
              "\t<tr><th scope=row>ShelveLoc</th><td>53.619274</td><td>436.628853</td></tr>\n",
              "\t<tr><th scope=row>Age</th><td>14.210471</td><td>147.267610</td></tr>\n",
              "\t<tr><th scope=row>Education</th><td> 1.987748</td><td> 65.338171</td></tr>\n",
              "\t<tr><th scope=row>Urban</th><td>-1.670795</td><td>  9.161331</td></tr>\n",
              "\t<tr><th scope=row>US</th><td> 2.076824</td><td>  9.101008</td></tr>\n",
              "</tbody>\n",
              "</table>\n"
            ]
          },
          "metadata": {
            "tags": []
          }
        }
      ]
    },
    {
      "cell_type": "markdown",
      "metadata": {
        "id": "AUQYviHY8_D9"
      },
      "source": [
        "This shows two metrics of importance, `%IncMSE` and `IncNodePurity` (see the James ISLR textbook, p. 330 for explanation).\n",
        "\n",
        "You can visualize the relative importance of each variable using the below function. Here, we see that `ShelveLoc` and `Price` are the two most important predictor variables."
      ]
    },
    {
      "cell_type": "code",
      "metadata": {
        "id": "gXm59dty8_D9",
        "colab": {
          "base_uri": "https://localhost:8080/",
          "height": 437
        },
        "outputId": "c5cdc0e8-47d4-4140-a428-62d03cd0b94a"
      },
      "source": [
        "varImpPlot(rf.sales)"
      ],
      "execution_count": 30,
      "outputs": [
        {
          "output_type": "display_data",
          "data": {
            "image/png": "[encoded data removed]",
            "text/plain": [
              "plot without title"
            ]
          },
          "metadata": {
            "tags": [],
            "image/png": {
              "width": 420,
              "height": 420
            }
          }
        }
      ]
    },
    {
      "cell_type": "markdown",
      "metadata": {
        "id": "Bcy8SrKw8_D9"
      },
      "source": [
        "# Boosting"
      ]
    },
    {
      "cell_type": "markdown",
      "metadata": {
        "id": "CV8XS2Kv8_D9"
      },
      "source": [
        "Here we'll use the `gbm` package and the `gbm()` function to fit boosted regression trees, still using the `Carseats` dataset."
      ]
    },
    {
      "cell_type": "code",
      "metadata": {
        "id": "yxc7p-Wh8_D9"
      },
      "source": [
        "# install.packages('gbm')\n",
        "library(gbm)"
      ],
      "execution_count": 32,
      "outputs": []
    },
    {
      "cell_type": "code",
      "metadata": {
        "id": "LkpvbttV8_D9"
      },
      "source": [
        "set.seed (1)\n",
        "boost.sales =gbm(Sales~.,data=Carseats[train ,], distribution=\n",
        "                  \"gaussian\", n.trees=5000, interaction.depth=4)"
      ],
      "execution_count": 33,
      "outputs": []
    },
    {
      "cell_type": "markdown",
      "metadata": {
        "id": "miEdG-Rh8_D-"
      },
      "source": [
        "Here, we'll use gbm() with\n",
        "distribution=\"gaussian\" because this is a regression problem. If it were binary\n",
        "classification, we would use distribution=\"bernoulli\". The\n",
        "argument n.trees=5000 means that we want 5000 trees. The option\n",
        "interaction.depth=4 limits the depth of each tree."
      ]
    },
    {
      "cell_type": "markdown",
      "metadata": {
        "id": "56THizDt8_D-"
      },
      "source": [
        "`summary()` will produce a table of relative influence statistics for each variable, and a relative influence plot.\n",
        "\n",
        "You can see that lstat and rm are the most important variables.\n",
        "\n",
        "See p. 331 for an extension of this called partial dependence plots. These plots show the marginal effect of selected variables on the outcome after accounting for the effect of the other variables. "
      ]
    },
    {
      "cell_type": "code",
      "metadata": {
        "id": "RfQewXHE8_D-",
        "colab": {
          "base_uri": "https://localhost:8080/",
          "height": 827
        },
        "outputId": "d238758a-9a4e-4f2a-c73c-3be2cd2cb9ac"
      },
      "source": [
        "summary(boost.sales)"
      ],
      "execution_count": 34,
      "outputs": [
        {
          "output_type": "display_data",
          "data": {
            "text/plain": [
              "            var         rel.inf   \n",
              "Price       Price       26.3976801\n",
              "ShelveLoc   ShelveLoc   21.7573639\n",
              "CompPrice   CompPrice   13.0507087\n",
              "Age         Age         10.1364627\n",
              "Advertising Advertising  9.6807429\n",
              "Income      Income       9.2179495\n",
              "Population  Population   6.2685891\n",
              "Education   Education    2.6010816\n",
              "Urban       Urban        0.6003349\n",
              "US          US           0.2890865"
            ],
            "text/latex": "A data.frame: 10 × 2\n\\begin{tabular}{r|ll}\n  & var & rel.inf\\\\\n  & <chr> & <dbl>\\\\\n\\hline\n\tPrice & Price       & 26.3976801\\\\\n\tShelveLoc & ShelveLoc   & 21.7573639\\\\\n\tCompPrice & CompPrice   & 13.0507087\\\\\n\tAge & Age         & 10.1364627\\\\\n\tAdvertising & Advertising &  9.6807429\\\\\n\tIncome & Income      &  9.2179495\\\\\n\tPopulation & Population  &  6.2685891\\\\\n\tEducation & Education   &  2.6010816\\\\\n\tUrban & Urban       &  0.6003349\\\\\n\tUS & US          &  0.2890865\\\\\n\\end{tabular}\n",
            "text/markdown": "\nA data.frame: 10 × 2\n\n| <!--/--> | var &lt;chr&gt; | rel.inf &lt;dbl&gt; |\n|---|---|---|\n| Price | Price       | 26.3976801 |\n| ShelveLoc | ShelveLoc   | 21.7573639 |\n| CompPrice | CompPrice   | 13.0507087 |\n| Age | Age         | 10.1364627 |\n| Advertising | Advertising |  9.6807429 |\n| Income | Income      |  9.2179495 |\n| Population | Population  |  6.2685891 |\n| Education | Education   |  2.6010816 |\n| Urban | Urban       |  0.6003349 |\n| US | US          |  0.2890865 |\n\n",
            "text/html": [
              "<table class=\"dataframe\">\n",
              "<caption>A data.frame: 10 × 2</caption>\n",
              "<thead>\n",
              "\t<tr><th></th><th scope=col>var</th><th scope=col>rel.inf</th></tr>\n",
              "\t<tr><th></th><th scope=col>&lt;chr&gt;</th><th scope=col>&lt;dbl&gt;</th></tr>\n",
              "</thead>\n",
              "<tbody>\n",
              "\t<tr><th scope=row>Price</th><td>Price      </td><td>26.3976801</td></tr>\n",
              "\t<tr><th scope=row>ShelveLoc</th><td>ShelveLoc  </td><td>21.7573639</td></tr>\n",
              "\t<tr><th scope=row>CompPrice</th><td>CompPrice  </td><td>13.0507087</td></tr>\n",
              "\t<tr><th scope=row>Age</th><td>Age        </td><td>10.1364627</td></tr>\n",
              "\t<tr><th scope=row>Advertising</th><td>Advertising</td><td> 9.6807429</td></tr>\n",
              "\t<tr><th scope=row>Income</th><td>Income     </td><td> 9.2179495</td></tr>\n",
              "\t<tr><th scope=row>Population</th><td>Population </td><td> 6.2685891</td></tr>\n",
              "\t<tr><th scope=row>Education</th><td>Education  </td><td> 2.6010816</td></tr>\n",
              "\t<tr><th scope=row>Urban</th><td>Urban      </td><td> 0.6003349</td></tr>\n",
              "\t<tr><th scope=row>US</th><td>US         </td><td> 0.2890865</td></tr>\n",
              "</tbody>\n",
              "</table>\n"
            ]
          },
          "metadata": {
            "tags": []
          }
        },
        {
          "output_type": "display_data",
          "data": {
            "image/png": "[encoded data removed]",
            "text/plain": [
              "plot without title"
            ]
          },
          "metadata": {
            "tags": [],
            "image/png": {
              "width": 420,
              "height": 420
            }
          }
        }
      ]
    },
    {
      "cell_type": "markdown",
      "metadata": {
        "id": "Dds3EjPP8_D-"
      },
      "source": [
        "Now we'll use the boosted model to predict `Sales` in the test set. "
      ]
    },
    {
      "cell_type": "code",
      "metadata": {
        "id": "vxbW3wOE8_D-",
        "colab": {
          "base_uri": "https://localhost:8080/",
          "height": 34
        },
        "outputId": "7a07542d-92ff-4402-af48-ac5d0adad336"
      },
      "source": [
        "yhat.boost=predict(boost.sales,newdata=Carseats[-train ,],\n",
        "n.trees=5000)\n",
        "mean((yhat.boost - sales.test)^2)"
      ],
      "execution_count": 36,
      "outputs": [
        {
          "output_type": "display_data",
          "data": {
            "text/plain": [
              "[1] 2.025846"
            ],
            "text/latex": "2.02584604298047",
            "text/markdown": "2.02584604298047",
            "text/html": [
              "2.02584604298047"
            ]
          },
          "metadata": {
            "tags": []
          }
        }
      ]
    },
    {
      "cell_type": "markdown",
      "metadata": {
        "id": "lV3s7qxE8_D-"
      },
      "source": [
        "The test MSE obtained is 2.03, which is the best test MSE we've gotten yet!"
      ]
    },
    {
      "cell_type": "markdown",
      "metadata": {
        "id": "S0rKC79v8_D_"
      },
      "source": [
        "*Note*: You can also construct boosted trees using a different value of the shrinkage parameter, $\\lambda$, by specifying the shrinkage argument within the `gbm()` function. For example:\n",
        "\n",
        "`boost.sales = gbm(Sales ∼.,data=Carseats[train ,], distribution=\n",
        "\"gaussian \",n.trees=5000 , interaction.depth=4, shrinkage=0.2,\n",
        "verbose=F)`"
      ]
    },
    {
      "cell_type": "markdown",
      "metadata": {
        "id": "efSGQ7MjVFec"
      },
      "source": [
        "*Notebook authored by Ven Popov and edited by Krista Bond, Charles Wu, and Patience Stevens*"
      ]
    }
  ]
}