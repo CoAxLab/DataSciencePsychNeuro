{
 "cells": [
  {
   "cell_type": "markdown",
   "metadata": {},
   "source": [
    "# Exercises: Coding Habits & Functions"
   ]
  },
  {
   "cell_type": "markdown",
   "metadata": {},
   "source": [
    "This assignment will give you some practice writing your own functions and using the coding best practices discussed in the tutorial.\n",
    "\n",
    "---"
   ]
  },
  {
   "cell_type": "markdown",
   "metadata": {},
   "source": [
    "&nbsp; 1. Write a function that takes a vector of numbers `x` and returns the length, mean, and standard deviation of `x` as a new vector. In keeping with our best practices, give the function a short but descriptive name, and use snake case if it involves multiple words. \n",
    "\n",
    "Hint: Vectors are define in R using the `c()` command."
   ]
  },
  {
   "cell_type": "code",
   "execution_count": 36,
   "metadata": {},
   "outputs": [],
   "source": [
    "summary_fun  <- function(x){\n",
    "    len  <- length(x)\n",
    "    mean  <- mean(x, na.rm = T)\n",
    "    sd  <- sd(x, na.rm = T)\n",
    "    sums  <- c(len, mean, sd)\n",
    "    return(sums)\n",
    "}"
   ]
  },
  {
   "cell_type": "markdown",
   "metadata": {},
   "source": [
    "Calculate the summary statistics of vector `v1`."
   ]
  },
  {
   "cell_type": "code",
   "execution_count": 39,
   "metadata": {
    "scrolled": true
   },
   "outputs": [
    {
     "data": {
      "text/html": [
       "<style>\n",
       ".list-inline {list-style: none; margin:0; padding: 0}\n",
       ".list-inline>li {display: inline-block}\n",
       ".list-inline>li:not(:last-child)::after {content: \"\\00b7\"; padding: 0 .5ex}\n",
       "</style>\n",
       "<ol class=list-inline><li>5</li><li>7.75</li><li>2.75378527364305</li></ol>\n"
      ],
      "text/latex": [
       "\\begin{enumerate*}\n",
       "\\item 5\n",
       "\\item 7.75\n",
       "\\item 2.75378527364305\n",
       "\\end{enumerate*}\n"
      ],
      "text/markdown": [
       "1. 5\n",
       "2. 7.75\n",
       "3. 2.75378527364305\n",
       "\n",
       "\n"
      ],
      "text/plain": [
       "[1] 5.000000 7.750000 2.753785"
      ]
     },
     "metadata": {},
     "output_type": "display_data"
    }
   ],
   "source": [
    "v1  <- c(5, 11, 6, NA, 9)\n",
    "summary_fun(v1)"
   ]
  },
  {
   "cell_type": "markdown",
   "metadata": {},
   "source": [
    "&nbsp; 3. The formula for a t-test is:"
   ]
  },
  {
   "cell_type": "markdown",
   "metadata": {},
   "source": [
    "$$ \\frac{m- \\mu}{ \\frac{s}{\\sqrt{n}}} $$"
   ]
  },
  {
   "cell_type": "markdown",
   "metadata": {},
   "source": [
    "Where m is the sample mean, $\\mu$ (mu) is the population mean, s is the standard deviation, and n is the sample size.\n",
    "\n",
    "Using your function above as a starting point, write a new function `ttest_fun` that compares a vector `x` to a given population mean mu and calculates the t-statistic. Keep the coding best practices in mind.\n",
    "\n",
    "Hint: You will need to add another argument for mu."
   ]
  },
  {
   "cell_type": "code",
   "execution_count": 43,
   "metadata": {},
   "outputs": [],
   "source": [
    "ttest_fun  <- function(x, mu){\n",
    "    len  <- length(x)\n",
    "    mean  <- mean(x, na.rm = T)\n",
    "    sd  <- sd(x, na.rm = T)\n",
    "    tstat  <- (mean - mu)/(sd/sqrt(len))\n",
    "    return(tstat)\n",
    "}"
   ]
  },
  {
   "cell_type": "markdown",
   "metadata": {},
   "source": [
    "Use your function to compare the mean of v1 to 10."
   ]
  },
  {
   "cell_type": "code",
   "execution_count": 46,
   "metadata": {},
   "outputs": [
    {
     "data": {
      "text/html": [
       "-1.82699537161759"
      ],
      "text/latex": [
       "-1.82699537161759"
      ],
      "text/markdown": [
       "-1.82699537161759"
      ],
      "text/plain": [
       "[1] -1.826995"
      ]
     },
     "metadata": {},
     "output_type": "display_data"
    }
   ],
   "source": [
    "ttest_fun(v1, 10)"
   ]
  },
  {
   "cell_type": "markdown",
   "metadata": {},
   "source": [
    "&nbsp; 4. Set the default value of mu to 0, and test it below by supplying only `v2` as an argument."
   ]
  },
  {
   "cell_type": "code",
   "execution_count": 47,
   "metadata": {},
   "outputs": [],
   "source": [
    "ttest_fun  <- function(x, mu = 0){\n",
    "    len  <- length(x)\n",
    "    mean  <- mean(x, na.rm = T)\n",
    "    sd  <- sd(x, na.rm = T)\n",
    "    tstat  <- (mean - mu)/(sd/sqrt(len))\n",
    "    return(tstat)\n",
    "}"
   ]
  },
  {
   "cell_type": "code",
   "execution_count": 49,
   "metadata": {},
   "outputs": [
    {
     "data": {
      "text/html": [
       "1.59922547625212"
      ],
      "text/latex": [
       "1.59922547625212"
      ],
      "text/markdown": [
       "1.59922547625212"
      ],
      "text/plain": [
       "[1] 1.599225"
      ]
     },
     "metadata": {},
     "output_type": "display_data"
    }
   ],
   "source": [
    "ttest_fun(v2)"
   ]
  },
  {
   "cell_type": "markdown",
   "metadata": {},
   "source": [
    "How does your result compare to R's built-in `t.test()` function?"
   ]
  },
  {
   "cell_type": "code",
   "execution_count": 50,
   "metadata": {},
   "outputs": [
    {
     "data": {
      "text/plain": [
       "\n",
       "\tOne Sample t-test\n",
       "\n",
       "data:  v2\n",
       "t = 1.5992, df = 3, p-value = 0.2081\n",
       "alternative hypothesis: true mean is not equal to 0\n",
       "95 percent confidence interval:\n",
       " -4.207467 12.707467\n",
       "sample estimates:\n",
       "mean of x \n",
       "     4.25 \n"
      ]
     },
     "metadata": {},
     "output_type": "display_data"
    }
   ],
   "source": [
    "t.test(v2)"
   ]
  }
 ],
 "metadata": {
  "kernelspec": {
   "display_name": "R",
   "language": "R",
   "name": "ir"
  },
  "language_info": {
   "codemirror_mode": "r",
   "file_extension": ".r",
   "mimetype": "text/x-r-source",
   "name": "R",
   "pygments_lexer": "r",
   "version": "4.2.0"
  }
 },
 "nbformat": 4,
 "nbformat_minor": 4
}
